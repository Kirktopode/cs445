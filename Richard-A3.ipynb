{
 "cells": [
  {
   "cell_type": "markdown",
   "metadata": {},
   "source": [
    "# NNet class in Pytorch"
   ]
  },
  {
   "cell_type": "markdown",
   "metadata": {},
   "source": [
    "In this assignment you will complete an implementation of a neural network class that uses `pytorch`.  You will then use it to conduct some training experiments on specified data.  The data will be partitioned into some number of non-intersecting folds.  You will train, validate and test neural networks of various sizes on all ways of picking one fold to be testing, one fold to be validation, and remaining folds to be training sets."
   ]
  },
  {
   "cell_type": "markdown",
   "metadata": {},
   "source": [
    "## Implementation"
   ]
  },
  {
   "cell_type": "code",
   "execution_count": 2,
   "metadata": {},
   "outputs": [],
   "source": [
    "import numpy as np\n",
    "import torch\n",
    "import pandas\n",
    "import matplotlib.pyplot as plt"
   ]
  },
  {
   "cell_type": "code",
   "execution_count": 3,
   "metadata": {},
   "outputs": [
    {
     "data": {
      "text/plain": [
       "True"
      ]
     },
     "execution_count": 3,
     "metadata": {},
     "output_type": "execute_result"
    }
   ],
   "source": [
    "torch.cuda.is_available()"
   ]
  },
  {
   "cell_type": "markdown",
   "metadata": {},
   "source": [
    "Complete the following definition of class `NNet` by completing its `train` and `use` functions.  These functions must be completed the *PyTorch* way, which is **not** identical to how you completed the network in A2 (though the same principles apply)!"
   ]
  },
  {
   "cell_type": "code",
   "execution_count": 16,
   "metadata": {},
   "outputs": [],
   "source": [
    "class NNet(torch.nn.Module):\n",
    "    \n",
    "    def __init__(self, n_inputs, n_hiddens_per_layer, n_outputs, act_func='tanh', use_gpu=False):\n",
    "        super().__init__()  # call parent class (torch.nn.Module) constructor\n",
    "        \n",
    "        # Set self.n_hiddens_per_layer to [] if argument is 0, [], or [0]\n",
    "        if n_hiddens_per_layer == 0 or n_hiddens_per_layer == [] or n_hiddens_per_layer == [0]:\n",
    "            self.n_hiddens_per_layer = []\n",
    "        else:\n",
    "            self.n_hiddens_per_layer = n_hiddens_per_layer\n",
    "\n",
    "        self.hidden_layers = torch.nn.ModuleList()  # necessary for model.to('cuda')\n",
    "\n",
    "        for nh in self.n_hiddens_per_layer:\n",
    "            self.hidden_layers.append( torch.nn.Sequential(\n",
    "                torch.nn.Linear(n_inputs, nh),\n",
    "                torch.nn.Tanh() if act_func == 'tanh' else torch.nn.ReLU()))\n",
    "            \n",
    "            n_inputs = nh\n",
    "\n",
    "        self.output_layer = torch.nn.Linear(n_inputs, n_outputs)\n",
    "            \n",
    "        self.Xmeans = None\n",
    "        self.Xstds = None\n",
    "        self.Tmeans = None\n",
    "        self.Tstds = None\n",
    "\n",
    "        self.error_trace = []\n",
    "        \n",
    "        self.use_gpu = use_gpu\n",
    "        if self.use_gpu:\n",
    "            self.to('cuda')\n",
    "        \n",
    "    def forward(self, X):\n",
    "        Y = X\n",
    "        for hidden_layer in self.hidden_layers:\n",
    "            Y = hidden_layer(Y)\n",
    "        Y = self.output_layer(Y)\n",
    "        return Y\n",
    "\n",
    "    def train(self, X, T, n_epochs, learning_rate, verbose=True):\n",
    "\n",
    "        # Set data matrices to torch.tensors if not already.\n",
    "        if not isinstance(X, torch.Tensor):\n",
    "            X = torch.from_numpy(X).float()\n",
    "        if not isinstance(T, torch.Tensor):\n",
    "            T = torch.from_numpy(T).float()\n",
    "        \n",
    "        if self.use_gpu:\n",
    "            X = X.to('cuda')\n",
    "            T = T.to('cuda')\n",
    "        \n",
    "        # Calculate standardization parameters if not already calculated\n",
    "        if self.Xmeans is None:\n",
    "            self.Xmeans = X.mean(0)\n",
    "            self.Xstds = X.std(0)\n",
    "            self.Xstds[self.Xstds == 0] = 1\n",
    "            self.Tmeans = T.mean(0)\n",
    "            self.Tstds = T.std(0)\n",
    "            self.Tstds[self.Tstds == 0] = 1\n",
    "            \n",
    "        # Standardize inputs and targets\n",
    "        X = (X - self.Xmeans) / self.Xstds\n",
    "        T = (T - self.Tmeans) / self.Tstds\n",
    "        \n",
    "        # Set optimizer to Adam and loss functions to MSELoss\n",
    "        optimizer = torch.optim.Adam(self.parameters(), lr=learning_rate)\n",
    "        mse_func = torch.nn.MSELoss()\n",
    "\n",
    "        # For each epoch:\n",
    "        #   Do forward pass to calculate output Y.\n",
    "        #   Calculate mean squared error loss, mse.\n",
    "        #   Calculate gradient of mse with respect to all weights by calling mse.backward().\n",
    "        #   Take weight update step, then zero the gradient values.\n",
    "        #   Unstandardize the mse error and save in self.error_trace\n",
    "        #   Print epoch+1 and unstandardized error if verbose is True and\n",
    "        #             (epoch+1 is n_epochs or epoch+1 % (n_epochs // 10) == 0)\n",
    "        \n",
    "        for epoch in range(n_epochs):\n",
    "\n",
    "            Y = self.forward(X)\n",
    "            \n",
    "            mse = mse_func(T, Y)\n",
    "            mse.backward()\n",
    "            \n",
    "            optimizer.step()\n",
    "            optimizer.zero_grad()\n",
    "            \n",
    "            rmse = torch.sqrt(mse) * self.Tstds\n",
    "            self.error_trace.append(rmse)\n",
    "            \n",
    "            \n",
    "            if verbose and (epoch + 1 == n_epochs or (epoch + 1) % (n_epochs // 10) == 0):\n",
    "                print(f'Epoch {epoch + 1}: RMSE {rmse:.3f}')\n",
    "\n",
    "    def use(self, X):\n",
    " \n",
    "       # Set input matrix to torch.tensors if not already.\n",
    "        if not isinstance(X, torch.Tensor):\n",
    "            X = torch.from_numpy(X).float()\n",
    "            \n",
    "        if self.use_gpu:\n",
    "            X = X.to('cuda')\n",
    "\n",
    "        # Standardize X\n",
    "        X = (X - self.Xmeans) / self.Xstds\n",
    "        \n",
    "        # Do forward pass and unstandardize resulting output. Assign to variable Y.\n",
    "        Y = self.forward(X)\n",
    "        \n",
    "        Y = Y * self.Tstds + self.Tmeans\n",
    "        \n",
    "        # Return output Y after detaching from computation graph and converting to numpy\n",
    "        return Y.cpu().detach().numpy()\n"
   ]
  },
  {
   "cell_type": "markdown",
   "metadata": {},
   "source": [
    "## Example"
   ]
  },
  {
   "cell_type": "code",
   "execution_count": 5,
   "metadata": {},
   "outputs": [
    {
     "name": "stdout",
     "output_type": "stream",
     "text": [
      "Epoch 5: RMSE 11.155\n",
      "Epoch 10: RMSE 6.062\n",
      "Epoch 15: RMSE 5.169\n",
      "Epoch 20: RMSE 2.103\n",
      "Epoch 25: RMSE 2.317\n",
      "Epoch 30: RMSE 2.636\n",
      "Epoch 35: RMSE 1.463\n",
      "Epoch 40: RMSE 1.137\n",
      "Epoch 45: RMSE 1.170\n",
      "Epoch 50: RMSE 0.922\n",
      "RMSE 0.867\n"
     ]
    }
   ],
   "source": [
    "torch.manual_seed(42)\n",
    "np.random.seed(42)\n",
    "    \n",
    "n_samples = 10000\n",
    "X = np.linspace(0, 10, n_samples).reshape((-1, 1))\n",
    "T = X ** 2\n",
    "\n",
    "n_samples, n_inputs = X.shape \n",
    "n_outputs = T.shape[1]\n",
    "\n",
    "n_hiddens = [100, 100]\n",
    "net = NNet(n_inputs, n_hiddens, n_outputs, act_func='relu')\n",
    "net.train(X, T, 50, 0.01)\n",
    "Y = net.use(X)\n",
    "\n",
    "def rmse(Y, T):\n",
    "    return np.sqrt(np.mean((T - Y)**2))\n",
    "\n",
    "print(f'RMSE {rmse(Y, T):.3f}')"
   ]
  },
  {
   "cell_type": "code",
   "execution_count": 48,
   "metadata": {},
   "outputs": [
    {
     "data": {
      "image/png": "[encoded data removed]",
      "text/plain": [
       "<Figure size 1080x576 with 2 Axes>"
      ]
     },
     "metadata": {
      "needs_background": "light"
     },
     "output_type": "display_data"
    }
   ],
   "source": [
    "plt.figure(figsize=(15, 8))\n",
    "\n",
    "plt.subplot(1, 2, 1)\n",
    "plt.plot(T, label='T')\n",
    "plt.plot(Y, label='Y')\n",
    "plt.legend()\n",
    "\n",
    "plt.subplot(1, 2, 2)\n",
    "plt.plot(T, Y, '.')\n",
    "a = max(np.min(T), np.min(Y))\n",
    "b = min(np.max(T), np.max(Y))\n",
    "plt.plot([a, b], [a, b], lw=10, alpha=0.5)\n",
    "plt.xlabel('T')\n",
    "plt.ylabel('Y')\n",
    "plt.tight_layout()"
   ]
  },
  {
   "cell_type": "markdown",
   "metadata": {},
   "source": [
    "# Function to generate all train, validate, and test partitions given number of folds"
   ]
  },
  {
   "cell_type": "markdown",
   "metadata": {},
   "source": [
    "## Implementation"
   ]
  },
  {
   "cell_type": "markdown",
   "metadata": {},
   "source": [
    "This is complete code for `generate_k_fold_cross_validation_sets`."
   ]
  },
  {
   "cell_type": "code",
   "execution_count": 6,
   "metadata": {},
   "outputs": [],
   "source": [
    "def generate_k_fold_cross_validation_sets(X, T, n_folds, shuffle=True):\n",
    "\n",
    "    if shuffle:\n",
    "        # Randomly order X and T\n",
    "        randorder = np.arange(X.shape[0])\n",
    "        np.random.shuffle(randorder)\n",
    "        X = X[randorder, :]\n",
    "        T = T[randorder, :]\n",
    "\n",
    "    # Partition X and T into folds\n",
    "    n_samples = X.shape[0]\n",
    "    n_per_fold = round(n_samples / n_folds)\n",
    "    n_last_fold = n_samples - n_per_fold * (n_folds - 1)\n",
    "\n",
    "    folds = []\n",
    "    start = 0\n",
    "    for foldi in range(n_folds-1):\n",
    "        folds.append( (X[start:start + n_per_fold, :], T[start:start + n_per_fold, :]) )\n",
    "        start += n_per_fold\n",
    "    folds.append( (X[start:, :], T[start:, :]) )\n",
    "\n",
    "    # Yield k(k-1) assignments of Xtrain, Train, Xvalidate, Tvalidate, Xtest, Ttest\n",
    "\n",
    "    for validation_i in range(n_folds):\n",
    "        for test_i in range(n_folds):\n",
    "            if test_i == validation_i:\n",
    "                continue\n",
    "\n",
    "            train_i = np.setdiff1d(range(n_folds), [validation_i, test_i])\n",
    "\n",
    "            Xvalidate, Tvalidate = folds[validation_i]\n",
    "            Xtest, Ttest = folds[test_i]\n",
    "            if len(train_i) > 1:\n",
    "                Xtrain = np.vstack([folds[i][0] for i in train_i])\n",
    "                Ttrain = np.vstack([folds[i][1] for i in train_i])\n",
    "            else:\n",
    "                Xtrain, Ttrain = folds[train_i[0]]\n",
    "\n",
    "            yield Xtrain, Ttrain, Xvalidate, Tvalidate, Xtest, Ttest"
   ]
  },
  {
   "cell_type": "markdown",
   "metadata": {},
   "source": [
    "## Example"
   ]
  },
  {
   "cell_type": "code",
   "execution_count": 74,
   "metadata": {},
   "outputs": [
    {
     "data": {
      "text/plain": [
       "(array([[ 0,  1],\n",
       "        [ 2,  3],\n",
       "        [ 4,  5],\n",
       "        [ 6,  7],\n",
       "        [ 8,  9],\n",
       "        [10, 11]]),\n",
       " array([[ 0],\n",
       "        [10],\n",
       "        [20],\n",
       "        [30],\n",
       "        [40],\n",
       "        [50]]))"
      ]
     },
     "execution_count": 74,
     "metadata": {},
     "output_type": "execute_result"
    }
   ],
   "source": [
    "X = np.arange(2 * 6).reshape((6, 2))\n",
    "T = np.arange(6).reshape((6, 1)) * 10\n",
    "X, T"
   ]
  },
  {
   "cell_type": "code",
   "execution_count": 76,
   "metadata": {},
   "outputs": [
    {
     "name": "stdout",
     "output_type": "stream",
     "text": [
      "\n",
      "Xtrain\n",
      " [[8 9]\n",
      " [6 7]]\n",
      "Ttrain\n",
      " [[40]\n",
      " [30]]\n",
      "Xvalidate\n",
      " [[0 1]\n",
      " [2 3]]\n",
      "Tvalidate\n",
      " [[ 0]\n",
      " [10]]\n",
      "Xtest\n",
      " [[10 11]\n",
      " [ 4  5]]\n",
      "Ttest\n",
      " [[50]\n",
      " [20]]\n",
      "\n",
      "Xtrain\n",
      " [[10 11]\n",
      " [ 4  5]]\n",
      "Ttrain\n",
      " [[50]\n",
      " [20]]\n",
      "Xvalidate\n",
      " [[0 1]\n",
      " [2 3]]\n",
      "Tvalidate\n",
      " [[ 0]\n",
      " [10]]\n",
      "Xtest\n",
      " [[8 9]\n",
      " [6 7]]\n",
      "Ttest\n",
      " [[40]\n",
      " [30]]\n",
      "\n",
      "Xtrain\n",
      " [[8 9]\n",
      " [6 7]]\n",
      "Ttrain\n",
      " [[40]\n",
      " [30]]\n",
      "Xvalidate\n",
      " [[10 11]\n",
      " [ 4  5]]\n",
      "Tvalidate\n",
      " [[50]\n",
      " [20]]\n",
      "Xtest\n",
      " [[0 1]\n",
      " [2 3]]\n",
      "Ttest\n",
      " [[ 0]\n",
      " [10]]\n",
      "\n",
      "Xtrain\n",
      " [[0 1]\n",
      " [2 3]]\n",
      "Ttrain\n",
      " [[ 0]\n",
      " [10]]\n",
      "Xvalidate\n",
      " [[10 11]\n",
      " [ 4  5]]\n",
      "Tvalidate\n",
      " [[50]\n",
      " [20]]\n",
      "Xtest\n",
      " [[8 9]\n",
      " [6 7]]\n",
      "Ttest\n",
      " [[40]\n",
      " [30]]\n",
      "\n",
      "Xtrain\n",
      " [[10 11]\n",
      " [ 4  5]]\n",
      "Ttrain\n",
      " [[50]\n",
      " [20]]\n",
      "Xvalidate\n",
      " [[8 9]\n",
      " [6 7]]\n",
      "Tvalidate\n",
      " [[40]\n",
      " [30]]\n",
      "Xtest\n",
      " [[0 1]\n",
      " [2 3]]\n",
      "Ttest\n",
      " [[ 0]\n",
      " [10]]\n",
      "\n",
      "Xtrain\n",
      " [[0 1]\n",
      " [2 3]]\n",
      "Ttrain\n",
      " [[ 0]\n",
      " [10]]\n",
      "Xvalidate\n",
      " [[8 9]\n",
      " [6 7]]\n",
      "Tvalidate\n",
      " [[40]\n",
      " [30]]\n",
      "Xtest\n",
      " [[10 11]\n",
      " [ 4  5]]\n",
      "Ttest\n",
      " [[50]\n",
      " [20]]\n"
     ]
    }
   ],
   "source": [
    "np.random.seed(42)\n",
    "\n",
    "for Xtrain, Ttrain, Xvalidate, Tvalidate, Xtest, Ttest in generate_k_fold_cross_validation_sets(X, T, 3):\n",
    "    print()\n",
    "    print('Xtrain\\n', Xtrain)\n",
    "    print('Ttrain\\n', Ttrain)\n",
    "    print('Xvalidate\\n', Xvalidate)\n",
    "    print('Tvalidate\\n', Tvalidate)\n",
    "    print('Xtest\\n', Xtest)\n",
    "    print('Ttest\\n', Ttest)\n",
    "    "
   ]
  },
  {
   "cell_type": "markdown",
   "metadata": {},
   "source": [
    "# Function to train NNets and average RMSE over all ways of partitioning"
   ]
  },
  {
   "cell_type": "markdown",
   "metadata": {},
   "source": [
    "## Implementation"
   ]
  },
  {
   "cell_type": "markdown",
   "metadata": {},
   "source": [
    "Define the following function that trains neural networks of different architectures, given by `list_of_n_hiddens`, for one value each of `n_epochs`, `learning_rate`, and `act_fun`.  For each network, train on all k-fold cross-validation training sets, and calculate the RMSEs for the training, validation and test. Calculate the mean of training, validation and test RMSEs over the k-fold partitions, so that you have one training, one validation, and one test set RMSE for each network.  Append a list of the architecture and these three mean RMSEs to a list of results and return the list as a pandas DataFrame described below when done.\n",
    "\n",
    "To iterate over all k-fold partitions, use a for loop like the example in the previous code cell. Call `generate_k_fold_cross_validation_sets` with `shuffle=True`. "
   ]
  },
  {
   "cell_type": "code",
   "execution_count": 7,
   "metadata": {},
   "outputs": [],
   "source": [
    "def run_k_fold_cross_validation(X, T, n_folds, list_of_n_hiddens, \n",
    "                                n_epochs, learning_rate, act_func, use_gpu=False):\n",
    "    data = []\n",
    "    for n_hiddens in list_of_n_hiddens:\n",
    "        training_rmse = 0\n",
    "        validation_rmse = 0\n",
    "        test_rmse = 0\n",
    "        for Xtrain, Ttrain, Xvalidate, Tvalidate, Xtest, Ttest in generate_k_fold_cross_validation_sets(X, T, n_folds):\n",
    "            \n",
    "            n_inputs = X.shape[1]\n",
    "            n_outputs = T.shape[1]\n",
    "            \n",
    "            net = NNet(n_inputs, n_hiddens, n_outputs, act_func, use_gpu=use_gpu)\n",
    "            \n",
    "            net.train(Xtrain, Ttrain, n_epochs, learning_rate, verbose=False)\n",
    "            Ytrain = net.use(Xtrain)\n",
    "            \n",
    "            training_rmse += rmse(Ytrain, Ttrain)\n",
    "            \n",
    "            Yvalidate = net.use(Xvalidate)\n",
    "            validation_rmse += rmse(Yvalidate, Tvalidate)\n",
    "            \n",
    "            Ytest = net.use(Xtest)\n",
    "            test_rmse += rmse(Yvalidate, Tvalidate)\n",
    "        \n",
    "        training_rmse /= len(list_of_n_hiddens)\n",
    "        validation_rmse /= len(list_of_n_hiddens)\n",
    "        test_rmse /= len(list_of_n_hiddens)\n",
    "        data.append([n_hiddens, training_rmse, validation_rmse, test_rmse])\n",
    "    data = pandas.DataFrame(data, columns=['Arch', 'Train RMSE', 'Validate RMSE', 'Test RMSE'])\n",
    "    return data\n",
    "            \n",
    "        "
   ]
  },
  {
   "cell_type": "markdown",
   "metadata": {},
   "source": [
    "## Apply to Airfoil Data"
   ]
  },
  {
   "cell_type": "markdown",
   "metadata": {},
   "source": [
    "Download `airfoil_self_noise.dat` from [Airfoil Data Website](https://archive.ics.uci.edu/ml/datasets/Airfoil+Self-Noise) and read it as shown below."
   ]
  },
  {
   "cell_type": "code",
   "execution_count": 22,
   "metadata": {},
   "outputs": [
    {
     "data": {
      "text/html": [
       "<div>\n",
       "<style scoped>\n",
       "    .dataframe tbody tr th:only-of-type {\n",
       "        vertical-align: middle;\n",
       "    }\n",
       "\n",
       "    .dataframe tbody tr th {\n",
       "        vertical-align: top;\n",
       "    }\n",
       "\n",
       "    .dataframe thead th {\n",
       "        text-align: right;\n",
       "    }\n",
       "</style>\n",
       "<table border=\"1\" class=\"dataframe\">\n",
       "  <thead>\n",
       "    <tr style=\"text-align: right;\">\n",
       "      <th></th>\n",
       "      <th>frequency</th>\n",
       "      <th>angle</th>\n",
       "      <th>chord</th>\n",
       "      <th>velocity</th>\n",
       "      <th>thickness</th>\n",
       "      <th>pressure</th>\n",
       "    </tr>\n",
       "  </thead>\n",
       "  <tbody>\n",
       "    <tr>\n",
       "      <th>0</th>\n",
       "      <td>800</td>\n",
       "      <td>0.0</td>\n",
       "      <td>0.3048</td>\n",
       "      <td>71.3</td>\n",
       "      <td>0.002663</td>\n",
       "      <td>126.201</td>\n",
       "    </tr>\n",
       "    <tr>\n",
       "      <th>1</th>\n",
       "      <td>1000</td>\n",
       "      <td>0.0</td>\n",
       "      <td>0.3048</td>\n",
       "      <td>71.3</td>\n",
       "      <td>0.002663</td>\n",
       "      <td>125.201</td>\n",
       "    </tr>\n",
       "    <tr>\n",
       "      <th>2</th>\n",
       "      <td>1250</td>\n",
       "      <td>0.0</td>\n",
       "      <td>0.3048</td>\n",
       "      <td>71.3</td>\n",
       "      <td>0.002663</td>\n",
       "      <td>125.951</td>\n",
       "    </tr>\n",
       "    <tr>\n",
       "      <th>3</th>\n",
       "      <td>1600</td>\n",
       "      <td>0.0</td>\n",
       "      <td>0.3048</td>\n",
       "      <td>71.3</td>\n",
       "      <td>0.002663</td>\n",
       "      <td>127.591</td>\n",
       "    </tr>\n",
       "    <tr>\n",
       "      <th>4</th>\n",
       "      <td>2000</td>\n",
       "      <td>0.0</td>\n",
       "      <td>0.3048</td>\n",
       "      <td>71.3</td>\n",
       "      <td>0.002663</td>\n",
       "      <td>127.461</td>\n",
       "    </tr>\n",
       "    <tr>\n",
       "      <th>...</th>\n",
       "      <td>...</td>\n",
       "      <td>...</td>\n",
       "      <td>...</td>\n",
       "      <td>...</td>\n",
       "      <td>...</td>\n",
       "      <td>...</td>\n",
       "    </tr>\n",
       "    <tr>\n",
       "      <th>1498</th>\n",
       "      <td>2500</td>\n",
       "      <td>15.6</td>\n",
       "      <td>0.1016</td>\n",
       "      <td>39.6</td>\n",
       "      <td>0.052849</td>\n",
       "      <td>110.264</td>\n",
       "    </tr>\n",
       "    <tr>\n",
       "      <th>1499</th>\n",
       "      <td>3150</td>\n",
       "      <td>15.6</td>\n",
       "      <td>0.1016</td>\n",
       "      <td>39.6</td>\n",
       "      <td>0.052849</td>\n",
       "      <td>109.254</td>\n",
       "    </tr>\n",
       "    <tr>\n",
       "      <th>1500</th>\n",
       "      <td>4000</td>\n",
       "      <td>15.6</td>\n",
       "      <td>0.1016</td>\n",
       "      <td>39.6</td>\n",
       "      <td>0.052849</td>\n",
       "      <td>106.604</td>\n",
       "    </tr>\n",
       "    <tr>\n",
       "      <th>1501</th>\n",
       "      <td>5000</td>\n",
       "      <td>15.6</td>\n",
       "      <td>0.1016</td>\n",
       "      <td>39.6</td>\n",
       "      <td>0.052849</td>\n",
       "      <td>106.224</td>\n",
       "    </tr>\n",
       "    <tr>\n",
       "      <th>1502</th>\n",
       "      <td>6300</td>\n",
       "      <td>15.6</td>\n",
       "      <td>0.1016</td>\n",
       "      <td>39.6</td>\n",
       "      <td>0.052849</td>\n",
       "      <td>104.204</td>\n",
       "    </tr>\n",
       "  </tbody>\n",
       "</table>\n",
       "<p>1503 rows × 6 columns</p>\n",
       "</div>"
      ],
      "text/plain": [
       "      frequency  angle   chord  velocity  thickness  pressure\n",
       "0           800    0.0  0.3048      71.3   0.002663   126.201\n",
       "1          1000    0.0  0.3048      71.3   0.002663   125.201\n",
       "2          1250    0.0  0.3048      71.3   0.002663   125.951\n",
       "3          1600    0.0  0.3048      71.3   0.002663   127.591\n",
       "4          2000    0.0  0.3048      71.3   0.002663   127.461\n",
       "...         ...    ...     ...       ...        ...       ...\n",
       "1498       2500   15.6  0.1016      39.6   0.052849   110.264\n",
       "1499       3150   15.6  0.1016      39.6   0.052849   109.254\n",
       "1500       4000   15.6  0.1016      39.6   0.052849   106.604\n",
       "1501       5000   15.6  0.1016      39.6   0.052849   106.224\n",
       "1502       6300   15.6  0.1016      39.6   0.052849   104.204\n",
       "\n",
       "[1503 rows x 6 columns]"
      ]
     },
     "execution_count": 22,
     "metadata": {},
     "output_type": "execute_result"
    }
   ],
   "source": [
    "airfoil = pandas.read_csv('airfoil_self_noise.dat', delimiter='\\t',\n",
    "                          names=('frequency', 'angle', 'chord', \n",
    "                                 'velocity', 'thickness', 'pressure'))\n",
    "\n",
    "X = np.array(airfoil[['frequency', 'angle', 'chord', 'velocity', 'thickness']])\n",
    "T = np.array(airfoil[['pressure']])\n",
    "airfoil"
   ]
  },
  {
   "cell_type": "markdown",
   "metadata": {},
   "source": [
    "Apply your `run_k_fold_cross_validation` to the airfoil data, with `X` being the first five columns of the data and `T` being the last column, the 'pressure'. \n",
    "\n",
    "Here is an example run.  You must try more neural network architectures.  Keep the following points in mind when you choose parameter values to try:\n",
    "* Larger networks will require more epochs of training to converge.\n",
    "* Large learning rates could limit convergence, but small learning rates may take many more epochs than you have patience for.\n",
    "* Display results as a `pandas` `DataFrame` and in plots.  <font color=red>Your tabular results and plots must be described sufficiently.  If you struggle with judging this yourself, you can consider 10 sentences or more of discussion to be sufficient, but 9 perceptive sentences are better than 10 or more sentences of non-analytical fluff.</font>\n",
    "* Name the columns of your `DataFrame` result to be `columns=('Arch', 'Train RMSE', 'Validate RMSE', 'Test RMSE'))`"
   ]
  },
  {
   "cell_type": "code",
   "execution_count": 23,
   "metadata": {},
   "outputs": [
    {
     "data": {
      "text/plain": [
       "((1503, 5), (1503, 1))"
      ]
     },
     "execution_count": 23,
     "metadata": {},
     "output_type": "execute_result"
    }
   ],
   "source": [
    "X.shape, T.shape"
   ]
  },
  {
   "cell_type": "code",
   "execution_count": 96,
   "metadata": {},
   "outputs": [
    {
     "name": "stdout",
     "output_type": "stream",
     "text": [
      "Took 0.35 hours\n"
     ]
    },
    {
     "data": {
      "text/plain": [
       "(                    Arch  Train RMSE  Validate RMSE  Test RMSE\n",
       " 0                     []    8.710021       8.798578   8.798578\n",
       " 1                    [1]    8.217329       8.273407   8.273407\n",
       " 2                    [5]    7.173252       7.409601   7.409601\n",
       " 3                  [100]    4.769017       5.222766   5.222766\n",
       " 4               [40, 50]    2.786204       3.399094   3.399094\n",
       " 5             [200, 200]    2.349369       3.317011   3.317011\n",
       " 6           [50, 50, 50]    2.718197       3.317472   3.317472\n",
       " 7        [200, 200, 200]    1.992164       3.009392   3.009392\n",
       " 8       [90, 60, 60, 30]    2.238879       3.118340   3.118340\n",
       " 9       [50, 50, 50, 50]    2.765890       3.493653   3.493653\n",
       " 10  [200, 200, 200, 200]    2.959542       3.988192   3.988192,\n",
       "                     Arch  Train RMSE  Validate RMSE  Test RMSE\n",
       " 0                     []    8.717708       8.746708   8.746708\n",
       " 1                    [1]    8.096525       8.163855   8.163855\n",
       " 2                    [5]    6.541156       6.731692   6.731692\n",
       " 3                  [100]    3.423620       4.186622   4.186622\n",
       " 4               [40, 50]    2.020665       3.022781   3.022781\n",
       " 5             [200, 200]    1.516309       3.018981   3.018981\n",
       " 6           [50, 50, 50]    1.931608       2.889063   2.889063\n",
       " 7        [200, 200, 200]    1.102675       2.672588   2.672588\n",
       " 8       [90, 60, 60, 30]    1.482206       2.662052   2.662052\n",
       " 9       [50, 50, 50, 50]    1.963585       2.947663   2.947663\n",
       " 10  [200, 200, 200, 200]    1.397642       2.986468   2.986468,\n",
       "                     Arch  Train RMSE  Validate RMSE  Test RMSE\n",
       " 0                     []    8.716146       8.744529   8.744529\n",
       " 1                    [1]    8.060545       8.123457   8.123457\n",
       " 2                    [5]    6.142806       6.404861   6.404861\n",
       " 3                  [100]    2.963779       3.717156   3.717156\n",
       " 4               [40, 50]    1.805088       2.895229   2.895229\n",
       " 5             [200, 200]    1.129901       3.031312   3.031312\n",
       " 6           [50, 50, 50]    1.577853       2.740320   2.740320\n",
       " 7        [200, 200, 200]    0.898788       2.663122   2.663122\n",
       " 8       [90, 60, 60, 30]    1.152672       2.535295   2.535295\n",
       " 9       [50, 50, 50, 50]    1.441918       2.648129   2.648129\n",
       " 10  [200, 200, 200, 200]    1.094328       2.752047   2.752047,\n",
       "                     Arch  Train RMSE  Validate RMSE  Test RMSE\n",
       " 0                     []    8.710161       8.763786   8.763786\n",
       " 1                    [1]    8.059981       8.099555   8.099555\n",
       " 2                    [5]    5.885397       6.141748   6.141748\n",
       " 3                  [100]    2.754678       3.585419   3.585419\n",
       " 4               [40, 50]    1.570226       2.825569   2.825569\n",
       " 5             [200, 200]    1.159709       3.244591   3.244591\n",
       " 6           [50, 50, 50]    1.301781       2.716422   2.716422\n",
       " 7        [200, 200, 200]    0.689409       2.584358   2.584358\n",
       " 8       [90, 60, 60, 30]    0.934060       2.509446   2.509446\n",
       " 9       [50, 50, 50, 50]    1.175018       2.523067   2.523067\n",
       " 10  [200, 200, 200, 200]    0.701532       2.809065   2.809065)"
      ]
     },
     "execution_count": 96,
     "metadata": {},
     "output_type": "execute_result"
    }
   ],
   "source": [
    "torch.manual_seed(42)\n",
    "np.random.seed(42)\n",
    "\n",
    "import time\n",
    "start = time.time()\n",
    "results_200 = run_k_fold_cross_validation(X, T, 5,\n",
    "                                      [[], [1], [5], [100], [40, 50], [200, 200], [50, 50, 50], [200, 200, 200], [90, 60, 60, 30], [50, 50, 50, 50], [200, 200, 200, 200]],\n",
    "                                      200, 0.01, 'tanh')\n",
    "results_400 = run_k_fold_cross_validation(X, T, 5,\n",
    "                                      [[], [1], [5], [100], [40, 50], [200, 200], [50, 50, 50], [200, 200, 200], [90, 60, 60, 30], [50, 50, 50, 50], [200, 200, 200, 200]],\n",
    "                                      400, 0.01, 'tanh')\n",
    "results_600 = run_k_fold_cross_validation(X, T, 5,\n",
    "                                      [[], [1], [5], [100], [40, 50], [200, 200], [50, 50, 50], [200, 200, 200], [90, 60, 60, 30], [50, 50, 50, 50], [200, 200, 200, 200]],\n",
    "                                      600, 0.01, 'tanh')\n",
    "results_800 = run_k_fold_cross_validation(X, T, 5,\n",
    "                                      [[], [1], [5], [100], [40, 50], [200, 200], [50, 50, 50], [200, 200, 200], [90, 60, 60, 30], [50, 50, 50, 50], [200, 200, 200, 200]],\n",
    "                                      800, 0.01, 'tanh')\n",
    "\n",
    "elapsed = (time.time() - start) / 60/ 60\n",
    "print(f'Took {elapsed:.2f} hours')\n",
    "results_200, results_400, results_600, results_800"
   ]
  },
  {
   "cell_type": "markdown",
   "metadata": {},
   "source": [
    "Here is a handy function to plot the RMSEs you have in your results table.  You may use this function to plot your results.  Remember to describe what you see."
   ]
  },
  {
   "cell_type": "code",
   "execution_count": 146,
   "metadata": {},
   "outputs": [],
   "source": [
    "def plot_results(results):\n",
    "    errors = results.iloc[:, 1:].values\n",
    "    archs = results.iloc[:, 0].values\n",
    "    archs = [str(ar) for ar in archs]\n",
    "\n",
    "    plt.plot(archs, errors, 'o-')\n",
    "    plt.legend(('Train', 'Validate', 'Test'))\n",
    "    plt.ylabel('RMSE')\n",
    "    plt.xticks(range(errors.shape[0]), archs, rotation=45, ha='right')\n",
    "    plt.tight_layout()\n",
    "    \n",
    "def plot_multiple_results(results_list, title_list):\n",
    "    fig, axs = plt.subplots(2, 2, figsize=(15, 10))\n",
    "    \n",
    "    for i, (results, title) in enumerate(zip(results_list, title_list)):\n",
    "        \n",
    "        thisplot = axs[i // 2, i % 2]\n",
    "        errors = results.iloc[:, 1:].values\n",
    "        archs = results.iloc[:, 0].values\n",
    "        archs = [str(ar) for ar in archs]\n",
    "\n",
    "        thisplot.plot(archs, errors, 'o-')\n",
    "        thisplot.legend(('Train', 'Validate', 'Test'))\n",
    "        \n",
    "        plt.tight_layout()\n",
    "        thisplot.set_title(title)\n",
    "        if i > 1:\n",
    "            for tick in thisplot.get_xticklabels():\n",
    "                tick.set_rotation(45)\n",
    "            \n",
    "    for ax in axs.flat:\n",
    "        ax.set(xlabel='Architecture', ylabel='RMSE', ylim=(0.5, 9))\n",
    "\n",
    "    for ax in axs.flat:\n",
    "        ax.label_outer()\n",
    "        \n"
   ]
  },
  {
   "cell_type": "code",
   "execution_count": 147,
   "metadata": {},
   "outputs": [
    {
     "data": {
      "image/png": "[encoded data removed]",
      "text/plain": [
       "<Figure size 1080x720 with 4 Axes>"
      ]
     },
     "metadata": {
      "needs_background": "light"
     },
     "output_type": "display_data"
    }
   ],
   "source": [
    "# plot_results(results_200)\n",
    "\n",
    "plot_multiple_results([results_200,results_400,results_600,results_800],['200 epochs','400 epochs','600 epochs','800 epochs'])"
   ]
  },
  {
   "cell_type": "markdown",
   "metadata": {},
   "source": [
    "# Analysis of Tabular Results and Plots\n",
    "\n",
    "I chose the above architectures to provide a brief overview of the results of larger neural nets (ones that merely have more neurons) and those that are deeper (ones that have more hidden layers) and compare the results as the nets become deeper and wider. One point that I added beyond the requested results was a progression of RMSE as we increase the number of epochs of training. This makes it easier to see how long it takes for deeper and wider networks to be trained. It should also be noted that, for the purpose of this experiment, validation and test folds are used identically, and therefore can be treated as nearly identical. The RMSEs for these folds have nearly the same value, which can be seen by the eclipse of the validattion RMSE by the test RMSE.\n",
    "\n",
    "To begin, I will briefly cover the linear (one-layer) models. These show a clear improvement in RMSE as the number of neurons increase. However, because they represent a linear model, they struggle to perform as well as deper networks. An architecture of [100], for example, has almost a 50% higher training RMSE than [40, 50], despite having more neurons overall. Further increasing the width and depth of the model continues to improve the training RMSE, though the charts show an increased need for training as the model deepens and widens; at only 200 epochs, [50, 50, 50] outperforms [200, 200, 200, 200] in both testing RMSE and training RMSE, but with additional training, the depeer network improves its training RMSE.\n",
    "\n",
    "However, looking only at training RMSE can be deceptive. As we look at the testing RMSE, we can see very little improvement of test RMSE after the [40, 50] architecture. This may be a result of training; 800 epochs may simply not be enough for some of the deeper, wider networks to really come into their element. However, we still see training RMSE improve over this time. The fact that we see training RMSE continue to improve while test RMSE stagnates is probably due to overtraining; the network becomes better and better adapted to the data it has trained for, at the cost of accuracy when assessing real-world data outside of the set it trained for. We can see this start to take place for the [200, 200] architecture and the [200, 200, 200, 200] architecture between 600 and 800 epochs. For each of these architectures, we see an actual increase in test RMSE over this period, while the latter architecture improves its training RMSE. Thus, we have exceeded the usefulness of a deeper neural network for this dataset. Indeed, as the network gets ever wider and deeper, we even see that some larger networks are outperformed on test RMSE than their simpler counterparts. [50, 50, 50, 50] has a better test RMSE than [200, 200, 200, 200], and [40, 50] either matches or outperforms [200, 200] for every level of training.\n",
    "\n",
    "Overall, we see swiftly-diminishing returns after the second layer is added. No real improvement (that is, improvement in Test RMSE) can be seen in the deeper networks, which also require additional training in order to remain relevant. Thus, when constructing an effective neural network, one should be careful that their neural network does not outgrow and overconform to the data."
   ]
  },
  {
   "cell_type": "markdown",
   "metadata": {},
   "source": [
    "# Grading and Check-In"
   ]
  },
  {
   "cell_type": "markdown",
   "metadata": {},
   "source": [
    "You will score 90 points if your `train`, `use`, an `run_k_fold_cross_validation` functions are defined correctly. You can test this grading process yourself by downloading [A3grader.zip](https://www.cs.colostate.edu/~cs445/notebooks/A3grader.zip) and extracting `A3grader.py` parallel to this notebook.  We recommend keeping this notebook and the grader script in a dedicated folder with *just those two files.* Run the code in the following cell to see an example grading run.  If your functions are defined correctly, you should see a score of 90/90.  The remaining 10 points will be based on 1) other testing and the results you obtain, and 2) your discussions."
   ]
  },
  {
   "cell_type": "code",
   "execution_count": 25,
   "metadata": {},
   "outputs": [
    {
     "name": "stdout",
     "output_type": "stream",
     "text": [
      "\n",
      "======================= Code Execution =======================\n",
      "\n",
      "Extracting python code from notebook named 'Richard-A3.ipynb' and storing in notebookcode.py\n",
      "Removing all statements that are not function or class defs or import statements.\n",
      "\n",
      "Testing\n",
      "    torch.manual_seed(142)\n",
      "\n",
      "    X = np.arange(40).reshape(20, 2)\n",
      "    T = np.log(1 + X[:, 0:1])\n",
      "\n",
      "    nnet = NNet(X.shape[1], [10, 10], T.shape[1], act_func='relu')\n",
      "    nnet.train(X, T, 100, 0.01, verbose=False)\n",
      "\n",
      "    first_Y = nnet.use(X)[0, 0]\n",
      "\n",
      "\n",
      "--- 30/30 points. Returned correct value.\n",
      "\n",
      "Testing\n",
      "    torch.manual_seed(142)\n",
      "\n",
      "    X = np.arange(40).reshape(20, 2)\n",
      "    T = np.log(1 + X[:, 0:1])\n",
      "\n",
      "    nnet = NNet(X.shape[1], [10, 10], T.shape[1], act_func='tanh')  # Using tanh\n",
      "    nnet.train(X, T, 100, 0.01, verbose=False)\n",
      "\n",
      "    first_Y = nnet.use(X)[0, 0]\n",
      "\n",
      "\n",
      "--- 30/30 points. Returned correct value.\n",
      "\n",
      "Testing\n",
      "    torch.manual_seed(400)\n",
      "    np.random.seed(400)\n",
      "\n",
      "    X = np.arange(40).reshape(20, 2)\n",
      "    T = np.log(1 + X[:, 0:1])\n",
      "    \n",
      "    results = run_k_fold_cross_validation(X, T, 3,\n",
      "                                          [[], [1], [20], [40, 40]],\n",
      "                                          1000, 0.01, 'tanh')\n",
      "\n",
      "    print(results)\n",
      "\n",
      "    # This will take a minute or two....\n",
      "\n",
      "\n",
      "       Arch  Train RMSE  Validate RMSE  Test RMSE\n",
      "0        []    0.429989       0.714427   0.714427\n",
      "1       [1]    0.167875       0.604259   0.604259\n",
      "2      [20]    0.007962       0.452763   0.452763\n",
      "3  [40, 40]    0.003447       0.473521   0.473521\n",
      "\n",
      "--- 30/30 points. Returned correct value.\n",
      "\n",
      "======================================================================\n",
      "cs445 Execution Grade is 90 / 90\n",
      "======================================================================\n",
      "\n",
      " __ / 10 Based on other testing and the results you obtain and your discussions.\n",
      "\n",
      "======================================================================\n",
      "cs445 FINAL GRADE is  _  / 100\n",
      "======================================================================\n",
      "\n",
      "Extra Credit:\n",
      "\n",
      "1. Add a keyword argument gpu that is False by default. If set to True, move data and \n",
      "   neural network model to the GPU and train and test it there. Compare total execution\n",
      "    time without and with the use of the GPU.\n",
      "\n",
      "2. Find another data set, not used previously in an assignment or in lecture, and repeat\n",
      "   your training experiment without and with GPU on this new data.\n",
      "\n",
      "cs445 EXTRA CREDIT is 0 / 2\n"
     ]
    }
   ],
   "source": [
    "%run -i A3grader.py"
   ]
  },
  {
   "cell_type": "markdown",
   "metadata": {},
   "source": [
    "Unlike A2, A3 **should be completed individually**.  Name your notebook as `Lastname-A3.ipynb` with Lastname being your last name, and then save this notebook and check it in at the A3 assignment link in our Canvas web page."
   ]
  },
  {
   "cell_type": "markdown",
   "metadata": {},
   "source": [
    "# Extra Credit"
   ]
  },
  {
   "cell_type": "markdown",
   "metadata": {},
   "source": [
    "Earn up to 10 extra credit points on this assignment.\n",
    "\n",
    "1. Add a keyword argument `gpu` that is `False` by default.  If set to `True`, move data and neural network model to the GPU and train and test it there.  Compare total execution time without and with the use of the GPU.  You may need to use one of the campus GPU machines for this.\n",
    "2. Find another data set, not used previously in an assignment or in lecture, and repeat your training experiment without and with GPU on this new data.\n",
    "\n",
    "Describe all results.  You can earn 5 points for doing (1) and another 5 for doing (2)."
   ]
  },
  {
   "cell_type": "markdown",
   "metadata": {},
   "source": [
    "# Extra Credit 1\n",
    "\n",
    "Here, I am still using the airfoil data to test the GPU speed. For convenience, I am continuing to use run_k_fold_cross_validation, though the relative rmse will not be used in this experiment. I will use test with different sizes of architectures to test relative speedup."
   ]
  },
  {
   "cell_type": "code",
   "execution_count": 30,
   "metadata": {},
   "outputs": [
    {
     "data": {
      "text/plain": [
       "([0.07524838050206502,\n",
       "  0.07468955914179484,\n",
       "  0.07475218375523886,\n",
       "  0.07493118047714234,\n",
       "  0.07687861919403076],\n",
       " [0.05270067453384399,\n",
       "  0.06712033748626708,\n",
       "  0.07642132838567098,\n",
       "  0.11015535593032837,\n",
       "  0.3335632006327311])"
      ]
     },
     "execution_count": 30,
     "metadata": {},
     "output_type": "execute_result"
    }
   ],
   "source": [
    "import time\n",
    "architectures = [[10, 10], [50, 50], [100, 100], [200, 200], [500, 500]]\n",
    "with_gpu = []\n",
    "without_gpu = []\n",
    "for arch in architectures:\n",
    "\n",
    "    start = time.time()\n",
    "    results = run_k_fold_cross_validation(X, T, 5,\n",
    "                                          [arch],\n",
    "                                          200, 0.01, 'tanh', use_gpu=True)\n",
    "    elapsed = (time.time() - start) / 60\n",
    "    with_gpu.append(elapsed)\n",
    "    \n",
    "    start = time.time()\n",
    "    results = run_k_fold_cross_validation(X, T, 5,\n",
    "                                          [arch],\n",
    "                                          200, 0.01, 'tanh', use_gpu=False)\n",
    "    elapsed = (time.time() - start) / 60\n",
    "    without_gpu.append(elapsed)\n",
    "\n",
    "with_gpu, without_gpu\n"
   ]
  },
  {
   "cell_type": "markdown",
   "metadata": {},
   "source": [
    "Just from the output lists, we already see an interesting trend: when using the GPU, even the largest architecture takes little more time than the smallest. However, the CPU wins out against the GPU for small architectures (due to the overhead of using the GPU), only to be defeated for the larger architecture. This difference can be seen in the charts below."
   ]
  },
  {
   "cell_type": "code",
   "execution_count": 40,
   "metadata": {
    "scrolled": true
   },
   "outputs": [
    {
     "data": {
      "image/png": "[encoded data removed]",
      "text/plain": [
       "<Figure size 1080x360 with 2 Axes>"
      ]
     },
     "metadata": {
      "needs_background": "light"
     },
     "output_type": "display_data"
    }
   ],
   "source": [
    "def plot_ec1(with_gpu, without_gpu, archs):\n",
    "    with_gpu = [t*60 for t in with_gpu]\n",
    "    without_gpu = [t*60 for t in without_gpu]\n",
    "    fig, axs = plt.subplots(1, 2, figsize=(15, 5))\n",
    "    archs = [str(ar) for ar in archs]\n",
    "    speedup = []\n",
    "    for w, wo in zip(with_gpu, without_gpu):\n",
    "        speedup.append(wo / w)\n",
    "    \n",
    "    axs[0].plot(archs, with_gpu, 'o-')\n",
    "    axs[0].plot(archs, without_gpu, 'o-')\n",
    "    axs[0].legend(('With GPU', 'Without GPU'))\n",
    "    axs[0].set_title('Time Taken With/Without GPU')\n",
    "    \n",
    "    axs[1].plot(archs, speedup, 'o-')\n",
    "    axs[1].set_title('Speedup')\n",
    "    \n",
    "    for ax in axs:\n",
    "        for tick in ax.get_xticklabels():\n",
    "            tick.set_rotation(45)\n",
    "            \n",
    "    \n",
    "    axs[0].set(xlabel='Architecture', ylabel='time (seconds)')\n",
    "    axs[1].set(xlabel='Architecture', ylabel='speedup')\n",
    "\n",
    "plot_ec1(with_gpu, without_gpu, architectures)"
   ]
  },
  {
   "cell_type": "markdown",
   "metadata": {},
   "source": [
    "Of course, most applications will use very large amounts of data and very large networks (at least compared to a [50, 50] network). Thus, GPUs are incredibly important in machine learning."
   ]
  },
  {
   "cell_type": "markdown",
   "metadata": {},
   "source": [
    "# Extra Credit 2\n",
    "\n",
    "I used the [Wave Energy Converters Data Set](https://archive.ics.uci.edu/ml/datasets/Wave+Energy+Converters) for this part of the assignment. For simplicity, I'm only using the dataset for wave energy converters on the coast of Sydney.\n",
    "\n",
    "This dataset was chosen for its large size, to showcase the value of using a GPU.\n",
    "\n",
    "For this experiment, I will only use one architecture ([200, 200]) in order to reduce training time."
   ]
  },
  {
   "cell_type": "code",
   "execution_count": 10,
   "metadata": {},
   "outputs": [
    {
     "data": {
      "text/plain": [
       "(array([[127.9439, 264.9656,  68.3481, ..., 229.8789, 143.6402, 256.6052],\n",
       "        [500.4677, 278.6497,  47.4062, ...,  96.7684,  90.1294, 364.7503],\n",
       "        [511.751 , 104.4383, 566.    , ..., 117.445 , 411.2962, 566.    ],\n",
       "        ...,\n",
       "        [564.7783, 566.    , 564.7783, ..., 566.    ,   0.    ,  90.535 ],\n",
       "        [566.    , 556.6139, 551.3846, ..., 566.    , 364.7285, 552.225 ],\n",
       "        [566.    , 556.6139, 551.3846, ..., 566.    , 364.7285, 501.0031]]),\n",
       " array([[  82808.443 ,   84478.9266,   85337.6466, ...,  103129.6938,\n",
       "           97196.8128, 1463622.174 ],\n",
       "        [  94549.5866,   84592.1988,   99335.5046, ...,   94499.479 ,\n",
       "           88941.7152, 1489888.502 ],\n",
       "        [  93365.954 ,   87177.9348,   92796.2067, ...,  100646.9126,\n",
       "           83394.8729, 1495035.934 ],\n",
       "        ...,\n",
       "        [ 107528.0982,  102635.1173,  101060.1999, ...,   99995.2627,\n",
       "           91501.2131, 1529778.256 ],\n",
       "        [ 107227.8748,  101483.4118,   99759.6914, ...,   90513.6759,\n",
       "           87173.8619, 1525525.623 ],\n",
       "        [ 107149.9404,  101459.3551,   99692.2142, ...,   90927.9986,\n",
       "           86445.061 , 1526966.158 ]]))"
      ]
     },
     "execution_count": 10,
     "metadata": {},
     "output_type": "execute_result"
    }
   ],
   "source": [
    "data = pandas.read_csv('Sydney_Data.csv', delimiter=',',\n",
    "                       names=('X1','Y1',  # Wave converter coordinates\n",
    "                              'X2','Y2',\n",
    "                              'X3','Y3',\n",
    "                              'X4','Y4',\n",
    "                              'X5','Y5',\n",
    "                              'X6','Y6',\n",
    "                              'X7','Y7',\n",
    "                              'X8','Y8',\n",
    "                              'X9','Y9',\n",
    "                              'X10','Y10',\n",
    "                              'X11','Y11',\n",
    "                              'X12','Y12',\n",
    "                              'X13','Y13',\n",
    "                              'X14','Y14',\n",
    "                              'X15','Y15',\n",
    "                              'X16','Y16',\n",
    "                              'P1','P2',  # Wave converter power outputs\n",
    "                              'P3','P4',\n",
    "                              'P5','P6',\n",
    "                              'P7','P8',\n",
    "                              'P9','P10',\n",
    "                              'P11','P12',\n",
    "                              'P13','P14',\n",
    "                              'P15','P16',\n",
    "                              'powerall'))  # Total power output\n",
    "\n",
    "\n",
    "# I could probably use this dataset to predict only powerall, but it would be more interesting to\n",
    "# see this network perform with multiple outputs. Never you mind that this exercise doesn't ask\n",
    "# that I measure the RMSE.\n",
    "\n",
    "X = np.array(data[['X1','Y1',\n",
    "                    'X2','Y2',\n",
    "                    'X3','Y3',\n",
    "                    'X4','Y4',\n",
    "                    'X5','Y5',\n",
    "                    'X6','Y6',\n",
    "                    'X7','Y7',\n",
    "                    'X8','Y8',\n",
    "                    'X9','Y9',\n",
    "                    'X10','Y10',\n",
    "                    'X11','Y11',\n",
    "                    'X12','Y12',\n",
    "                    'X13','Y13',\n",
    "                    'X14','Y14',\n",
    "                    'X15','Y15',\n",
    "                    'X16','Y16',]])\n",
    "T = np.array(data[['P1','P2',\n",
    "                  'P3','P4',\n",
    "                  'P5','P6',\n",
    "                  'P7','P8',\n",
    "                  'P9','P10',\n",
    "                  'P11','P12',\n",
    "                  'P13','P14',\n",
    "                  'P15','P16',\n",
    "                  'powerall']])\n",
    "\n",
    "X, T"
   ]
  },
  {
   "cell_type": "code",
   "execution_count": 17,
   "metadata": {
    "scrolled": false
   },
   "outputs": [
    {
     "name": "stdout",
     "output_type": "stream",
     "text": [
      "Without the gpu, the network took 5.43 minutes.\n",
      "With the gpu, the network took 0.71 minutes.\n",
      "\n",
      "Thus, we have a speedup of 7.69.\n"
     ]
    }
   ],
   "source": [
    "import time\n",
    "start = time.time()\n",
    "results = run_k_fold_cross_validation(X, T, 5,\n",
    "                                      [[200, 200]],\n",
    "                                      200, 0.01, 'tanh', use_gpu=True)\n",
    "elapsed_with_gpu = (time.time() - start) / 60\n",
    "start = time.time()\n",
    "results = run_k_fold_cross_validation(X, T, 5,\n",
    "                                      [[200, 200]],\n",
    "                                      200, 0.01, 'tanh', use_gpu=False)\n",
    "elapsed_without_gpu = (time.time() - start) / 60\n",
    "\n",
    "print(f\"Without the gpu, the network took {elapsed_without_gpu:.2f} minutes.\")\n",
    "print(f\"With the gpu, the network took {elapsed_with_gpu:.2f} minutes.\")\n",
    "print(f\"\\nThus, we have a speedup of {elapsed_without_gpu / elapsed_with_gpu:.2f}.\")"
   ]
  },
  {
   "cell_type": "markdown",
   "metadata": {},
   "source": [
    "This speedup (about 7.7) is considerably better than what we saw with the airfoil data (about 1.5) using this architecture, thus proving my hypothesis that a much larger dataset would benefit more from the GPU. This was not a radical hypothesis, of course, as it was stated clearly in the lecture.\n",
    "\n",
    "Just for the sake of curiosity, I'll check the results. They should be approximately the same with each of these, so it doesn't matter that I'm looking at the results of the neural network without the GPU."
   ]
  },
  {
   "cell_type": "code",
   "execution_count": 18,
   "metadata": {},
   "outputs": [
    {
     "data": {
      "text/html": [
       "<div>\n",
       "<style scoped>\n",
       "    .dataframe tbody tr th:only-of-type {\n",
       "        vertical-align: middle;\n",
       "    }\n",
       "\n",
       "    .dataframe tbody tr th {\n",
       "        vertical-align: top;\n",
       "    }\n",
       "\n",
       "    .dataframe thead th {\n",
       "        text-align: right;\n",
       "    }\n",
       "</style>\n",
       "<table border=\"1\" class=\"dataframe\">\n",
       "  <thead>\n",
       "    <tr style=\"text-align: right;\">\n",
       "      <th></th>\n",
       "      <th>Arch</th>\n",
       "      <th>Train RMSE</th>\n",
       "      <th>Validate RMSE</th>\n",
       "      <th>Test RMSE</th>\n",
       "    </tr>\n",
       "  </thead>\n",
       "  <tbody>\n",
       "    <tr>\n",
       "      <th>0</th>\n",
       "      <td>[200, 200]</td>\n",
       "      <td>80005.460939</td>\n",
       "      <td>85106.657311</td>\n",
       "      <td>85106.657311</td>\n",
       "    </tr>\n",
       "  </tbody>\n",
       "</table>\n",
       "</div>"
      ],
      "text/plain": [
       "         Arch    Train RMSE  Validate RMSE     Test RMSE\n",
       "0  [200, 200]  80005.460939   85106.657311  85106.657311"
      ]
     },
     "execution_count": 18,
     "metadata": {},
     "output_type": "execute_result"
    }
   ],
   "source": [
    "results"
   ]
  },
  {
   "cell_type": "code",
   "execution_count": 21,
   "metadata": {},
   "outputs": [
    {
     "data": {
      "text/plain": [
       "5.726348961995608"
      ]
     },
     "execution_count": 21,
     "metadata": {},
     "output_type": "execute_result"
    }
   ],
   "source": [
    "percent_difference = 85106.657311 / 1486228.972 * 100\n",
    "percent_difference"
   ]
  },
  {
   "cell_type": "markdown",
   "metadata": {},
   "source": [
    "That RMSE looks terrible at first glance! However, the average value for powerall (which will, of course, have the highest values) is 1486228.972. That makes this test RMSE account for about a 5.7%  error.\n",
    "\n",
    "It should be noted, however, that the actual error is much higher, because the output variables also include 16 different power outputs that sum up to powerall. To obtain a more accurate RMSE, this calculation would need to be separate for each power column. A standardized RMSE might be more effective for such an application, as it could present a percent difference rather than a difference in the total value. Overall, this likely bears more investigation that could be fruitful for me, but it would also take away much-needed time for my other classes when I've already exceeded the scope of this extra credit question."
   ]
  }
 ],
 "metadata": {
  "kernelspec": {
   "display_name": "Python 3",
   "language": "python",
   "name": "python3"
  },
  "language_info": {
   "codemirror_mode": {
    "name": "ipython",
    "version": 3
   },
   "file_extension": ".py",
   "mimetype": "text/x-python",
   "name": "python",
   "nbconvert_exporter": "python",
   "pygments_lexer": "ipython3",
   "version": "3.8.5"
  },
  "toc": {
   "base_numbering": 1,
   "nav_menu": {},
   "number_sections": true,
   "sideBar": true,
   "skip_h1_title": false,
   "title_cell": "Table of Contents",
   "title_sidebar": "Contents",
   "toc_cell": false,
   "toc_position": {},
   "toc_section_display": true,
   "toc_window_display": true
  }
 },
 "nbformat": 4,
 "nbformat_minor": 4
}
