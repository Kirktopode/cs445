{
 "cells": [
  {
   "cell_type": "markdown",
   "metadata": {},
   "source": [
    "# Linear Models for Predicting Continuous Values"
   ]
  },
  {
   "cell_type": "markdown",
   "metadata": {},
   "source": [
    "## Linear Structure"
   ]
  },
  {
   "cell_type": "markdown",
   "metadata": {},
   "source": [
    "$\\newcommand{\\xv}{\\mathbf{x}}\n",
    "\\newcommand{\\Xv}{\\mathbf{X}}\n",
    "\\newcommand{\\yv}{\\mathbf{y}}\n",
    "\\newcommand{\\zv}{\\mathbf{z}}\n",
    "\\newcommand{\\av}{\\mathbf{a}}\n",
    "\\newcommand{\\Wv}{\\mathbf{W}}\n",
    "\\newcommand{\\wv}{\\mathbf{w}}\n",
    "\\newcommand{\\tv}{\\mathbf{t}}\n",
    "\\newcommand{\\Tv}{\\mathbf{T}}\n",
    "\\newcommand{\\muv}{\\boldsymbol{\\mu}}\n",
    "\\newcommand{\\sigmav}{\\boldsymbol{\\sigma}}\n",
    "\\newcommand{\\phiv}{\\boldsymbol{\\phi}}\n",
    "\\newcommand{\\Phiv}{\\boldsymbol{\\Phi}}\n",
    "\\newcommand{\\Sigmav}{\\boldsymbol{\\Sigma}}\n",
    "\\newcommand{\\Lambdav}{\\boldsymbol{\\Lambda}}\n",
    "\\newcommand{\\half}{\\frac{1}{2}}\n",
    "\\newcommand{\\argmax}[1]{\\underset{#1}{\\operatorname{argmax}}}\n",
    "\\newcommand{\\argmin}[1]{\\underset{#1}{\\operatorname{argmin}}}$"
   ]
  },
  {
   "cell_type": "code",
   "execution_count": 1,
   "metadata": {},
   "outputs": [],
   "source": [
    "import numpy as np # we will need this later!"
   ]
  },
  {
   "cell_type": "markdown",
   "metadata": {},
   "source": [
    "Given $N$ observations, $\\xv_n$, for $n=1,\\ldots,N$, and target values,\n",
    "$t_n$, for $n=1,\\ldots,N$, what is the simplest model,\n",
    "$g(\\xv)$, you can think of?\n",
    "\n",
    "$$\n",
    "g(\\xv) = 0\n",
    "$$\n",
    "\n",
    "or maybe\n",
    "\n",
    "$$\n",
    "g(\\xv) = c\n",
    "$$\n",
    "\n",
    "What is next simplest model?\n",
    "\n",
    "$$\n",
    "\\begin{align*}\n",
    "   g(\\xv;\\wv) &= w_0 + w_1 x_1 + w_2 x_2 + \\cdots + w_D x_D \\\\\n",
    "   &= w_0 + \\sum_{i=1}^D w_i x_i \\\\\n",
    "   & = \\sum_{i=0}^D w_i x_i \\mbox{, where } x_0 = 1 \\\\\n",
    "   &= \\wv^T \\xv\n",
    "\\end{align*}\n",
    "$$"
   ]
  },
  {
   "cell_type": "code",
   "execution_count": 2,
   "metadata": {},
   "outputs": [
    {
     "name": "stdout",
     "output_type": "stream",
     "text": [
      "[0 1 2 3]\n",
      "*\n",
      "[1 2 3 0]\n",
      "=\n",
      "[0 2 6 0]\n"
     ]
    }
   ],
   "source": [
    "# wait, what's that T for?\n",
    "# w0x0 + w1x1 + w2x2 + w3x3\n",
    "w = np.array([0,1,2,3])\n",
    "x = np.array([1,2,3,0])\n",
    "print(\"%s\\n*\\n%s\\n=\\n%s\" % (w,x,w * x))"
   ]
  },
  {
   "cell_type": "code",
   "execution_count": 3,
   "metadata": {},
   "outputs": [
    {
     "data": {
      "text/plain": [
       "8"
      ]
     },
     "execution_count": 3,
     "metadata": {},
     "output_type": "execute_result"
    }
   ],
   "source": [
    "# all that does is multiply elementwise :(\n",
    "# g(x;w) should give us a single number\n",
    "# how do we get a single number out of this?\n",
    "\n",
    "# remember the matmul operator? @\n",
    "\n",
    "w @ x"
   ]
  },
  {
   "cell_type": "code",
   "execution_count": 4,
   "metadata": {},
   "outputs": [
    {
     "data": {
      "text/plain": [
       "8"
      ]
     },
     "execution_count": 4,
     "metadata": {},
     "output_type": "execute_result"
    }
   ],
   "source": [
    "(w[0]*x[0])+(w[1]*x[1])+(w[2]*x[2])+(w[3]*x[3])"
   ]
  },
  {
   "cell_type": "markdown",
   "metadata": {},
   "source": [
    "OK, cool, but you still haven't explained that $^T$!"
   ]
  },
  {
   "cell_type": "code",
   "execution_count": 5,
   "metadata": {},
   "outputs": [
    {
     "name": "stdout",
     "output_type": "stream",
     "text": [
      "(2, 4) (2, 4)\n",
      "[[0 1 2 3]\n",
      " [3 2 1 0]]\n",
      "*\n",
      "[[1 2 3 0]\n",
      " [1 2 3 0]]\n",
      "=\n",
      "[[0 2 6 0]\n",
      " [3 4 3 0]]\n"
     ]
    },
    {
     "ename": "ValueError",
     "evalue": "matmul: Input operand 1 has a mismatch in its core dimension 0, with gufunc signature (n?,k),(k,m?)->(n?,m?) (size 2 is different from 4)",
     "output_type": "error",
     "traceback": [
      "\u001b[1;31m---------------------------------------------------------------------------\u001b[0m",
      "\u001b[1;31mValueError\u001b[0m                                Traceback (most recent call last)",
      "\u001b[1;32m<ipython-input-5-07d27cbe37af>\u001b[0m in \u001b[0;36m<module>\u001b[1;34m\u001b[0m\n\u001b[0;32m      4\u001b[0m \u001b[0mprint\u001b[0m\u001b[1;33m(\u001b[0m\u001b[0mw\u001b[0m\u001b[1;33m.\u001b[0m\u001b[0mshape\u001b[0m\u001b[1;33m,\u001b[0m\u001b[0mx\u001b[0m\u001b[1;33m.\u001b[0m\u001b[0mshape\u001b[0m\u001b[1;33m)\u001b[0m\u001b[1;33m\u001b[0m\u001b[1;33m\u001b[0m\u001b[0m\n\u001b[0;32m      5\u001b[0m \u001b[0mprint\u001b[0m\u001b[1;33m(\u001b[0m\u001b[1;34m\"%s\\n*\\n%s\\n=\\n%s\"\u001b[0m \u001b[1;33m%\u001b[0m \u001b[1;33m(\u001b[0m\u001b[0mw\u001b[0m\u001b[1;33m,\u001b[0m\u001b[0mx\u001b[0m\u001b[1;33m,\u001b[0m\u001b[0mw\u001b[0m \u001b[1;33m*\u001b[0m \u001b[0mx\u001b[0m\u001b[1;33m)\u001b[0m\u001b[1;33m)\u001b[0m\u001b[1;33m\u001b[0m\u001b[1;33m\u001b[0m\u001b[0m\n\u001b[1;32m----> 6\u001b[1;33m \u001b[0mprint\u001b[0m\u001b[1;33m(\u001b[0m\u001b[0mw\u001b[0m \u001b[1;33m@\u001b[0m \u001b[0mx\u001b[0m\u001b[1;33m)\u001b[0m\u001b[1;33m\u001b[0m\u001b[1;33m\u001b[0m\u001b[0m\n\u001b[0m",
      "\u001b[1;31mValueError\u001b[0m: matmul: Input operand 1 has a mismatch in its core dimension 0, with gufunc signature (n?,k),(k,m?)->(n?,m?) (size 2 is different from 4)"
     ]
    }
   ],
   "source": [
    "# try it again with 2x4 matrices\n",
    "w = np.array([[0,1,2,3],[3,2,1,0]])\n",
    "x = np.array([[1,2,3,0],[1,2,3,0]])\n",
    "print(w.shape,x.shape)\n",
    "print(\"%s\\n*\\n%s\\n=\\n%s\" % (w,x,w * x))\n",
    "print(w @ x)"
   ]
  },
  {
   "cell_type": "code",
   "execution_count": 6,
   "metadata": {},
   "outputs": [
    {
     "name": "stdout",
     "output_type": "stream",
     "text": [
      "[[0 3]\n",
      " [1 2]\n",
      " [2 1]\n",
      " [3 0]] \n",
      " [[1 2 3 0]\n",
      " [1 2 3 0]]\n",
      "(4, 2) (2, 4)\n"
     ]
    }
   ],
   "source": [
    "print(np.transpose(w), \"\\n\", x)\n",
    "print(np.shape(np.transpose(w)), np.shape(w))"
   ]
  },
  {
   "cell_type": "code",
   "execution_count": 7,
   "metadata": {},
   "outputs": [
    {
     "data": {
      "text/plain": [
       "array([[3, 6, 9, 0],\n",
       "       [3, 6, 9, 0],\n",
       "       [3, 6, 9, 0],\n",
       "       [3, 6, 9, 0]])"
      ]
     },
     "execution_count": 7,
     "metadata": {},
     "output_type": "execute_result"
    }
   ],
   "source": [
    "np.transpose(w) @ x"
   ]
  },
  {
   "cell_type": "markdown",
   "metadata": {},
   "source": [
    "An $n \\times k$ matrix $\\times$ a $k \\times m$ matrix will equal an $n \\times m$ matrix.\n",
    "\n",
    "If $n = 1$, $\\wv^T = \\wv$"
   ]
  },
  {
   "cell_type": "code",
   "execution_count": 11,
   "metadata": {},
   "outputs": [
    {
     "data": {
      "text/plain": [
       "array([0, 1, 2, 3])"
      ]
     },
     "execution_count": 11,
     "metadata": {},
     "output_type": "execute_result"
    }
   ],
   "source": [
    "# np.transpose([0,1,2,3])\n",
    "\n",
    "np.transpose(np.array([0, 1, 2, 3]))"
   ]
  },
  {
   "cell_type": "markdown",
   "metadata": {},
   "source": [
    "  * $\\wv^T\\xv$ is nice because it is linear in the parameters $\\wv$; optimizations based on derivatives might be solvable analytically.\n",
    "  * $\\wv^T\\xv$ is not so nice, because it is also linear in the inputs, $\\xv$; greatly limits the complexity of the model. Most famously, linear models cannot solve the XOR :(\n",
    "  * But, a model linear in the inputs might be the best you can do for many cases, such as a sparsely sampled distribution, process, population, thing...whatever it is you want to model."
   ]
  },
  {
   "cell_type": "markdown",
   "metadata": {},
   "source": [
    "## Fitting Data Samples with a Linear Model"
   ]
  },
  {
   "cell_type": "markdown",
   "metadata": {},
   "source": [
    "![Springs](http://www.cs.colostate.edu/~cs445/notebooks/springs.png)"
   ]
  },
  {
   "cell_type": "markdown",
   "metadata": {},
   "source": [
    "* Force $F$ exerted by a spring is proportional to its length $y$ (Hooke's Law: $y = kF$).\n",
    "* The potential energy stored in a spring is proportional to the *square* of its length.\n",
    "\n",
    "Say we want the rod to settle at a position that **minimizes the potential\n",
    "energy in a set of springs** (e.g., see image above). We conduct a series of $n$ measurements of potential energy with differnt rod positions that stretch/compress the different springs.  Spring lengths are stored as a vector $\\wv$ .\n",
    "\n",
    "$$\n",
    "\\begin{align*}\n",
    "\\sum_{n=1}^N (t_n - g(\\xv_n;\\wv))^2\n",
    "\\end{align*}\n",
    "$$\n",
    "\n",
    "$t_n$ represents the $n$-th experimental measurement (potential energy stored in the springs).\n",
    "\n",
    "If $g$ is an **affine** (linear + constant) function of $\\xv$ (the lengths of the springs),\n",
    "$$\n",
    "    g(\\xv;\\wv) = w_0 + w_1 x_1 + ... + w_D x_D\n",
    "$$\n",
    "with parameters $\\wv = (w_0, w_1, ..., w_D)$.\n",
    "\n",
    "Which parameter values give best fit?\n",
    "$$\n",
    "    \\wv_{\\mbox{best}} = \\argmin{\\wv} \\sum_{n=1}^N (t_n - g(\\xv_n ; \\wv))^2\n",
    "$$\n",
    "\n",
    "Set derivative (gradient) with respect to $\\wv$ to zero and\n",
    "solve for $\\wv$.  Let's do this with matrices. \n",
    "\n",
    "The matrix formulas are a bit simpler if we assume that $w_0$ is multipled by the constant 1, and that $x_{i, 0}$, the first component of sample $i$, is the constant 1.\n",
    "\n",
    "Collect all targets (observations you want to fit to) into matrix $T$ and $x$ samples into matrix\n",
    "$X$. ($N$=number samples, i.e., number of observations you made, $D$=sample dimensionality, e.g., number of springs)\n",
    "$$\n",
    "  \\begin{align*}\n",
    "    T &= \\begin{bmatrix}\n",
    "      t_1 \\\\ t_2 \\\\ \\vdots \\\\ t_N\n",
    "    \\end{bmatrix} \\\\\n",
    "    X &= \\begin{bmatrix}\n",
    "      x_{1,0} & x_{1,1} & x_{1,2} & \\dotsc & x_{1,D} \\\\\n",
    "      x_{2,0} & x_{2,1} & x_{2,2} & \\dotsc & x_{2,D} \\\\\n",
    "      \\vdots \\\\\n",
    "      x_{N,0} & x_{N,1} & x_{N,2} & \\dotsc & x_{N,D}\n",
    "    \\end{bmatrix}\\\\\n",
    "    \\wv &= \\begin{bmatrix} w_0 \\\\ w_1 \\\\ \\vdots \\\\ w_D \\end{bmatrix}\n",
    "  \\end{align*}\n",
    "$$"
   ]
  },
  {
   "cell_type": "code",
   "execution_count": 30,
   "metadata": {},
   "outputs": [
    {
     "data": {
      "text/plain": [
       "(array([0.1251442 , 0.65879274, 0.55276226]),\n",
       " array([[0.11230745, 0.07787331, 0.60765329, 0.21545207],\n",
       "        [0.86844714, 0.78008992, 0.63206052, 0.82533104],\n",
       "        [0.71311032, 0.80738958, 0.54544397, 0.57693894]]),\n",
       " array([0.94480142, 0.57271825, 0.73733595, 0.6824808 ]))"
      ]
     },
     "execution_count": 30,
     "metadata": {},
     "output_type": "execute_result"
    }
   ],
   "source": [
    "N = 3 # N = num. observations (e.g., number of measurements)\n",
    "D = 4 # D = num. variable values per observations (e.g., number of springs)\n",
    "T = np.array(np.random.rand(N))\n",
    "X = np.array(np.random.rand(N,D))\n",
    "w = np.array(np.random.rand(D))\n",
    "T,X,w\n",
    "# T, T.T"
   ]
  },
  {
   "cell_type": "markdown",
   "metadata": {},
   "source": [
    "Collection of all differences is $T - X\\wv$, which is an $N \\times\n",
    "1$ matrix.  To form the square of all values and add them up, just\n",
    "do a dot product $(T-X\\wv)^T (T-X\\wv)$.  This only works if the value we are predicting is a scalar, which means $T$ is a column matrix.  If we want to predict more than one value for each sample, $T$ will have more than one column.  Let's continue with the derivation assuming $T$ has $K$ columns, meaning we want a linear model with $K$ outputs."
   ]
  },
  {
   "cell_type": "code",
   "execution_count": 32,
   "metadata": {},
   "outputs": [
    {
     "data": {
      "text/plain": [
       "array([0.74579422, 2.29659535, 1.93207959])"
      ]
     },
     "execution_count": 32,
     "metadata": {},
     "output_type": "execute_result"
    }
   ],
   "source": [
    "X@w"
   ]
  },
  {
   "cell_type": "code",
   "execution_count": 33,
   "metadata": {},
   "outputs": [
    {
     "data": {
      "text/plain": [
       "4.970120117333494"
      ]
     },
     "execution_count": 33,
     "metadata": {},
     "output_type": "execute_result"
    }
   ],
   "source": [
    "np.transpose(T-X@w)@(T-X@w)"
   ]
  },
  {
   "cell_type": "code",
   "execution_count": 34,
   "metadata": {},
   "outputs": [
    {
     "data": {
      "text/plain": [
       "4.970120117333494"
      ]
     },
     "execution_count": 34,
     "metadata": {},
     "output_type": "execute_result"
    }
   ],
   "source": [
    "(T-X@w).T@(T-X@w) # .T is the same as np.transpose"
   ]
  },
  {
   "cell_type": "markdown",
   "metadata": {},
   "source": [
    "To find the best value for $\\wv$, we take the derivative of the sum of squared error objective, set it equal to 0 and solve for $\\wv$. \n",
    "\n",
    "$$\n",
    "\\begin{align*}\n",
    "\\frac{\\partial \\sum_{n=1}^N (\\tv_n - g(\\xv_n;\\wv))^2}{\\partial \\wv} &= -2 \\sum_{n=1}^N (\\tv_n - g(\\xv_n;\\wv) \\frac{\\partial g(\\xv_n;\\wv)}{\\partial \\wv}\\\\\n",
    "&= -2 \\sum_{n=1}^N (\\tv_n - \\xv_n^T \\wv) \\frac{\\partial \\xv_n^T \\wv}{\\partial \\wv}\\\\\n",
    "&= -2 \\sum_{n=1}^N (\\tv_n - \\xv_n^T \\wv) \\xv_n^T\n",
    "\\end{align*}\n",
    "$$\n",
    "\n",
    "Here's where we get the benefit of expressing the $\\xv_n$ and $t_n$ samples as matrices. The sum can be performed with a dot product:\n",
    "\n",
    "$$\n",
    "\\begin{align*}\n",
    "\\frac{\\partial \\sum_{n=1}^N (\\tv_n - g(\\xv_n;\\wv))^2}{\\partial \\wv} \n",
    "&= -2 \\sum_{n=1}^N (\\tv_n - \\xv_n^T \\wv) \\xv_n^T\\\\\n",
    "&= -2 \\Xv^T (\\Tv - \\Xv \\wv)\n",
    "\\end{align*}\n",
    "$$\n",
    "\n",
    "Check the sizes and shapes of each matrix in the last equation above."
   ]
  },
  {
   "cell_type": "code",
   "execution_count": 35,
   "metadata": {},
   "outputs": [
    {
     "data": {
      "text/plain": [
       "(3, 4)"
      ]
     },
     "execution_count": 35,
     "metadata": {},
     "output_type": "execute_result"
    }
   ],
   "source": [
    "X.shape"
   ]
  },
  {
   "cell_type": "code",
   "execution_count": 36,
   "metadata": {},
   "outputs": [
    {
     "data": {
      "text/plain": [
       "(4, 3)"
      ]
     },
     "execution_count": 36,
     "metadata": {},
     "output_type": "execute_result"
    }
   ],
   "source": [
    "X.T.shape"
   ]
  },
  {
   "cell_type": "code",
   "execution_count": 37,
   "metadata": {},
   "outputs": [
    {
     "data": {
      "text/plain": [
       "(3,)"
      ]
     },
     "execution_count": 37,
     "metadata": {},
     "output_type": "execute_result"
    }
   ],
   "source": [
    "T.shape"
   ]
  },
  {
   "cell_type": "code",
   "execution_count": 38,
   "metadata": {},
   "outputs": [
    {
     "data": {
      "text/plain": [
       "(4,)"
      ]
     },
     "execution_count": 38,
     "metadata": {},
     "output_type": "execute_result"
    }
   ],
   "source": [
    "w.shape"
   ]
  },
  {
   "cell_type": "markdown",
   "metadata": {},
   "source": [
    "Now we can set this equal to zero and solve for $\\wv$.\n",
    "\n",
    "$$\n",
    "\\begin{align*}\n",
    "-2 \\Xv^T (\\Tv - \\Xv \\wv) &= 0\\\\\n",
    "\\Xv^T (\\Tv - \\Xv \\wv) &= 0\\\\\n",
    "\\Xv^T \\Tv &= \\Xv^T \\Xv \\wv\\\\\n",
    "\\wv &= (\\Xv^T \\Xv)^{-1} \\Xv^T \\Tv\n",
    "\\end{align*}\n",
    "$$"
   ]
  },
  {
   "cell_type": "markdown",
   "metadata": {},
   "source": [
    "And, in python:"
   ]
  },
  {
   "cell_type": "code",
   "execution_count": 39,
   "metadata": {},
   "outputs": [
    {
     "data": {
      "text/plain": [
       "array([ 0.5   ,  0.25  , -0.0625,  0.5   ])"
      ]
     },
     "execution_count": 39,
     "metadata": {},
     "output_type": "execute_result"
    }
   ],
   "source": [
    "inv_w = np.linalg.inv(X.T @ X)@(X.T @ T)\n",
    "inv_w"
   ]
  },
  {
   "cell_type": "markdown",
   "metadata": {},
   "source": [
    "or, you may use the *solve* function that assumes $\\Xv^T \\Xv$ is full rank (no linearly dependent columns--that is no column can be represented in terms of other columns, e.g., not $k \\times$ some other other column, not some other column + $k$, not $n$ other columns added together):"
   ]
  },
  {
   "cell_type": "code",
   "execution_count": 40,
   "metadata": {},
   "outputs": [
    {
     "data": {
      "text/plain": [
       "array([-0.23931094,  0.46304695, -0.03608592,  0.64      ])"
      ]
     },
     "execution_count": 40,
     "metadata": {},
     "output_type": "execute_result"
    }
   ],
   "source": [
    "solve_w = np.linalg.solve(X.T @ X, X.T @ T)\n",
    "solve_w"
   ]
  },
  {
   "cell_type": "markdown",
   "metadata": {},
   "source": [
    "or, better yet, use the *lstsq* function that does not make that assumption."
   ]
  },
  {
   "cell_type": "code",
   "execution_count": 66,
   "metadata": {},
   "outputs": [
    {
     "data": {
      "text/plain": [
       "(array([ 1.42621116, -0.17968359,  0.58538185,  0.04722444]),\n",
       " array([], dtype=float64),\n",
       " 3,\n",
       " array([3.89392980e+00, 4.83169993e-01, 1.12203787e-01, 1.78270914e-16]))"
      ]
     },
     "execution_count": 66,
     "metadata": {},
     "output_type": "execute_result"
    }
   ],
   "source": [
    "np.linalg.lstsq(X.T @ X, X.T @ T, rcond=None)"
   ]
  },
  {
   "cell_type": "markdown",
   "metadata": {},
   "source": [
    "???? OK, hold on!"
   ]
  },
  {
   "cell_type": "code",
   "execution_count": 43,
   "metadata": {},
   "outputs": [],
   "source": [
    "np.linalg.lstsq?"
   ]
  },
  {
   "cell_type": "code",
   "execution_count": 48,
   "metadata": {},
   "outputs": [
    {
     "data": {
      "text/plain": [
       "(array([0.28615362, 0.22365495, 0.03169874, 0.26144292]),\n",
       " array([], dtype=float64),\n",
       " 3,\n",
       " array([4.43206931e+00, 2.15780002e-01, 2.06744779e-02, 1.83381530e-16]))"
      ]
     },
     "execution_count": 48,
     "metadata": {},
     "output_type": "execute_result"
    }
   ],
   "source": [
    "lstsq_w, residuals, rank, s = np.linalg.lstsq(X.T @ X, X.T @ T, rcond=None)\n",
    "lstsq_w, residuals, rank, s"
   ]
  },
  {
   "cell_type": "markdown",
   "metadata": {},
   "source": [
    "But these solutions aren't the same!"
   ]
  },
  {
   "cell_type": "code",
   "execution_count": 47,
   "metadata": {},
   "outputs": [],
   "source": [
    "np.allclose?"
   ]
  },
  {
   "cell_type": "code",
   "execution_count": 49,
   "metadata": {},
   "outputs": [
    {
     "data": {
      "text/plain": [
       "True"
      ]
     },
     "execution_count": 49,
     "metadata": {},
     "output_type": "execute_result"
    }
   ],
   "source": [
    "np.allclose(np.dot(X.T @ X, lstsq_w), X.T @ T)"
   ]
  },
  {
   "cell_type": "code",
   "execution_count": 50,
   "metadata": {},
   "outputs": [
    {
     "data": {
      "text/plain": [
       "True"
      ]
     },
     "execution_count": 50,
     "metadata": {},
     "output_type": "execute_result"
    }
   ],
   "source": [
    "np.allclose(np.dot(X.T @ X, solve_w), X.T @ T)"
   ]
  },
  {
   "cell_type": "code",
   "execution_count": 51,
   "metadata": {},
   "outputs": [
    {
     "data": {
      "text/plain": [
       "True"
      ]
     },
     "execution_count": 51,
     "metadata": {},
     "output_type": "execute_result"
    }
   ],
   "source": [
    "np.allclose(np.dot(X.T @ X, solve_w), np.dot(X.T @ X, lstsq_w))"
   ]
  },
  {
   "cell_type": "markdown",
   "metadata": {},
   "source": [
    "There may be multiple solutions to a system of equations.\n",
    "Many times, $A \\cdotp B = A \\cdotp C \\wedge B \\neq C$."
   ]
  },
  {
   "cell_type": "markdown",
   "metadata": {},
   "source": [
    "The ```lstsq``` and ```solve``` functions can be written with simpler arguments, like\n",
    "\n",
    "    w, residuals, rank, s = = np.linalg.lstsq(X, T)\n",
    "    \n",
    "because they are designed to find the value of $\\wv$ that minimizes the squared error between $X \\wv$ and $T$.  Using the matrix products as arguments will simplify our implementation of ridge regression a little bit later in this course.  For now, let's use the simpler version."
   ]
  },
  {
   "cell_type": "code",
   "execution_count": 52,
   "metadata": {},
   "outputs": [
    {
     "data": {
      "text/plain": [
       "array([0.28615362, 0.22365495, 0.03169874, 0.26144292])"
      ]
     },
     "execution_count": 52,
     "metadata": {},
     "output_type": "execute_result"
    }
   ],
   "source": [
    "w, residuals, rank, s = np.linalg.lstsq(X, T, rcond=None)\n",
    "w"
   ]
  },
  {
   "cell_type": "markdown",
   "metadata": {},
   "source": [
    "## Incremental Way"
   ]
  },
  {
   "cell_type": "markdown",
   "metadata": {},
   "source": [
    "But what if you have thousands or millions of samples?  $X$ and $T$\n",
    "can be quite large. To avoid dealing with matrix operations on huge\n",
    "matrices, we can derive a sequential algorithm for finding $\\wv$ by\n",
    "using the fact that a derivative of a sum is the sum of the\n",
    "derivatives.  We will now express this derivative as a gradient, which is a vector or matrix of derivatives. ($\\nabla$ -- pronounced \"del\" -- represents a gradient).\n",
    "\n",
    "$$\n",
    "\\begin{align*}\n",
    "g(\\xv_n, \\wv) &= w_0 + w_1 x_{n,1} + w_2 x_{n,2} + \\cdots + w_D x_{n,D} = \\xv_n^T \\wv\\\\\n",
    "E(\\Xv, \\Tv, \\wv) &= \\sum_{n=1}^N (t_n - g(\\xv_n, \\wv))^2\\\\\n",
    "\\nabla_\\wv E(\\Xv, \\Tv, \\wv) &= \\nabla_\\wv \\left ( \\sum_{n=1}^N (t_n - g(\\xv_n, \\wv))^2 \\right )\\\\\n",
    "&= \n",
    "\\sum_{n=1}^N \\nabla_\\wv (t_n - g(\\xv_n, \\wv))^2\\\\\n",
    "&= \n",
    "\\sum_{n=1}^N 2 (t_n - g(\\xv_n, \\wv)) \\nabla_\\wv (t_n - g(\\xv_n, \\wv)) \\\\\n",
    "&= \n",
    "\\sum_{n=1}^N 2 (t_n - g(\\xv_n, \\wv)) (-1) \\nabla_\\wv g(\\xv_n, \\wv) \\\\\n",
    "&= \n",
    "\\sum_{n=1}^N 2 (t_n - g(\\xv_n, \\wv)) (-1) \\nabla_\\wv (\\xv_n^T \\wv) \\\\\n",
    "&= \n",
    "\\sum_{n=1}^N 2 (t_n - g(\\xv_n, \\wv)) (-1) \\xv_n \\\\\n",
    "&= \n",
    "-2 \\sum_{n=1}^N (t_n - g(\\xv_n, \\wv))  \\xv_n \\\\\n",
    "\\end{align*}\n",
    "$$"
   ]
  },
  {
   "cell_type": "markdown",
   "metadata": {},
   "source": [
    "Instead of summing over all $N$ samples, what if we\n",
    "just update $\\wv$ after each sample based on the gradient of $E$ for that sample?  The gradient for a \n",
    "sample $n$ can be\n",
    "considered as a limited, or noisy, sample of the true gradient.\n",
    "Thus, we can take a small step in the direction of the negative gradient to try\n",
    "to bring a current guess at the weight vector, $\\wv^{(k)}$, on\n",
    "iteration $k$ to a new value, $\\wv^{(k+1)}$, on iteration $k+1$ that is closer to a value that reduces the overall error. This kind of update is called \"stochastic approximation\".\n",
    "\n",
    "$$\n",
    "\\begin{align*}\n",
    "\\wv^{(k+1)} &= \\wv^{(k)} - (-2) \\rho (t_n - g(\\xv_n, \\wv)) \\xv_n\\\\\n",
    " &= \\wv^{(k)} + \\rho (t_n - g(\\xv_n, \\wv)) \\xv_n\n",
    "\\end{align*}\n",
    "$$\n",
    "\n",
    "For this sequential algorithm to converge, $\\rho$ must decrease with\n",
    "each iteration, not too fast but not too slow. \n",
    "\n",
    "This algorithm is called the least mean squares (LMS) algorithm\n",
    "developed by Widrow and Hoff.  It is now often referred to as the\n",
    "**''stochastic gradient descent'' algorithm, or SGD.**\n",
    "\n",
    "If we have two output variables, like mpg and horsepower, then $t_n$ is no longer a scalar.  How do we deal with that?  Well, to predict two variables, we need two linear models.  We can do this by changing $\\wv$ from a single column matrix to a two-column matrix.  The first column could contain the weights used to predict mpg, and the second column could contain weights to predict horsepower.  Now our linear model is\n",
    "\n",
    "$$ g(\\xv_n, \\wv) = \\xv_n^T \\wv$$\n",
    "\n",
    "Humm, no change here!  This is the beauty of using matrix math.  The input vector $\\xv_n$ is dotted with each of the two columns of $\\wv$, resulting in two values, or a two-component resulting vector, giving the predictions for mpg and horsepower.\n",
    "\n",
    "What changes do we need to make to the SGD update formula?  What else must we modify, other than $\\wv$?  For each sample, $n$, we must specify two target values, for mpg and horsepower.  So $t_n$ is no longer a scalar, but now has two values in a vector, or $\\tv_n$.  To update the weights $\\wv$ we must multiply each error by each input component. This does sound like a double loop.  Well, in the last equation above we already used matrix math and ```numpy``` broadcasting once in\n",
    "\n",
    "$$\n",
    "\\begin{align*}\n",
    "\\wv^{(k+1)} &= \\wv^{(k)}  + \\rho \\; (t_n - g(\\xv_n, \\wv)) \\; \\xv_n\n",
    "\\end{align*}\n",
    "$$\n",
    "\n",
    "to remove the loop over all of the components in $\\wv_n$ and $\\xv_n$.  Now we will use broadcasting again to remove a loop over target components, in $\\tv_n$.  We must take care to make sure the matrices are of the right shape in the matrix operations, and that the resulting matrix is the correct shape for $\\wv$.  Here we follow the convention that vectors are column vectors.\n",
    "\n",
    "$$\n",
    "\\begin{align*}\n",
    "\\wv^{(k+1)} &= \\wv^{(k)}  + \\rho \\; \\xv_n \\; (\\tv_n^T - g(\\xv_n, \\wv))) \n",
    "\\end{align*}\n",
    "$$\n",
    "\n",
    "Let's see, $\\rho$ is a scalar, $\\xv_n$ is $D+1\\times 1$, a column vector with $D+1$ components (counting the constant 1), $\\tv_n$ is $K\\times 1$ if we have $K$ outputs,\n",
    "so $\\tv_n^T$ is $1\\times K$  and $g(\\xv_n, \\wv) = \\xv_n^T \\wv$ is also $1\\times K$.  Stringing these dimensions together in the  calculation gives us $(D+1\\times 1) (1\\times K)$ which results in $D+1\\times K$ exactly the correct shape for our weight matrix $\\wv$!"
   ]
  },
  {
   "cell_type": "markdown",
   "metadata": {},
   "source": [
    "In Python, the update to the weight matrix for the $n^{th}$ sample is just\n",
    "\n",
    "     w += rho * X1[n:n+1, :].T * (T[n:n+1, :] - predicted)\n",
    "     \n",
    "The long, boring, non-matrix way to update each element of `w` would look like\n",
    "\n",
    "     nOutputs = T.shape[1]\n",
    "     nInputs = X1.shape[1]\n",
    "     for k in range(nOutputs):\n",
    "         for i in range(nInputs):\n",
    "             w[i,k] += rho * X1[n:n+1, i] * (T[n:n+1, k] - predicted[k])\n",
    "\n",
    "So many lines of code can lead to more bugs!!"
   ]
  },
  {
   "cell_type": "markdown",
   "metadata": {},
   "source": [
    "## Example of SGD in Action"
   ]
  },
  {
   "cell_type": "code",
   "execution_count": 53,
   "metadata": {},
   "outputs": [],
   "source": [
    "import numpy as np\n",
    "import matplotlib.pyplot as plt\n",
    "from IPython.display import display, clear_output  # for the following animation"
   ]
  },
  {
   "cell_type": "markdown",
   "metadata": {},
   "source": [
    "Let's make some silly data to play with.  Make 100 samples of random $x$ values between 0 and 10, and assign the target for each sample to be $2 - .1 X + .05(X - 6)^2 + \\epsilon$, where $\\epsilon$ is a bit of noise as a random value from a Normal distribution with mean 0 and standard deviation 0.1."
   ]
  },
  {
   "cell_type": "code",
   "execution_count": 54,
   "metadata": {},
   "outputs": [],
   "source": [
    "n_samples = 100\n",
    "X = np.random.uniform(0, 10, (n_samples, 1))\n",
    "T = 2 - .1 * X + .05 * (X - 6)**2 + np.random.normal(0, 0.1, (n_samples,1))"
   ]
  },
  {
   "cell_type": "code",
   "execution_count": 55,
   "metadata": {},
   "outputs": [],
   "source": [
    "# np.random.normal samples from a normal (Gaussian) distribution\n",
    "# default mean of 0, default std. dev. of 1 (we make this 0.1 above)\n",
    "np.random.normal?"
   ]
  },
  {
   "cell_type": "code",
   "execution_count": 56,
   "metadata": {},
   "outputs": [
    {
     "data": {
      "text/plain": [
       "[<matplotlib.lines.Line2D at 0x1b4a6126670>]"
      ]
     },
     "execution_count": 56,
     "metadata": {},
     "output_type": "execute_result"
    },
    {
     "data": {
      "image/png": "[encoded data removed]",
      "text/plain": [
       "<Figure size 432x288 with 1 Axes>"
      ]
     },
     "metadata": {
      "needs_background": "light"
     },
     "output_type": "display_data"
    }
   ],
   "source": [
    "plt.plot(X, T)"
   ]
  },
  {
   "cell_type": "code",
   "execution_count": 57,
   "metadata": {},
   "outputs": [
    {
     "data": {
      "text/plain": [
       "[<matplotlib.lines.Line2D at 0x1b4a61f8d30>]"
      ]
     },
     "execution_count": 57,
     "metadata": {},
     "output_type": "execute_result"
    },
    {
     "data": {
      "image/png": "[encoded data removed]",
      "text/plain": [
       "<Figure size 432x288 with 1 Axes>"
      ]
     },
     "metadata": {
      "needs_background": "light"
     },
     "output_type": "display_data"
    }
   ],
   "source": [
    "# plot as points\n",
    "plt.plot(X, T, '.')"
   ]
  },
  {
   "cell_type": "markdown",
   "metadata": {},
   "source": [
    "Do you think we can fit a linear model to this data?\n",
    "\n",
    "First, let's modify the $X$ input matrix to include an initial column of constant 1."
   ]
  },
  {
   "cell_type": "code",
   "execution_count": 58,
   "metadata": {},
   "outputs": [
    {
     "data": {
      "text/plain": [
       "((100, 2), (100, 1))"
      ]
     },
     "execution_count": 58,
     "metadata": {},
     "output_type": "execute_result"
    }
   ],
   "source": [
    "X1 = np.insert(X, 0, 1, axis=1)\n",
    "\n",
    "# remember, data always consists of your input values (the \"sample\", X, or X1 with bias) and your output values (the \"target\", T)\n",
    "X1.shape, T.shape"
   ]
  },
  {
   "cell_type": "code",
   "execution_count": 59,
   "metadata": {},
   "outputs": [
    {
     "data": {
      "text/plain": [
       "100"
      ]
     },
     "execution_count": 59,
     "metadata": {},
     "output_type": "execute_result"
    }
   ],
   "source": [
    "learning_rate = 0.001\n",
    "n_samples = X1.shape[0]\n",
    "n_samples   # number of rows in data equals the number of samples"
   ]
  },
  {
   "cell_type": "code",
   "execution_count": 60,
   "metadata": {},
   "outputs": [
    {
     "name": "stdout",
     "output_type": "stream",
     "text": [
      "[[ 2.8663003 ]\n",
      " [-0.19490528]]\n"
     ]
    }
   ],
   "source": [
    "w = np.zeros((2, 1))                # initialize the weights to zeros\n",
    "for epoch in range(1000):             # train for this many epochs, or passes through the data set\n",
    "    for n in range(n_samples):\n",
    "        y = X1[n:n + 1, :] @ w      # predicted value, y, for sample n -> we get this by multiplying the sample by weights\n",
    "        error = T[n:n + 1, :] - y   # the error is  the difference between predicted value and target output (real data)\n",
    "        # update weights by fraction of negative derivative of square error with respect to weights\n",
    "        w += learning_rate * X1[n:n + 1, :].T * error  \n",
    "        \n",
    "print(w)"
   ]
  },
  {
   "cell_type": "markdown",
   "metadata": {},
   "source": [
    "Let's see how well this linear model (defined by these resulting weights) fits the data.  To do so, we can plot the model's predictions on top of the plot of actual data."
   ]
  },
  {
   "cell_type": "code",
   "execution_count": 64,
   "metadata": {
    "scrolled": true
   },
   "outputs": [
    {
     "data": {
      "image/png": "[encoded data removed]",
      "text/plain": [
       "<Figure size 432x288 with 1 Axes>"
      ]
     },
     "metadata": {
      "needs_background": "light"
     },
     "output_type": "display_data"
    }
   ],
   "source": [
    "plt.plot(X, T, 'o', label='Data')\n",
    "plt.plot(X, X1 @ w, 'ro', label='Predicted') # X1 @ w <- there's our prediction again this time all done at once with a matrix\n",
    "plt.legend();"
   ]
  },
  {
   "cell_type": "markdown",
   "metadata": {},
   "source": [
    "Let's animate each step by drawing the predictions made by the linear model as weights are updated."
   ]
  },
  {
   "cell_type": "code",
   "execution_count": 65,
   "metadata": {},
   "outputs": [],
   "source": [
    "def run(rho, n_epochs, stepsPerFrame=10):\n",
    "\n",
    "    # Initialize weights to all zeros\n",
    "    # For this demonstration, we will have one variable input. With the constant 1 input, we have 2 weights.\n",
    "    w = np.zeros((2,1))\n",
    "\n",
    "    # Collect the weights after each update in a list for later plotting. \n",
    "    # This is not part of the training algorithm\n",
    "    ws = [w.copy()]\n",
    "\n",
    "    # Create a bunch of x values for plotting\n",
    "    xs = np.linspace(0, 10, 100).reshape((-1,1))\n",
    "    # Insert constant column of 1s\n",
    "    xs1 = np.insert(xs, 0, 1, axis=1)\n",
    "\n",
    "    fig = plt.figure(figsize=(8, 8))\n",
    "\n",
    "    # For each pass (one epoch) through all samples ...\n",
    "    for iter in range(n_epochs):\n",
    "        # For each sample ...\n",
    "        for n in range(n_samples):\n",
    "        \n",
    "            # Calculate prediction using current model, w.\n",
    "            #    n:n+1 is used instead of n to preserve the 2-dimensional matrix structure\n",
    "            predicted = X1[n:n+1,:] @ w\n",
    "            \n",
    "            # Update w using negative gradient of error for nth sample\n",
    "            w += rho * X1[n:n+1, :].T * (T[n:n+1, :] - predicted)\n",
    "            \n",
    "            # Add new w to our list of past w values for plotting\n",
    "            ws.append(w.copy())\n",
    "        \n",
    "            if n % stepsPerFrame == 0:\n",
    "                fig.clf()\n",
    "\n",
    "                # Plot the X and T data.\n",
    "                plt.subplot(2, 1, 1)\n",
    "                plt.plot(X, T, 'o', alpha=0.6, label='Data')\n",
    "                plt.plot(X[n,0], T[n], 'ko', ms=10, label='Last Trained Sample')\n",
    "\n",
    "                # Plot the output of our linear model for a range of x values\n",
    "                plt.plot(xs, xs1 @ w, 'r-', linewidth=5, label='Model')\n",
    "                plt.xlabel('$x$')\n",
    "                plt.legend(loc='upper right')\n",
    "                plt.xlim(0, 10)\n",
    "                plt.ylim(0, 5)\n",
    "\n",
    "                # In second panel plot the weights versus the epoch number\n",
    "                plt.subplot(2, 1, 2)\n",
    "                plt.plot(np.array(ws)[:, :, 0])\n",
    "                plt.xlabel('Updates')\n",
    "                plt.xlim(0, n_epochs * n_samples)\n",
    "                plt.ylim(-1, 3)\n",
    "                plt.legend(('$w_0$', '$w_1$'))\n",
    "        \n",
    "                clear_output(wait=True)\n",
    "                display(fig)\n",
    "    \n",
    "    clear_output(wait=True)\n",
    "    \n",
    "    return w"
   ]
  },
  {
   "cell_type": "code",
   "execution_count": 66,
   "metadata": {
    "scrolled": false
   },
   "outputs": [
    {
     "data": {
      "text/plain": [
       "array([[ 2.46619154],\n",
       "       [-0.15203633]])"
      ]
     },
     "execution_count": 66,
     "metadata": {},
     "output_type": "execute_result"
    },
    {
     "data": {
      "image/png": "[encoded data removed]",
      "text/plain": [
       "<Figure size 576x576 with 2 Axes>"
      ]
     },
     "metadata": {
      "needs_background": "light"
     },
     "output_type": "display_data"
    }
   ],
   "source": [
    "run(0.01, n_epochs=10, stepsPerFrame=10)"
   ]
  },
  {
   "cell_type": "markdown",
   "metadata": {},
   "source": [
    "## Matrix Multiplication is Solving Systems of Equations\n",
    "\n",
    "Linear regression (and all ML) prediction **multiplies the input(s) by the weights**.\n",
    "\n",
    "$\\begin{cases} 4x - 3y = 17 \\\\ x + 4y = 9 \\end{cases}$\n",
    "\n",
    "$x = 9 - 4y$\n",
    "\n",
    "$4(9 - 4y) - 3y = 17$\n",
    "\n",
    "$36 - 16y - 3y = 36 - 19y = 17$\n",
    "\n",
    "$-19y = 17 - 36 = -19$\n",
    "\n",
    "$y = 1$\n",
    "\n",
    "$4x - 3(1) = 17$\n",
    "\n",
    "$4x = 20$\n",
    "\n",
    "$x = 5$\n",
    "\n",
    "$(x, y) = (5, 1)$"
   ]
  },
  {
   "cell_type": "code",
   "execution_count": 67,
   "metadata": {},
   "outputs": [],
   "source": [
    "X = np.array([[4,-3],[1,4]]) # our coefficients\n",
    "T = np.array([17,9]) # our target values (right-hand side)"
   ]
  },
  {
   "cell_type": "markdown",
   "metadata": {},
   "source": [
    "$X \\cdotp \\begin{bmatrix} x \\\\ y \\end{bmatrix} = T$\n",
    "\n",
    "$\\begin{bmatrix} x \\\\ y \\end{bmatrix} = X^{-1}T$"
   ]
  },
  {
   "cell_type": "code",
   "execution_count": 68,
   "metadata": {},
   "outputs": [
    {
     "data": {
      "text/plain": [
       "array([5., 1.])"
      ]
     },
     "execution_count": 68,
     "metadata": {},
     "output_type": "execute_result"
    }
   ],
   "source": [
    "np.linalg.inv(X) @ T"
   ]
  },
  {
   "cell_type": "code",
   "execution_count": 69,
   "metadata": {},
   "outputs": [
    {
     "data": {
      "text/plain": [
       "array([5., 1.])"
      ]
     },
     "execution_count": 69,
     "metadata": {},
     "output_type": "execute_result"
    }
   ],
   "source": [
    "w, residuals, rank, s = np.linalg.lstsq(X,T,rcond=None)\n",
    "np.linalg.lstsq?\n",
    "w"
   ]
  },
  {
   "cell_type": "code",
   "execution_count": 70,
   "metadata": {},
   "outputs": [
    {
     "data": {
      "text/plain": [
       "array([], dtype=float64)"
      ]
     },
     "execution_count": 70,
     "metadata": {},
     "output_type": "execute_result"
    }
   ],
   "source": [
    "residuals\n",
    "# from docstring: If the rank of `a` is < N or M <= N, this is an empty array.\n",
    "# `a` is X here, `b` is T, N is `a`'s second dimension, M is the first dimension of `b`"
   ]
  },
  {
   "cell_type": "code",
   "execution_count": 71,
   "metadata": {},
   "outputs": [
    {
     "name": "stdout",
     "output_type": "stream",
     "text": [
      "2 (2, 2) (2,) False True\n"
     ]
    }
   ],
   "source": [
    "print(np.linalg.matrix_rank(X),X.shape,T.shape,np.linalg.matrix_rank(X) < X.shape[1],T.shape[0] <= X.shape[1])"
   ]
  },
  {
   "cell_type": "markdown",
   "metadata": {},
   "source": [
    "M <= N here, so there are no residuals, but what are residuals?"
   ]
  },
  {
   "cell_type": "markdown",
   "metadata": {},
   "source": [
    "### Errors vs. Residuals\n",
    "\n",
    "* **Error**: deviation of the observed value from the (unobservable) *true* value of a quantity\n",
    "* **Residual**: difference between the observed value and the *estimated* value of the quantity\n",
    "\n",
    "In these simple linear algebra examples, errors and residuals don't really apply (we get exact values and know our true values, and they're the same).  **However** recall that the prediction step is basically $X^{-1}T$ to solve for $\\wv$ and if $T$ contains inexact values, or variables corresponding to $X$ don't linearly predict $T$, then the best we can do is approximation."
   ]
  },
  {
   "cell_type": "markdown",
   "metadata": {},
   "source": [
    "## Application"
   ]
  },
  {
   "cell_type": "markdown",
   "metadata": {},
   "source": [
    "Now we can play with some real data.\n",
    "\n",
    "Try the [automobile data set](http://mlr.cs.umass.edu/ml/datasets/Auto+MPG) at UCI Machine Learning Database \n",
    "Repository. Download\n",
    "*auto-mpg.data* and *auto-mpg.names* from the \"Data Folder\" link\n",
    "near the top of the web page."
   ]
  },
  {
   "cell_type": "code",
   "execution_count": 72,
   "metadata": {},
   "outputs": [
    {
     "name": "stderr",
     "output_type": "stream",
     "text": [
      "  % Total    % Received % Xferd  Average Speed   Time    Time     Time  Current\n",
      "                                 Dload  Upload   Total   Spent    Left  Speed\n",
      "\n",
      "  0     0    0     0    0     0      0      0 --:--:-- --:--:-- --:--:--     0\n",
      "100 32149  100 32149    0     0   148k      0 --:--:-- --:--:-- --:--:--  149k\n",
      "  % Total    % Received % Xferd  Average Speed   Time    Time     Time  Current\n",
      "                                 Dload  Upload   Total   Spent    Left  Speed\n",
      "\n",
      "  0     0    0     0    0     0      0      0 --:--:-- --:--:-- --:--:--     0\n",
      "100  1660  100  1660    0     0  11857      0 --:--:-- --:--:-- --:--:-- 11857\n"
     ]
    }
   ],
   "source": [
    "!curl -O https://archive.ics.uci.edu/ml/machine-learning-databases/auto-mpg/auto-mpg.data-original\n",
    "!curl -O https://archive.ics.uci.edu/ml/machine-learning-databases/auto-mpg/auto-mpg.names"
   ]
  },
  {
   "cell_type": "markdown",
   "metadata": {},
   "source": [
    "First, take a look at *auto-mpg.names*.  There you will learn that there are 398 samples, each with 8 numerical attributes and one string attribute. Their names are\n",
    "\n",
    "   1. mpg:           continuous\n",
    "   2. cylinders:     multi-valued discrete\n",
    "   3. displacement:  continuous\n",
    "   4. horsepower:    continuous\n",
    "   5. weight:        continuous\n",
    "   6. acceleration:  continuous\n",
    "   7. model year:    multi-valued discrete\n",
    "   8. origin:        multi-valued discrete\n",
    "   9. car name:      string (unique for each instance)\n",
    "\n",
    "First step, read it into python and look at it."
   ]
  },
  {
   "cell_type": "code",
   "execution_count": 73,
   "metadata": {},
   "outputs": [],
   "source": [
    "import pandas  # to help with reading csv file with missing values"
   ]
  },
  {
   "cell_type": "markdown",
   "metadata": {},
   "source": [
    "Take a look at a few lines of the data file to figure out how to read it in."
   ]
  },
  {
   "cell_type": "code",
   "execution_count": 74,
   "metadata": {},
   "outputs": [
    {
     "name": "stderr",
     "output_type": "stream",
     "text": [
      "'head' is not recognized as an internal or external command,\n",
      "operable program or batch file.\n"
     ]
    }
   ],
   "source": [
    "# use this on *nix systems\n",
    "!head -40 auto-mpg.data-original"
   ]
  },
  {
   "cell_type": "code",
   "execution_count": 75,
   "metadata": {},
   "outputs": [
    {
     "name": "stdout",
     "output_type": "stream",
     "text": [
      "18.0   8.   307.0      130.0      3504.      12.0   70.  1.     \"chevrolet chevelle malibu\"\n",
      "15.0   8.   350.0      165.0      3693.      11.5   70.  1.     \"buick skylark 320\"\n",
      "18.0   8.   318.0      150.0      3436.      11.0   70.  1.     \"plymouth satellite\"\n",
      "16.0   8.   304.0      150.0      3433.      12.0   70.  1.     \"amc rebel sst\"\n",
      "17.0   8.   302.0      140.0      3449.      10.5   70.  1.     \"ford torino\"\n",
      "15.0   8.   429.0      198.0      4341.      10.0   70.  1.     \"ford galaxie 500\"\n",
      "14.0   8.   454.0      220.0      4354.       9.0   70.  1.     \"chevrolet impala\"\n",
      "14.0   8.   440.0      215.0      4312.       8.5   70.  1.     \"plymouth fury iii\"\n",
      "14.0   8.   455.0      225.0      4425.      10.0   70.  1.     \"pontiac catalina\"\n",
      "15.0   8.   390.0      190.0      3850.       8.5   70.  1.     \"amc ambassador dpl\"\n",
      "NA     4.   133.0      115.0      3090.      17.5   70.  2.     \"citroen ds-21 pallas\"\n",
      "NA     8.   350.0      165.0      4142.      11.5   70.  1.     \"chevrolet chevelle concours (sw)\"\n",
      "NA     8.   351.0      153.0      4034.      11.0   70.  1.     \"ford torino (sw)\"\n",
      "NA     8.   383.0      175.0      4166.      10.5   70.  1.     \"plymouth satellite (sw)\"\n",
      "NA     8.   360.0      175.0      3850.      11.0   70.  1.     \"amc rebel sst (sw)\"\n",
      "15.0   8.   383.0      170.0      3563.      10.0   70.  1.     \"dodge challenger se\"\n",
      "14.0   8.   340.0      160.0      3609.       8.0   70.  1.     \"plymouth 'cuda 340\"\n",
      "NA     8.   302.0      140.0      3353.       8.0   70.  1.     \"ford mustang boss 302\"\n",
      "15.0   8.   400.0      150.0      3761.       9.5   70.  1.     \"chevrolet monte carlo\"\n",
      "14.0   8.   455.0      225.0      3086.      10.0   70.  1.     \"buick estate wagon (sw)\"\n",
      "24.0   4.   113.0      95.00      2372.      15.0   70.  3.     \"toyota corona mark ii\"\n",
      "22.0   6.   198.0      95.00      2833.      15.5   70.  1.     \"plymouth duster\"\n",
      "18.0   6.   199.0      97.00      2774.      15.5   70.  1.     \"amc hornet\"\n",
      "21.0   6.   200.0      85.00      2587.      16.0   70.  1.     \"ford maverick\"\n",
      "27.0   4.   97.00      88.00      2130.      14.5   70.  3.     \"datsun pl510\"\n",
      "26.0   4.   97.00      46.00      1835.      20.5   70.  2.     \"volkswagen 1131 deluxe sedan\"\n",
      "25.0   4.   110.0      87.00      2672.      17.5   70.  2.     \"peugeot 504\"\n",
      "24.0   4.   107.0      90.00      2430.      14.5   70.  2.     \"audi 100 ls\"\n",
      "25.0   4.   104.0      95.00      2375.      17.5   70.  2.     \"saab 99e\"\n",
      "26.0   4.   121.0      113.0      2234.      12.5   70.  2.     \"bmw 2002\"\n",
      "21.0   6.   199.0      90.00      2648.      15.0   70.  1.     \"amc gremlin\"\n",
      "10.0   8.   360.0      215.0      4615.      14.0   70.  1.     \"ford f250\"\n",
      "10.0   8.   307.0      200.0      4376.      15.0   70.  1.     \"chevy c20\"\n",
      "11.0   8.   318.0      210.0      4382.      13.5   70.  1.     \"dodge d200\"\n",
      "9.0   8.   304.0      193.0      4732.      18.5   70.  1.      \"hi 1200d\"\n",
      "27.0   4.   97.00      88.00      2130.      14.5   71.  3.     \"datsun pl510\"\n",
      "28.0   4.   140.0      90.00      2264.      15.5   71.  1.     \"chevrolet vega 2300\"\n",
      "25.0   4.   113.0      95.00      2228.      14.0   71.  3.     \"toyota corona\"\n",
      "25.0   4.   98.00      NA         2046.      19.0   71.  1.     \"ford pinto\"\n",
      "NA     4.   97.00      48.00      1978.      20.0   71.  2.     \"volkswagen super beetle 117\"\n",
      "19.0   6.   232.0      100.0      2634.      13.0   71.  1.     \"amc gremlin\"\n",
      "16.0   6.   225.0      105.0      3439.      15.5   71.  1.     \"plymouth satellite custom\"\n",
      "17.0   6.   250.0      100.0      3329.      15.5   71.  1.     \"chevrolet chevelle malibu\"\n",
      "19.0   6.   250.0      88.00      3302.      15.5   71.  1.     \"ford torino 500\"\n",
      "18.0   6.   232.0      100.0      3288.      15.5   71.  1.     \"amc matador\"\n",
      "14.0   8.   350.0      165.0      4209.      12.0   71.  1.     \"chevrolet impala\"\n",
      "14.0   8.   400.0      175.0      4464.      11.5   71.  1.     \"pontiac catalina brougham\"\n",
      "14.0   8.   351.0      153.0      4154.      13.5   71.  1.     \"ford galaxie 500\"\n",
      "14.0   8.   318.0      150.0      4096.      13.0   71.  1.     \"plymouth fury iii\"\n",
      "12.0   8.   383.0      180.0      4955.      11.5   71.  1.     \"dodge monaco (sw)\"\n",
      "13.0   8.   400.0      170.0      4746.      12.0   71.  1.     \"ford country squire (sw)\"\n",
      "13.0   8.   400.0      175.0      5140.      12.0   71.  1.     \"pontiac safari (sw)\"\n",
      "18.0   6.   258.0      110.0      2962.      13.5   71.  1.     \"amc hornet sportabout (sw)\"\n",
      "22.0   4.   140.0      72.00      2408.      19.0   71.  1.     \"chevrolet vega (sw)\"\n",
      "19.0   6.   250.0      100.0      3282.      15.0   71.  1.     \"pontiac firebird\"\n",
      "18.0   6.   250.0      88.00      3139.      14.5   71.  1.     \"ford mustang\"\n",
      "23.0   4.   122.0      86.00      2220.      14.0   71.  1.     \"mercury capri 2000\"\n",
      "28.0   4.   116.0      90.00      2123.      14.0   71.  2.     \"opel 1900\"\n",
      "30.0   4.   79.00      70.00      2074.      19.5   71.  2.     \"peugeot 304\"\n",
      "30.0   4.   88.00      76.00      2065.      14.5   71.  2.     \"fiat 124b\"\n",
      "31.0   4.   71.00      65.00      1773.      19.0   71.  3.     \"toyota corolla 1200\"\n",
      "35.0   4.   72.00      69.00      1613.      18.0   71.  3.     \"datsun 1200\"\n",
      "27.0   4.   97.00      60.00      1834.      19.0   71.  2.     \"volkswagen model 111\"\n",
      "26.0   4.   91.00      70.00      1955.      20.5   71.  1.     \"plymouth cricket\"\n",
      "24.0   4.   113.0      95.00      2278.      15.5   72.  3.     \"toyota corona hardtop\"\n",
      "25.0   4.   97.50      80.00      2126.      17.0   72.  1.     \"dodge colt hardtop\"\n",
      "23.0   4.   97.00      54.00      2254.      23.5   72.  2.     \"volkswagen type 3\"\n",
      "20.0   4.   140.0      90.00      2408.      19.5   72.  1.     \"chevrolet vega\"\n",
      "21.0   4.   122.0      86.00      2226.      16.5   72.  1.     \"ford pinto runabout\"\n",
      "13.0   8.   350.0      165.0      4274.      12.0   72.  1.     \"chevrolet impala\"\n",
      "14.0   8.   400.0      175.0      4385.      12.0   72.  1.     \"pontiac catalina\"\n",
      "15.0   8.   318.0      150.0      4135.      13.5   72.  1.     \"plymouth fury iii\"\n",
      "14.0   8.   351.0      153.0      4129.      13.0   72.  1.     \"ford galaxie 500\"\n",
      "17.0   8.   304.0      150.0      3672.      11.5   72.  1.     \"amc ambassador sst\"\n",
      "11.0   8.   429.0      208.0      4633.      11.0   72.  1.     \"mercury marquis\"\n",
      "13.0   8.   350.0      155.0      4502.      13.5   72.  1.     \"buick lesabre custom\"\n",
      "12.0   8.   350.0      160.0      4456.      13.5   72.  1.     \"oldsmobile delta 88 royale\"\n",
      "13.0   8.   400.0      190.0      4422.      12.5   72.  1.     \"chrysler newport royal\"\n",
      "19.0   3.   70.00      97.00      2330.      13.5   72.  3.     \"mazda rx2 coupe\"\n",
      "15.0   8.   304.0      150.0      3892.      12.5   72.  1.     \"amc matador (sw)\"\n",
      "13.0   8.   307.0      130.0      4098.      14.0   72.  1.     \"chevrolet chevelle concours (sw)\"\n",
      "13.0   8.   302.0      140.0      4294.      16.0   72.  1.     \"ford gran torino (sw)\"\n",
      "14.0   8.   318.0      150.0      4077.      14.0   72.  1.     \"plymouth satellite custom (sw)\"\n",
      "18.0   4.   121.0      112.0      2933.      14.5   72.  2.     \"volvo 145e (sw)\"\n",
      "22.0   4.   121.0      76.00      2511.      18.0   72.  2.     \"volkswagen 411 (sw)\"\n",
      "21.0   4.   120.0      87.00      2979.      19.5   72.  2.     \"peugeot 504 (sw)\"\n",
      "26.0   4.   96.00      69.00      2189.      18.0   72.  2.     \"renault 12 (sw)\"\n",
      "22.0   4.   122.0      86.00      2395.      16.0   72.  1.     \"ford pinto (sw)\"\n",
      "28.0   4.   97.00      92.00      2288.      17.0   72.  3.     \"datsun 510 (sw)\"\n",
      "23.0   4.   120.0      97.00      2506.      14.5   72.  3.     \"toyouta corona mark ii (sw)\"\n",
      "28.0   4.   98.00      80.00      2164.      15.0   72.  1.     \"dodge colt (sw)\"\n",
      "27.0   4.   97.00      88.00      2100.      16.5   72.  3.     \"toyota corolla 1600 (sw)\"\n",
      "13.0   8.   350.0      175.0      4100.      13.0   73.  1.     \"buick century 350\"\n",
      "14.0   8.   304.0      150.0      3672.      11.5   73.  1.     \"amc matador\"\n",
      "13.0   8.   350.0      145.0      3988.      13.0   73.  1.     \"chevrolet malibu\"\n",
      "14.0   8.   302.0      137.0      4042.      14.5   73.  1.     \"ford gran torino\"\n",
      "15.0   8.   318.0      150.0      3777.      12.5   73.  1.     \"dodge coronet custom\"\n",
      "12.0   8.   429.0      198.0      4952.      11.5   73.  1.     \"mercury marquis brougham\"\n",
      "13.0   8.   400.0      150.0      4464.      12.0   73.  1.     \"chevrolet caprice classic\"\n",
      "13.0   8.   351.0      158.0      4363.      13.0   73.  1.     \"ford ltd\"\n",
      "14.0   8.   318.0      150.0      4237.      14.5   73.  1.     \"plymouth fury gran sedan\"\n",
      "13.0   8.   440.0      215.0      4735.      11.0   73.  1.     \"chrysler new yorker brougham\"\n",
      "12.0   8.   455.0      225.0      4951.      11.0   73.  1.     \"buick electra 225 custom\"\n",
      "13.0   8.   360.0      175.0      3821.      11.0   73.  1.     \"amc ambassador brougham\"\n",
      "18.0   6.   225.0      105.0      3121.      16.5   73.  1.     \"plymouth valiant\"\n",
      "16.0   6.   250.0      100.0      3278.      18.0   73.  1.     \"chevrolet nova custom\"\n",
      "18.0   6.   232.0      100.0      2945.      16.0   73.  1.     \"amc hornet\"\n",
      "18.0   6.   250.0      88.00      3021.      16.5   73.  1.     \"ford maverick\"\n",
      "23.0   6.   198.0      95.00      2904.      16.0   73.  1.     \"plymouth duster\"\n",
      "26.0   4.   97.00      46.00      1950.      21.0   73.  2.     \"volkswagen super beetle\"\n",
      "11.0   8.   400.0      150.0      4997.      14.0   73.  1.     \"chevrolet impala\"\n",
      "12.0   8.   400.0      167.0      4906.      12.5   73.  1.     \"ford country\"\n",
      "13.0   8.   360.0      170.0      4654.      13.0   73.  1.     \"plymouth custom suburb\"\n",
      "12.0   8.   350.0      180.0      4499.      12.5   73.  1.     \"oldsmobile vista cruiser\"\n",
      "18.0   6.   232.0      100.0      2789.      15.0   73.  1.     \"amc gremlin\"\n",
      "20.0   4.   97.00      88.00      2279.      19.0   73.  3.     \"toyota carina\"\n",
      "21.0   4.   140.0      72.00      2401.      19.5   73.  1.     \"chevrolet vega\"\n",
      "22.0   4.   108.0      94.00      2379.      16.5   73.  3.     \"datsun 610\"\n",
      "18.0   3.   70.00      90.00      2124.      13.5   73.  3.     \"maxda rx3\"\n",
      "19.0   4.   122.0      85.00      2310.      18.5   73.  1.     \"ford pinto\"\n",
      "21.0   6.   155.0      107.0      2472.      14.0   73.  1.     \"mercury capri v6\"\n",
      "26.0   4.   98.00      90.00      2265.      15.5   73.  2.     \"fiat 124 sport coupe\"\n",
      "15.0   8.   350.0      145.0      4082.      13.0   73.  1.     \"chevrolet monte carlo s\"\n",
      "16.0   8.   400.0      230.0      4278.      9.50   73.  1.     \"pontiac grand prix\"\n",
      "29.0   4.   68.00      49.00      1867.      19.5   73.  2.     \"fiat 128\"\n",
      "24.0   4.   116.0      75.00      2158.      15.5   73.  2.     \"opel manta\"\n",
      "20.0   4.   114.0      91.00      2582.      14.0   73.  2.     \"audi 100ls\"\n",
      "19.0   4.   121.0      112.0      2868.      15.5   73.  2.     \"volvo 144ea\"\n",
      "15.0   8.   318.0      150.0      3399.      11.0   73.  1.     \"dodge dart custom\"\n",
      "24.0   4.   121.0      110.0      2660.      14.0   73.  2.     \"saab 99le\"\n",
      "20.0   6.   156.0      122.0      2807.      13.5   73.  3.     \"toyota mark ii\"\n",
      "11.0   8.   350.0      180.0      3664.      11.0   73.  1.     \"oldsmobile omega\"\n",
      "20.0   6.   198.0      95.00      3102.      16.5   74.  1.     \"plymouth duster\"\n",
      "21.0   6.   200.0      NA         2875.      17.0   74.  1.     \"ford maverick\"\n",
      "19.0   6.   232.0      100.0      2901.      16.0   74.  1.     \"amc hornet\"\n",
      "15.0   6.   250.0      100.0      3336.      17.0   74.  1.     \"chevrolet nova\"\n",
      "31.0   4.   79.00      67.00      1950.      19.0   74.  3.     \"datsun b210\"\n",
      "26.0   4.   122.0      80.00      2451.      16.5   74.  1.     \"ford pinto\"\n",
      "32.0   4.   71.00      65.00      1836.      21.0   74.  3.     \"toyota corolla 1200\"\n",
      "25.0   4.   140.0      75.00      2542.      17.0   74.  1.     \"chevrolet vega\"\n",
      "16.0   6.   250.0      100.0      3781.      17.0   74.  1.     \"chevrolet chevelle malibu classic\"\n",
      "16.0   6.   258.0      110.0      3632.      18.0   74.  1.     \"amc matador\"\n",
      "18.0   6.   225.0      105.0      3613.      16.5   74.  1.     \"plymouth satellite sebring\"\n",
      "16.0   8.   302.0      140.0      4141.      14.0   74.  1.     \"ford gran torino\"\n",
      "13.0   8.   350.0      150.0      4699.      14.5   74.  1.     \"buick century luxus (sw)\"\n",
      "14.0   8.   318.0      150.0      4457.      13.5   74.  1.     \"dodge coronet custom (sw)\"\n",
      "14.0   8.   302.0      140.0      4638.      16.0   74.  1.     \"ford gran torino (sw)\"\n",
      "14.0   8.   304.0      150.0      4257.      15.5   74.  1.     \"amc matador (sw)\"\n",
      "29.0   4.   98.00      83.00      2219.      16.5   74.  2.     \"audi fox\"\n",
      "26.0   4.   79.00      67.00      1963.      15.5   74.  2.     \"volkswagen dasher\"\n",
      "26.0   4.   97.00      78.00      2300.      14.5   74.  2.     \"opel manta\"\n",
      "31.0   4.   76.00      52.00      1649.      16.5   74.  3.     \"toyota corona\"\n",
      "32.0   4.   83.00      61.00      2003.      19.0   74.  3.     \"datsun 710\"\n",
      "28.0   4.   90.00      75.00      2125.      14.5   74.  1.     \"dodge colt\"\n",
      "24.0   4.   90.00      75.00      2108.      15.5   74.  2.     \"fiat 128\"\n",
      "26.0   4.   116.0      75.00      2246.      14.0   74.  2.     \"fiat 124 tc\"\n",
      "24.0   4.   120.0      97.00      2489.      15.0   74.  3.     \"honda civic\"\n",
      "26.0   4.   108.0      93.00      2391.      15.5   74.  3.     \"subaru\"\n",
      "31.0   4.   79.00      67.00      2000.      16.0   74.  2.     \"fiat x1.9\"\n",
      "19.0   6.   225.0      95.00      3264.      16.0   75.  1.     \"plymouth valiant custom\"\n",
      "18.0   6.   250.0      105.0      3459.      16.0   75.  1.     \"chevrolet nova\"\n",
      "15.0   6.   250.0      72.00      3432.      21.0   75.  1.     \"mercury monarch\"\n",
      "15.0   6.   250.0      72.00      3158.      19.5   75.  1.     \"ford maverick\"\n",
      "16.0   8.   400.0      170.0      4668.      11.5   75.  1.     \"pontiac catalina\"\n",
      "15.0   8.   350.0      145.0      4440.      14.0   75.  1.     \"chevrolet bel air\"\n",
      "16.0   8.   318.0      150.0      4498.      14.5   75.  1.     \"plymouth grand fury\"\n",
      "14.0   8.   351.0      148.0      4657.      13.5   75.  1.     \"ford ltd\"\n",
      "17.0   6.   231.0      110.0      3907.      21.0   75.  1.     \"buick century\"\n",
      "16.0   6.   250.0      105.0      3897.      18.5   75.  1.     \"chevroelt chevelle malibu\"\n",
      "15.0   6.   258.0      110.0      3730.      19.0   75.  1.     \"amc matador\"\n",
      "18.0   6.   225.0      95.00      3785.      19.0   75.  1.     \"plymouth fury\"\n",
      "21.0   6.   231.0      110.0      3039.      15.0   75.  1.     \"buick skyhawk\"\n",
      "20.0   8.   262.0      110.0      3221.      13.5   75.  1.     \"chevrolet monza 2+2\"\n",
      "13.0   8.   302.0      129.0      3169.      12.0   75.  1.     \"ford mustang ii\"\n",
      "29.0   4.   97.00      75.00      2171.      16.0   75.  3.     \"toyota corolla\"\n",
      "23.0   4.   140.0      83.00      2639.      17.0   75.  1.     \"ford pinto\"\n",
      "20.0   6.   232.0      100.0      2914.      16.0   75.  1.     \"amc gremlin\"\n",
      "23.0   4.   140.0      78.00      2592.      18.5   75.  1.     \"pontiac astro\"\n",
      "24.0   4.   134.0      96.00      2702.      13.5   75.  3.     \"toyota corona\"\n",
      "25.0   4.   90.00      71.00      2223.      16.5   75.  2.     \"volkswagen dasher\"\n",
      "24.0   4.   119.0      97.00      2545.      17.0   75.  3.     \"datsun 710\"\n",
      "18.0   6.   171.0      97.00      2984.      14.5   75.  1.     \"ford pinto\"\n",
      "29.0   4.   90.00      70.00      1937.      14.0   75.  2.     \"volkswagen rabbit\"\n",
      "19.0   6.   232.0      90.00      3211.      17.0   75.  1.     \"amc pacer\"\n",
      "23.0   4.   115.0      95.00      2694.      15.0   75.  2.     \"audi 100ls\"\n",
      "23.0   4.   120.0      88.00      2957.      17.0   75.  2.     \"peugeot 504\"\n",
      "22.0   4.   121.0      98.00      2945.      14.5   75.  2.     \"volvo 244dl\"\n",
      "25.0   4.   121.0      115.0      2671.      13.5   75.  2.     \"saab 99le\"\n",
      "33.0   4.   91.00      53.00      1795.      17.5   75.  3.     \"honda civic cvcc\"\n",
      "28.0   4.   107.0      86.00      2464.      15.5   76.  2.     \"fiat 131\"\n",
      "25.0   4.   116.0      81.00      2220.      16.9   76.  2.     \"opel 1900\"\n",
      "25.0   4.   140.0      92.00      2572.      14.9   76.  1.     \"capri ii\"\n",
      "26.0   4.   98.00      79.00      2255.      17.7   76.  1.     \"dodge colt\"\n",
      "27.0   4.   101.0      83.00      2202.      15.3   76.  2.     \"renault 12tl\"\n",
      "17.5   8.   305.0      140.0      4215.      13.0   76.  1.     \"chevrolet chevelle malibu classic\"\n",
      "16.0   8.   318.0      150.0      4190.      13.0   76.  1.     \"dodge coronet brougham\"\n",
      "15.5   8.   304.0      120.0      3962.      13.9   76.  1.     \"amc matador\"\n",
      "14.5   8.   351.0      152.0      4215.      12.8   76.  1.     \"ford gran torino\"\n",
      "22.0   6.   225.0      100.0      3233.      15.4   76.  1.     \"plymouth valiant\"\n",
      "22.0   6.   250.0      105.0      3353.      14.5   76.  1.     \"chevrolet nova\"\n",
      "24.0   6.   200.0      81.00      3012.      17.6   76.  1.     \"ford maverick\"\n",
      "22.5   6.   232.0      90.00      3085.      17.6   76.  1.     \"amc hornet\"\n",
      "29.0   4.   85.00      52.00      2035.      22.2   76.  1.     \"chevrolet chevette\"\n",
      "24.5   4.   98.00      60.00      2164.      22.1   76.  1.     \"chevrolet woody\"\n",
      "29.0   4.   90.00      70.00      1937.      14.2   76.  2.     \"vw rabbit\"\n",
      "33.0   4.   91.00      53.00      1795.      17.4   76.  3.     \"honda civic\"\n",
      "20.0   6.   225.0      100.0      3651.      17.7   76.  1.     \"dodge aspen se\"\n",
      "18.0   6.   250.0      78.00      3574.      21.0   76.  1.     \"ford granada ghia\"\n",
      "18.5   6.   250.0      110.0      3645.      16.2   76.  1.     \"pontiac ventura sj\"\n",
      "17.5   6.   258.0      95.00      3193.      17.8   76.  1.     \"amc pacer d/l\"\n",
      "29.5   4.   97.00      71.00      1825.      12.2   76.  2.     \"volkswagen rabbit\"\n",
      "32.0   4.   85.00      70.00      1990.      17.0   76.  3.     \"datsun b-210\"\n",
      "28.0   4.   97.00      75.00      2155.      16.4   76.  3.     \"toyota corolla\"\n",
      "26.5   4.   140.0      72.00      2565.      13.6   76.  1.     \"ford pinto\"\n",
      "20.0   4.   130.0      102.0      3150.      15.7   76.  2.     \"volvo 245\"\n",
      "13.0   8.   318.0      150.0      3940.      13.2   76.  1.     \"plymouth volare premier v8\"\n",
      "19.0   4.   120.0      88.00      3270.      21.9   76.  2.     \"peugeot 504\"\n",
      "19.0   6.   156.0      108.0      2930.      15.5   76.  3.     \"toyota mark ii\"\n",
      "16.5   6.   168.0      120.0      3820.      16.7   76.  2.     \"mercedes-benz 280s\"\n",
      "16.5   8.   350.0      180.0      4380.      12.1   76.  1.     \"cadillac seville\"\n",
      "13.0   8.   350.0      145.0      4055.      12.0   76.  1.     \"chevy c10\"\n",
      "13.0   8.   302.0      130.0      3870.      15.0   76.  1.     \"ford f108\"\n",
      "13.0   8.   318.0      150.0      3755.      14.0   76.  1.     \"dodge d100\"\n",
      "31.5   4.   98.00      68.00      2045.      18.5   77.  3.     \"honda accord cvcc\"\n",
      "30.0   4.   111.0      80.00      2155.      14.8   77.  1.     \"buick opel isuzu deluxe\"\n",
      "36.0   4.   79.00      58.00      1825.      18.6   77.  2.     \"renault 5 gtl\"\n",
      "25.5   4.   122.0      96.00      2300.      15.5   77.  1.     \"plymouth arrow gs\"\n",
      "33.5   4.   85.00      70.00      1945.      16.8   77.  3.     \"datsun f-10 hatchback\"\n",
      "17.5   8.   305.0      145.0      3880.      12.5   77.  1.     \"chevrolet caprice classic\"\n",
      "17.0   8.   260.0      110.0      4060.      19.0   77.  1.     \"oldsmobile cutlass supreme\"\n",
      "15.5   8.   318.0      145.0      4140.      13.7   77.  1.     \"dodge monaco brougham\"\n",
      "15.0   8.   302.0      130.0      4295.      14.9   77.  1.     \"mercury cougar brougham\"\n",
      "17.5   6.   250.0      110.0      3520.      16.4   77.  1.     \"chevrolet concours\"\n",
      "20.5   6.   231.0      105.0      3425.      16.9   77.  1.     \"buick skylark\"\n",
      "19.0   6.   225.0      100.0      3630.      17.7   77.  1.     \"plymouth volare custom\"\n",
      "18.5   6.   250.0      98.00      3525.      19.0   77.  1.     \"ford granada\"\n",
      "16.0   8.   400.0      180.0      4220.      11.1   77.  1.     \"pontiac grand prix lj\"\n",
      "15.5   8.   350.0      170.0      4165.      11.4   77.  1.     \"chevrolet monte carlo landau\"\n",
      "15.5   8.   400.0      190.0      4325.      12.2   77.  1.     \"chrysler cordoba\"\n",
      "16.0   8.   351.0      149.0      4335.      14.5   77.  1.     \"ford thunderbird\"\n",
      "29.0   4.   97.00      78.00      1940.      14.5   77.  2.     \"volkswagen rabbit custom\"\n",
      "24.5   4.   151.0      88.00      2740.      16.0   77.  1.     \"pontiac sunbird coupe\"\n",
      "26.0   4.   97.00      75.00      2265.      18.2   77.  3.     \"toyota corolla liftback\"\n",
      "25.5   4.   140.0      89.00      2755.      15.8   77.  1.     \"ford mustang ii 2+2\"\n",
      "30.5   4.   98.00      63.00      2051.      17.0   77.  1.     \"chevrolet chevette\"\n",
      "33.5   4.   98.00      83.00      2075.      15.9   77.  1.     \"dodge colt m/m\"\n",
      "30.0   4.   97.00      67.00      1985.      16.4   77.  3.     \"subaru dl\"\n",
      "30.5   4.   97.00      78.00      2190.      14.1   77.  2.     \"volkswagen dasher\"\n",
      "22.0   6.   146.0      97.00      2815.      14.5   77.  3.     \"datsun 810\"\n",
      "21.5   4.   121.0      110.0      2600.      12.8   77.  2.     \"bmw 320i\"\n",
      "21.5   3.   80.00      110.0      2720.      13.5   77.  3.     \"mazda rx-4\"\n",
      "43.1   4.   90.00      48.00      1985.      21.5   78   2.     \"volkswagen rabbit custom diesel\"\n",
      "36.1   4.   98.00      66.00      1800.      14.4   78   1.     \"ford fiesta\"\n",
      "32.8   4.   78.00      52.00      1985.      19.4   78.  3.     \"mazda glc deluxe\"\n",
      "39.4   4.   85.00      70.00      2070.      18.6   78.  3.     \"datsun b210 gx\"\n",
      "36.1   4.   91.00      60.00      1800.      16.4   78.  3.     \"honda civic cvcc\"\n",
      "19.9   8.   260.0      110.0      3365.      15.5   78.  1.     \"oldsmobile cutlass salon brougham\"\n",
      "19.4   8.   318.0      140.0      3735.      13.2   78.  1.     \"dodge diplomat\"\n",
      "20.2   8.   302.0      139.0      3570.      12.8   78.  1.     \"mercury monarch ghia\"\n",
      "19.2   6.   231.0      105.0      3535.      19.2   78.  1.     \"pontiac phoenix lj\"\n",
      "20.5   6.   200.0      95.00      3155.      18.2   78.  1.     \"chevrolet malibu\"\n",
      "20.2   6.   200.0      85.00      2965.      15.8   78.  1.     \"ford fairmont (auto)\"\n",
      "25.1   4.   140.0      88.00      2720.      15.4   78.  1.     \"ford fairmont (man)\"\n",
      "20.5   6.   225.0      100.0      3430.      17.2   78.  1.     \"plymouth volare\"\n",
      "19.4   6.   232.0      90.00      3210.      17.2   78.  1.     \"amc concord\"\n",
      "20.6   6.   231.0      105.0      3380.      15.8   78.  1.     \"buick century special\"\n",
      "20.8   6.   200.0      85.00      3070.      16.7   78.  1.     \"mercury zephyr\"\n",
      "18.6   6.   225.0      110.0      3620.      18.7   78.  1.     \"dodge aspen\"\n",
      "18.1   6.   258.0      120.0      3410.      15.1   78.  1.     \"amc concord d/l\"\n",
      "19.2   8.   305.0      145.0      3425.      13.2   78.  1.     \"chevrolet monte carlo landau\"\n",
      "17.7   6.   231.0      165.0      3445.      13.4   78.  1.     \"buick regal sport coupe (turbo)\"\n",
      "18.1   8.   302.0      139.0      3205.      11.2   78.  1.     \"ford futura\"\n",
      "17.5   8.   318.0      140.0      4080.      13.7   78.  1.     \"dodge magnum xe\"\n",
      "30.0   4.   98.00      68.00      2155.      16.5   78.  1.     \"chevrolet chevette\"\n",
      "27.5   4.   134.0      95.00      2560.      14.2   78.  3.     \"toyota corona\"\n",
      "27.2   4.   119.0      97.00      2300.      14.7   78.  3.     \"datsun 510\"\n",
      "30.9   4.   105.0      75.00      2230.      14.5   78.  1.     \"dodge omni\"\n",
      "21.1   4.   134.0      95.00      2515.      14.8   78.  3.     \"toyota celica gt liftback\"\n",
      "23.2   4.   156.0      105.0      2745.      16.7   78.  1.     \"plymouth sapporo\"\n",
      "23.8   4.   151.0      85.00      2855.      17.6   78.  1.     \"oldsmobile starfire sx\"\n",
      "23.9   4.   119.0      97.00      2405.      14.9   78.  3.     \"datsun 200-sx\"\n",
      "20.3   5.   131.0      103.0      2830.      15.9   78.  2.     \"audi 5000\"\n",
      "17.0   6.   163.0      125.0      3140.      13.6   78.  2.     \"volvo 264gl\"\n",
      "21.6   4.   121.0      115.0      2795.      15.7   78.  2.     \"saab 99gle\"\n",
      "16.2   6.   163.0      133.0      3410.      15.8   78.  2.     \"peugeot 604sl\"\n",
      "31.5   4.   89.00      71.00      1990.      14.9   78.  2.     \"volkswagen scirocco\"\n",
      "29.5   4.   98.00      68.00      2135.      16.6   78.  3.     \"honda accord lx\"\n",
      "21.5   6.   231.0      115.0      3245.      15.4   79.  1.     \"pontiac lemans v6\"\n",
      "19.8   6.   200.0      85.00      2990.      18.2   79.  1.     \"mercury zephyr 6\"\n",
      "22.3   4.   140.0      88.00      2890.      17.3   79.  1.     \"ford fairmont 4\"\n",
      "20.2   6.   232.0      90.00      3265.      18.2   79.  1.     \"amc concord dl 6\"\n",
      "20.6   6.   225.0      110.0      3360.      16.6   79.  1.     \"dodge aspen 6\"\n",
      "17.0   8.   305.0      130.0      3840.      15.4   79.  1.     \"chevrolet caprice classic\"\n",
      "17.6   8.   302.0      129.0      3725.      13.4   79.  1.     \"ford ltd landau\"\n",
      "16.5   8.   351.0      138.0      3955.      13.2   79.  1.     \"mercury grand marquis\"\n",
      "18.2   8.   318.0      135.0      3830.      15.2   79.  1.     \"dodge st. regis\"\n",
      "16.9   8.   350.0      155.0      4360.      14.9   79.  1.     \"buick estate wagon (sw)\"\n",
      "15.5   8.   351.0      142.0      4054.      14.3   79.  1.     \"ford country squire (sw)\"\n",
      "19.2   8.   267.0      125.0      3605.      15.0   79.  1.     \"chevrolet malibu classic (sw)\"\n",
      "18.5   8.   360.0      150.0      3940.      13.0   79.  1.     \"chrysler lebaron town @ country (sw)\"\n",
      "31.9   4.   89.00      71.00      1925.      14.0   79.  2.     \"vw rabbit custom\"\n",
      "34.1   4.   86.00      65.00      1975.      15.2   79.  3.     \"maxda glc deluxe\"\n",
      "35.7   4.   98.00      80.00      1915.      14.4   79.  1.     \"dodge colt hatchback custom\"\n",
      "27.4   4.   121.0      80.00      2670.      15.0   79.  1.     \"amc spirit dl\"\n",
      "25.4   5.   183.0      77.00      3530.      20.1   79.  2.     \"mercedes benz 300d\"\n",
      "23.0   8.   350.0      125.0      3900.      17.4   79.  1.     \"cadillac eldorado\"\n",
      "27.2   4.   141.0      71.00      3190.      24.8   79.  2.     \"peugeot 504\"\n",
      "23.9   8.   260.0      90.00      3420.      22.2   79.  1.     \"oldsmobile cutlass salon brougham\"\n",
      "34.2   4.   105.0      70.00      2200.      13.2   79.  1.     \"plymouth horizon\"\n",
      "34.5   4.   105.0      70.00      2150.      14.9   79.  1.     \"plymouth horizon tc3\"\n",
      "31.8   4.   85.00      65.00      2020.      19.2   79.  3.     \"datsun 210\"\n",
      "37.3   4.   91.00      69.00      2130.      14.7   79.  2.     \"fiat strada custom\"\n",
      "28.4   4.   151.0      90.00      2670.      16.0   79.  1.     \"buick skylark limited\"\n",
      "28.8   6.   173.0      115.0      2595.      11.3   79.  1.     \"chevrolet citation\"\n"
     ]
    },
    {
     "name": "stdout",
     "output_type": "stream",
     "text": [
      "26.8   6.   173.0      115.0      2700.      12.9   79.  1.     \"oldsmobile omega brougham\"\n",
      "33.5   4.   151.0      90.00      2556.      13.2   79.  1.     \"pontiac phoenix\"\n",
      "41.5   4.   98.00      76.00      2144.      14.7   80.  2.     \"vw rabbit\"\n",
      "38.1   4.   89.00      60.00      1968.      18.8   80.  3.     \"toyota corolla tercel\"\n",
      "32.1   4.   98.00      70.00      2120.      15.5   80.  1.     \"chevrolet chevette\"\n",
      "37.2   4.   86.00      65.00      2019.      16.4   80.  3.     \"datsun 310\"\n",
      "28.0   4.   151.0      90.00      2678.      16.5   80.  1.     \"chevrolet citation\"\n",
      "26.4   4.   140.0      88.00      2870.      18.1   80.  1.     \"ford fairmont\"\n",
      "24.3   4.   151.0      90.00      3003.      20.1   80.  1.     \"amc concord\"\n",
      "19.1   6.   225.0      90.00      3381.      18.7   80.  1.     \"dodge aspen\"\n",
      "34.3   4.   97.00      78.00      2188.      15.8   80.  2.     \"audi 4000\"\n",
      "29.8   4.   134.0      90.00      2711.      15.5   80.  3.     \"toyota corona liftback\"\n",
      "31.3   4.   120.0      75.00      2542.      17.5   80.  3.     \"mazda 626\"\n",
      "37.0   4.   119.0      92.00      2434.      15.0   80.  3.     \"datsun 510 hatchback\"\n",
      "32.2   4.   108.0      75.00      2265.      15.2   80.  3.     \"toyota corolla\"\n",
      "46.6   4.   86.00      65.00      2110.      17.9   80.  3.     \"mazda glc\"\n",
      "27.9   4.   156.0      105.0      2800.      14.4   80.  1.     \"dodge colt\"\n",
      "40.8   4.   85.00      65.00      2110.      19.2   80.  3.     \"datsun 210\"\n",
      "44.3   4.   90.00      48.00      2085.      21.7   80.  2.     \"vw rabbit c (diesel)\"\n",
      "43.4   4.   90.00      48.00      2335.      23.7   80.  2.     \"vw dasher (diesel)\"\n",
      "36.4   5.   121.0      67.00      2950.      19.9   80.  2.     \"audi 5000s (diesel)\"\n",
      "30.0   4.   146.0      67.00      3250.      21.8   80.  2.     \"mercedes-benz 240d\"\n",
      "44.6   4.   91.00      67.00      1850.      13.8   80.  3.     \"honda civic 1500 gl\"\n",
      "40.9   4.   85.00      NA         1835.      17.3   80.  2.     \"renault lecar deluxe\"\n",
      "33.8   4.   97.00      67.00      2145.      18.0   80.  3.     \"subaru dl\"\n",
      "29.8   4.   89.00      62.00      1845.      15.3   80.  2.     \"vokswagen rabbit\"\n",
      "32.7   6.   168.0      132.0      2910.      11.4   80.  3.     \"datsun 280-zx\"\n",
      "23.7   3.   70.00      100.0      2420.      12.5   80.  3.     \"mazda rx-7 gs\"\n",
      "35.0   4.   122.0      88.00      2500.      15.1   80.  2.     \"triumph tr7 coupe\"\n",
      "23.6   4.   140.0      NA         2905.      14.3   80.  1.     \"ford mustang cobra\"\n",
      "32.4   4.   107.0      72.00      2290.      17.0   80.  3.     \"honda accord\"\n",
      "27.2   4.   135.0      84.00      2490.      15.7   81.  1.     \"plymouth reliant\"\n",
      "26.6   4.   151.0      84.00      2635.      16.4   81.  1.     \"buick skylark\"\n",
      "25.8   4.   156.0      92.00      2620.      14.4   81.  1.     \"dodge aries wagon (sw)\"\n",
      "23.5   6.   173.0      110.0      2725.      12.6   81.  1.     \"chevrolet citation\"\n",
      "30.0   4.   135.0      84.00      2385.      12.9   81.  1.     \"plymouth reliant\"\n",
      "39.1   4.   79.00      58.00      1755.      16.9   81.  3.     \"toyota starlet\"\n",
      "39.0   4.   86.00      64.00      1875.      16.4   81.  1.     \"plymouth champ\"\n",
      "35.1   4.   81.00      60.00      1760.      16.1   81.  3.     \"honda civic 1300\"\n",
      "32.3   4.   97.00      67.00      2065.      17.8   81.  3.     \"subaru\"\n",
      "37.0   4.   85.00      65.00      1975.      19.4   81.  3.     \"datsun 210 mpg\"\n",
      "37.7   4.   89.00      62.00      2050.      17.3   81.  3.     \"toyota tercel\"\n",
      "34.1   4.   91.00      68.00      1985.      16.0   81.  3.     \"mazda glc 4\"\n",
      "34.7   4.   105.0      63.00      2215.      14.9   81.  1.     \"plymouth horizon 4\"\n",
      "34.4   4.   98.00      65.00      2045.      16.2   81.  1.     \"ford escort 4w\"\n",
      "29.9   4.   98.00      65.00      2380.      20.7   81.  1.     \"ford escort 2h\"\n",
      "33.0   4.   105.0      74.00      2190.      14.2   81.  2.     \"volkswagen jetta\"\n",
      "34.5   4.   100.0      NA         2320.      15.8   81.  2.     \"renault 18i\"\n",
      "33.7   4.   107.0      75.00      2210.      14.4   81.  3.     \"honda prelude\"\n",
      "32.4   4.   108.0      75.00      2350.      16.8   81.  3.     \"toyota corolla\"\n",
      "32.9   4.   119.0      100.0      2615.      14.8   81.  3.     \"datsun 200sx\"\n",
      "31.6   4.   120.0      74.00      2635.      18.3   81.  3.     \"mazda 626\"\n",
      "28.1   4.   141.0      80.00      3230.      20.4   81.  2.     \"peugeot 505s turbo diesel\"\n",
      "NA     4.   121.0      110.0      2800.      15.4   81.  2.     \"saab 900s\"\n",
      "30.7   6.   145.0      76.00      3160.      19.6   81.  2.     \"volvo diesel\"\n",
      "25.4   6.   168.0      116.0      2900.      12.6   81.  3.     \"toyota cressida\"\n",
      "24.2   6.   146.0      120.0      2930.      13.8   81.  3.     \"datsun 810 maxima\"\n",
      "22.4   6.   231.0      110.0      3415.      15.8   81.  1.     \"buick century\"\n",
      "26.6   8.   350.0      105.0      3725.      19.0   81.  1.     \"oldsmobile cutlass ls\"\n",
      "20.2   6.   200.0      88.00      3060.      17.1   81.  1.     \"ford granada gl\"\n",
      "17.6   6.   225.0      85.00      3465.      16.6   81.  1.     \"chrysler lebaron salon\"\n",
      "28.0   4.   112.0      88.00      2605.      19.6   82.  1.     \"chevrolet cavalier\"\n",
      "27.0   4.   112.0      88.00      2640.      18.6   82.  1.     \"chevrolet cavalier wagon\"\n",
      "34.0   4.   112.0      88.00      2395.      18.0   82.  1.     \"chevrolet cavalier 2-door\"\n",
      "31.0   4.   112.0      85.00      2575.      16.2   82.  1.     \"pontiac j2000 se hatchback\"\n",
      "29.0   4.   135.0      84.00      2525.      16.0   82.  1.     \"dodge aries se\"\n",
      "27.0   4.   151.0      90.00      2735.      18.0   82.  1.     \"pontiac phoenix\"\n",
      "24.0   4.   140.0      92.00      2865.      16.4   82.  1.     \"ford fairmont futura\"\n",
      "23.0   4.   151.0      NA         3035.      20.5   82.  1.     \"amc concord dl\"\n",
      "36.0   4.   105.0      74.00      1980.      15.3   82.  2.     \"volkswagen rabbit l\"\n",
      "37.0   4.   91.00      68.00      2025.      18.2   82.  3.     \"mazda glc custom l\"\n",
      "31.0   4.   91.00      68.00      1970.      17.6   82.  3.     \"mazda glc custom\"\n",
      "38.0   4.   105.0      63.00      2125.      14.7   82.  1.     \"plymouth horizon miser\"\n",
      "36.0   4.   98.00      70.00      2125.      17.3   82.  1.     \"mercury lynx l\"\n",
      "36.0   4.   120.0      88.00      2160.      14.5   82.  3.     \"nissan stanza xe\"\n",
      "36.0   4.   107.0      75.00      2205.      14.5   82.  3.     \"honda accord\"\n",
      "34.0   4.   108.0      70.00      2245       16.9   82.  3.     \"toyota corolla\"\n",
      "38.0   4.   91.00      67.00      1965.      15.0   82.  3.     \"honda civic\"\n",
      "32.0   4.   91.00      67.00      1965.      15.7   82.  3.     \"honda civic (auto)\"\n",
      "38.0   4.   91.00      67.00      1995.      16.2   82.  3.     \"datsun 310 gx\"\n",
      "25.0   6.   181.0      110.0      2945.      16.4   82.  1.     \"buick century limited\"\n",
      "38.0   6.   262.0      85.00      3015.      17.0   82.  1.     \"oldsmobile cutlass ciera (diesel)\"\n",
      "26.0   4.   156.0      92.00      2585.      14.5   82.  1.     \"chrysler lebaron medallion\"\n",
      "22.0   6.   232.0      112.0      2835       14.7   82.  1.     \"ford granada l\"\n",
      "32.0   4.   144.0      96.00      2665.      13.9   82.  3.     \"toyota celica gt\"\n",
      "36.0   4.   135.0      84.00      2370.      13.0   82.  1.     \"dodge charger 2.2\"\n",
      "27.0   4.   151.0      90.00      2950.      17.3   82.  1.     \"chevrolet camaro\"\n",
      "27.0   4.   140.0      86.00      2790.      15.6   82.  1.     \"ford mustang gl\"\n",
      "44.0   4.   97.00      52.00      2130.      24.6   82.  2.     \"vw pickup\"\n",
      "32.0   4.   135.0      84.00      2295.      11.6   82.  1.     \"dodge rampage\"\n",
      "28.0   4.   120.0      79.00      2625.      18.6   82.  1.     \"ford ranger\"\n",
      "31.0   4.   119.0      82.00      2720.      19.4   82.  1.     \"chevy s-10\"\n"
     ]
    }
   ],
   "source": [
    "# use this on Windows\n",
    "!more auto-mpg.data-original +0"
   ]
  },
  {
   "cell_type": "code",
   "execution_count": 76,
   "metadata": {
    "scrolled": true
   },
   "outputs": [
    {
     "data": {
      "text/html": [
       "<div>\n",
       "<style scoped>\n",
       "    .dataframe tbody tr th:only-of-type {\n",
       "        vertical-align: middle;\n",
       "    }\n",
       "\n",
       "    .dataframe tbody tr th {\n",
       "        vertical-align: top;\n",
       "    }\n",
       "\n",
       "    .dataframe thead th {\n",
       "        text-align: right;\n",
       "    }\n",
       "</style>\n",
       "<table border=\"1\" class=\"dataframe\">\n",
       "  <thead>\n",
       "    <tr style=\"text-align: right;\">\n",
       "      <th></th>\n",
       "      <th>18.0   8.   307.0      130.0      3504.      12.0   70.  1.\\t\"chevrolet chevelle malibu\"</th>\n",
       "    </tr>\n",
       "  </thead>\n",
       "  <tbody>\n",
       "    <tr>\n",
       "      <th>0</th>\n",
       "      <td>15.0   8.   350.0      165.0      3693.      1...</td>\n",
       "    </tr>\n",
       "    <tr>\n",
       "      <th>1</th>\n",
       "      <td>18.0   8.   318.0      150.0      3436.      1...</td>\n",
       "    </tr>\n",
       "    <tr>\n",
       "      <th>2</th>\n",
       "      <td>16.0   8.   304.0      150.0      3433.      1...</td>\n",
       "    </tr>\n",
       "    <tr>\n",
       "      <th>3</th>\n",
       "      <td>17.0   8.   302.0      140.0      3449.      1...</td>\n",
       "    </tr>\n",
       "    <tr>\n",
       "      <th>4</th>\n",
       "      <td>15.0   8.   429.0      198.0      4341.      1...</td>\n",
       "    </tr>\n",
       "    <tr>\n",
       "      <th>...</th>\n",
       "      <td>...</td>\n",
       "    </tr>\n",
       "    <tr>\n",
       "      <th>400</th>\n",
       "      <td>27.0   4.   140.0      86.00      2790.      1...</td>\n",
       "    </tr>\n",
       "    <tr>\n",
       "      <th>401</th>\n",
       "      <td>44.0   4.   97.00      52.00      2130.      2...</td>\n",
       "    </tr>\n",
       "    <tr>\n",
       "      <th>402</th>\n",
       "      <td>32.0   4.   135.0      84.00      2295.      1...</td>\n",
       "    </tr>\n",
       "    <tr>\n",
       "      <th>403</th>\n",
       "      <td>28.0   4.   120.0      79.00      2625.      1...</td>\n",
       "    </tr>\n",
       "    <tr>\n",
       "      <th>404</th>\n",
       "      <td>31.0   4.   119.0      82.00      2720.      1...</td>\n",
       "    </tr>\n",
       "  </tbody>\n",
       "</table>\n",
       "<p>405 rows × 1 columns</p>\n",
       "</div>"
      ],
      "text/plain": [
       "    18.0   8.   307.0      130.0      3504.      12.0   70.  1.\\t\"chevrolet chevelle malibu\"\n",
       "0    15.0   8.   350.0      165.0      3693.      1...                                      \n",
       "1    18.0   8.   318.0      150.0      3436.      1...                                      \n",
       "2    16.0   8.   304.0      150.0      3433.      1...                                      \n",
       "3    17.0   8.   302.0      140.0      3449.      1...                                      \n",
       "4    15.0   8.   429.0      198.0      4341.      1...                                      \n",
       "..                                                 ...                                      \n",
       "400  27.0   4.   140.0      86.00      2790.      1...                                      \n",
       "401  44.0   4.   97.00      52.00      2130.      2...                                      \n",
       "402  32.0   4.   135.0      84.00      2295.      1...                                      \n",
       "403  28.0   4.   120.0      79.00      2625.      1...                                      \n",
       "404  31.0   4.   119.0      82.00      2720.      1...                                      \n",
       "\n",
       "[405 rows x 1 columns]"
      ]
     },
     "execution_count": 76,
     "metadata": {},
     "output_type": "execute_result"
    }
   ],
   "source": [
    "df = pandas.read_csv('auto-mpg.data-original')\n",
    "df"
   ]
  },
  {
   "cell_type": "markdown",
   "metadata": {},
   "source": [
    "Also, nastily formatted (check that first row, especially)."
   ]
  },
  {
   "cell_type": "code",
   "execution_count": 77,
   "metadata": {},
   "outputs": [],
   "source": [
    "pandas.read_csv?"
   ]
  },
  {
   "cell_type": "markdown",
   "metadata": {},
   "source": [
    "Also read through [this pandas.read_csv tutorial](https://honingds.com/blog/pandas-read_csv/)."
   ]
  },
  {
   "cell_type": "code",
   "execution_count": 78,
   "metadata": {},
   "outputs": [
    {
     "data": {
      "text/html": [
       "<div>\n",
       "<style scoped>\n",
       "    .dataframe tbody tr th:only-of-type {\n",
       "        vertical-align: middle;\n",
       "    }\n",
       "\n",
       "    .dataframe tbody tr th {\n",
       "        vertical-align: top;\n",
       "    }\n",
       "\n",
       "    .dataframe thead th {\n",
       "        text-align: right;\n",
       "    }\n",
       "</style>\n",
       "<table border=\"1\" class=\"dataframe\">\n",
       "  <thead>\n",
       "    <tr style=\"text-align: right;\">\n",
       "      <th></th>\n",
       "      <th>0</th>\n",
       "      <th>1</th>\n",
       "      <th>2</th>\n",
       "      <th>3</th>\n",
       "      <th>4</th>\n",
       "      <th>5</th>\n",
       "      <th>6</th>\n",
       "      <th>7</th>\n",
       "      <th>8</th>\n",
       "    </tr>\n",
       "  </thead>\n",
       "  <tbody>\n",
       "    <tr>\n",
       "      <th>0</th>\n",
       "      <td>18.0</td>\n",
       "      <td>8.0</td>\n",
       "      <td>307.0</td>\n",
       "      <td>130.0</td>\n",
       "      <td>3504.0</td>\n",
       "      <td>12.0</td>\n",
       "      <td>70.0</td>\n",
       "      <td>1.0</td>\n",
       "      <td>chevrolet chevelle malibu</td>\n",
       "    </tr>\n",
       "    <tr>\n",
       "      <th>1</th>\n",
       "      <td>15.0</td>\n",
       "      <td>8.0</td>\n",
       "      <td>350.0</td>\n",
       "      <td>165.0</td>\n",
       "      <td>3693.0</td>\n",
       "      <td>11.5</td>\n",
       "      <td>70.0</td>\n",
       "      <td>1.0</td>\n",
       "      <td>buick skylark 320</td>\n",
       "    </tr>\n",
       "    <tr>\n",
       "      <th>2</th>\n",
       "      <td>18.0</td>\n",
       "      <td>8.0</td>\n",
       "      <td>318.0</td>\n",
       "      <td>150.0</td>\n",
       "      <td>3436.0</td>\n",
       "      <td>11.0</td>\n",
       "      <td>70.0</td>\n",
       "      <td>1.0</td>\n",
       "      <td>plymouth satellite</td>\n",
       "    </tr>\n",
       "    <tr>\n",
       "      <th>3</th>\n",
       "      <td>16.0</td>\n",
       "      <td>8.0</td>\n",
       "      <td>304.0</td>\n",
       "      <td>150.0</td>\n",
       "      <td>3433.0</td>\n",
       "      <td>12.0</td>\n",
       "      <td>70.0</td>\n",
       "      <td>1.0</td>\n",
       "      <td>amc rebel sst</td>\n",
       "    </tr>\n",
       "    <tr>\n",
       "      <th>4</th>\n",
       "      <td>17.0</td>\n",
       "      <td>8.0</td>\n",
       "      <td>302.0</td>\n",
       "      <td>140.0</td>\n",
       "      <td>3449.0</td>\n",
       "      <td>10.5</td>\n",
       "      <td>70.0</td>\n",
       "      <td>1.0</td>\n",
       "      <td>ford torino</td>\n",
       "    </tr>\n",
       "    <tr>\n",
       "      <th>...</th>\n",
       "      <td>...</td>\n",
       "      <td>...</td>\n",
       "      <td>...</td>\n",
       "      <td>...</td>\n",
       "      <td>...</td>\n",
       "      <td>...</td>\n",
       "      <td>...</td>\n",
       "      <td>...</td>\n",
       "      <td>...</td>\n",
       "    </tr>\n",
       "    <tr>\n",
       "      <th>401</th>\n",
       "      <td>27.0</td>\n",
       "      <td>4.0</td>\n",
       "      <td>140.0</td>\n",
       "      <td>86.0</td>\n",
       "      <td>2790.0</td>\n",
       "      <td>15.6</td>\n",
       "      <td>82.0</td>\n",
       "      <td>1.0</td>\n",
       "      <td>ford mustang gl</td>\n",
       "    </tr>\n",
       "    <tr>\n",
       "      <th>402</th>\n",
       "      <td>44.0</td>\n",
       "      <td>4.0</td>\n",
       "      <td>97.0</td>\n",
       "      <td>52.0</td>\n",
       "      <td>2130.0</td>\n",
       "      <td>24.6</td>\n",
       "      <td>82.0</td>\n",
       "      <td>2.0</td>\n",
       "      <td>vw pickup</td>\n",
       "    </tr>\n",
       "    <tr>\n",
       "      <th>403</th>\n",
       "      <td>32.0</td>\n",
       "      <td>4.0</td>\n",
       "      <td>135.0</td>\n",
       "      <td>84.0</td>\n",
       "      <td>2295.0</td>\n",
       "      <td>11.6</td>\n",
       "      <td>82.0</td>\n",
       "      <td>1.0</td>\n",
       "      <td>dodge rampage</td>\n",
       "    </tr>\n",
       "    <tr>\n",
       "      <th>404</th>\n",
       "      <td>28.0</td>\n",
       "      <td>4.0</td>\n",
       "      <td>120.0</td>\n",
       "      <td>79.0</td>\n",
       "      <td>2625.0</td>\n",
       "      <td>18.6</td>\n",
       "      <td>82.0</td>\n",
       "      <td>1.0</td>\n",
       "      <td>ford ranger</td>\n",
       "    </tr>\n",
       "    <tr>\n",
       "      <th>405</th>\n",
       "      <td>31.0</td>\n",
       "      <td>4.0</td>\n",
       "      <td>119.0</td>\n",
       "      <td>82.0</td>\n",
       "      <td>2720.0</td>\n",
       "      <td>19.4</td>\n",
       "      <td>82.0</td>\n",
       "      <td>1.0</td>\n",
       "      <td>chevy s-10</td>\n",
       "    </tr>\n",
       "  </tbody>\n",
       "</table>\n",
       "<p>406 rows × 9 columns</p>\n",
       "</div>"
      ],
      "text/plain": [
       "        0    1      2      3       4     5     6    7  \\\n",
       "0    18.0  8.0  307.0  130.0  3504.0  12.0  70.0  1.0   \n",
       "1    15.0  8.0  350.0  165.0  3693.0  11.5  70.0  1.0   \n",
       "2    18.0  8.0  318.0  150.0  3436.0  11.0  70.0  1.0   \n",
       "3    16.0  8.0  304.0  150.0  3433.0  12.0  70.0  1.0   \n",
       "4    17.0  8.0  302.0  140.0  3449.0  10.5  70.0  1.0   \n",
       "..    ...  ...    ...    ...     ...   ...   ...  ...   \n",
       "401  27.0  4.0  140.0   86.0  2790.0  15.6  82.0  1.0   \n",
       "402  44.0  4.0   97.0   52.0  2130.0  24.6  82.0  2.0   \n",
       "403  32.0  4.0  135.0   84.0  2295.0  11.6  82.0  1.0   \n",
       "404  28.0  4.0  120.0   79.0  2625.0  18.6  82.0  1.0   \n",
       "405  31.0  4.0  119.0   82.0  2720.0  19.4  82.0  1.0   \n",
       "\n",
       "                             8  \n",
       "0    chevrolet chevelle malibu  \n",
       "1            buick skylark 320  \n",
       "2           plymouth satellite  \n",
       "3                amc rebel sst  \n",
       "4                  ford torino  \n",
       "..                         ...  \n",
       "401            ford mustang gl  \n",
       "402                  vw pickup  \n",
       "403              dodge rampage  \n",
       "404                ford ranger  \n",
       "405                 chevy s-10  \n",
       "\n",
       "[406 rows x 9 columns]"
      ]
     },
     "execution_count": 78,
     "metadata": {},
     "output_type": "execute_result"
    }
   ],
   "source": [
    "df = pandas.read_csv('auto-mpg.data-original', header=None, delim_whitespace=True)\n",
    "df"
   ]
  },
  {
   "cell_type": "code",
   "execution_count": 79,
   "metadata": {},
   "outputs": [
    {
     "data": {
      "text/html": [
       "<div>\n",
       "<style scoped>\n",
       "    .dataframe tbody tr th:only-of-type {\n",
       "        vertical-align: middle;\n",
       "    }\n",
       "\n",
       "    .dataframe tbody tr th {\n",
       "        vertical-align: top;\n",
       "    }\n",
       "\n",
       "    .dataframe thead th {\n",
       "        text-align: right;\n",
       "    }\n",
       "</style>\n",
       "<table border=\"1\" class=\"dataframe\">\n",
       "  <thead>\n",
       "    <tr style=\"text-align: right;\">\n",
       "      <th></th>\n",
       "      <th>0</th>\n",
       "      <th>1</th>\n",
       "      <th>2</th>\n",
       "      <th>3</th>\n",
       "      <th>4</th>\n",
       "      <th>5</th>\n",
       "      <th>6</th>\n",
       "      <th>7</th>\n",
       "      <th>8</th>\n",
       "    </tr>\n",
       "  </thead>\n",
       "  <tbody>\n",
       "    <tr>\n",
       "      <th>30</th>\n",
       "      <td>21.0</td>\n",
       "      <td>6.0</td>\n",
       "      <td>199.0</td>\n",
       "      <td>90.0</td>\n",
       "      <td>2648.0</td>\n",
       "      <td>15.0</td>\n",
       "      <td>70.0</td>\n",
       "      <td>1.0</td>\n",
       "      <td>amc gremlin</td>\n",
       "    </tr>\n",
       "    <tr>\n",
       "      <th>31</th>\n",
       "      <td>10.0</td>\n",
       "      <td>8.0</td>\n",
       "      <td>360.0</td>\n",
       "      <td>215.0</td>\n",
       "      <td>4615.0</td>\n",
       "      <td>14.0</td>\n",
       "      <td>70.0</td>\n",
       "      <td>1.0</td>\n",
       "      <td>ford f250</td>\n",
       "    </tr>\n",
       "    <tr>\n",
       "      <th>32</th>\n",
       "      <td>10.0</td>\n",
       "      <td>8.0</td>\n",
       "      <td>307.0</td>\n",
       "      <td>200.0</td>\n",
       "      <td>4376.0</td>\n",
       "      <td>15.0</td>\n",
       "      <td>70.0</td>\n",
       "      <td>1.0</td>\n",
       "      <td>chevy c20</td>\n",
       "    </tr>\n",
       "    <tr>\n",
       "      <th>33</th>\n",
       "      <td>11.0</td>\n",
       "      <td>8.0</td>\n",
       "      <td>318.0</td>\n",
       "      <td>210.0</td>\n",
       "      <td>4382.0</td>\n",
       "      <td>13.5</td>\n",
       "      <td>70.0</td>\n",
       "      <td>1.0</td>\n",
       "      <td>dodge d200</td>\n",
       "    </tr>\n",
       "    <tr>\n",
       "      <th>34</th>\n",
       "      <td>9.0</td>\n",
       "      <td>8.0</td>\n",
       "      <td>304.0</td>\n",
       "      <td>193.0</td>\n",
       "      <td>4732.0</td>\n",
       "      <td>18.5</td>\n",
       "      <td>70.0</td>\n",
       "      <td>1.0</td>\n",
       "      <td>hi 1200d</td>\n",
       "    </tr>\n",
       "    <tr>\n",
       "      <th>35</th>\n",
       "      <td>27.0</td>\n",
       "      <td>4.0</td>\n",
       "      <td>97.0</td>\n",
       "      <td>88.0</td>\n",
       "      <td>2130.0</td>\n",
       "      <td>14.5</td>\n",
       "      <td>71.0</td>\n",
       "      <td>3.0</td>\n",
       "      <td>datsun pl510</td>\n",
       "    </tr>\n",
       "    <tr>\n",
       "      <th>36</th>\n",
       "      <td>28.0</td>\n",
       "      <td>4.0</td>\n",
       "      <td>140.0</td>\n",
       "      <td>90.0</td>\n",
       "      <td>2264.0</td>\n",
       "      <td>15.5</td>\n",
       "      <td>71.0</td>\n",
       "      <td>1.0</td>\n",
       "      <td>chevrolet vega 2300</td>\n",
       "    </tr>\n",
       "    <tr>\n",
       "      <th>37</th>\n",
       "      <td>25.0</td>\n",
       "      <td>4.0</td>\n",
       "      <td>113.0</td>\n",
       "      <td>95.0</td>\n",
       "      <td>2228.0</td>\n",
       "      <td>14.0</td>\n",
       "      <td>71.0</td>\n",
       "      <td>3.0</td>\n",
       "      <td>toyota corona</td>\n",
       "    </tr>\n",
       "    <tr>\n",
       "      <th>38</th>\n",
       "      <td>25.0</td>\n",
       "      <td>4.0</td>\n",
       "      <td>98.0</td>\n",
       "      <td>NaN</td>\n",
       "      <td>2046.0</td>\n",
       "      <td>19.0</td>\n",
       "      <td>71.0</td>\n",
       "      <td>1.0</td>\n",
       "      <td>ford pinto</td>\n",
       "    </tr>\n",
       "    <tr>\n",
       "      <th>39</th>\n",
       "      <td>NaN</td>\n",
       "      <td>4.0</td>\n",
       "      <td>97.0</td>\n",
       "      <td>48.0</td>\n",
       "      <td>1978.0</td>\n",
       "      <td>20.0</td>\n",
       "      <td>71.0</td>\n",
       "      <td>2.0</td>\n",
       "      <td>volkswagen super beetle 117</td>\n",
       "    </tr>\n",
       "  </tbody>\n",
       "</table>\n",
       "</div>"
      ],
      "text/plain": [
       "       0    1      2      3       4     5     6    7  \\\n",
       "30  21.0  6.0  199.0   90.0  2648.0  15.0  70.0  1.0   \n",
       "31  10.0  8.0  360.0  215.0  4615.0  14.0  70.0  1.0   \n",
       "32  10.0  8.0  307.0  200.0  4376.0  15.0  70.0  1.0   \n",
       "33  11.0  8.0  318.0  210.0  4382.0  13.5  70.0  1.0   \n",
       "34   9.0  8.0  304.0  193.0  4732.0  18.5  70.0  1.0   \n",
       "35  27.0  4.0   97.0   88.0  2130.0  14.5  71.0  3.0   \n",
       "36  28.0  4.0  140.0   90.0  2264.0  15.5  71.0  1.0   \n",
       "37  25.0  4.0  113.0   95.0  2228.0  14.0  71.0  3.0   \n",
       "38  25.0  4.0   98.0    NaN  2046.0  19.0  71.0  1.0   \n",
       "39   NaN  4.0   97.0   48.0  1978.0  20.0  71.0  2.0   \n",
       "\n",
       "                              8  \n",
       "30                  amc gremlin  \n",
       "31                    ford f250  \n",
       "32                    chevy c20  \n",
       "33                   dodge d200  \n",
       "34                     hi 1200d  \n",
       "35                 datsun pl510  \n",
       "36          chevrolet vega 2300  \n",
       "37                toyota corona  \n",
       "38                   ford pinto  \n",
       "39  volkswagen super beetle 117  "
      ]
     },
     "execution_count": 79,
     "metadata": {},
     "output_type": "execute_result"
    }
   ],
   "source": [
    "df.iloc[30:40] # look at rows 30-39"
   ]
  },
  {
   "cell_type": "code",
   "execution_count": 80,
   "metadata": {
    "scrolled": true
   },
   "outputs": [
    {
     "data": {
      "text/html": [
       "<div>\n",
       "<style scoped>\n",
       "    .dataframe tbody tr th:only-of-type {\n",
       "        vertical-align: middle;\n",
       "    }\n",
       "\n",
       "    .dataframe tbody tr th {\n",
       "        vertical-align: top;\n",
       "    }\n",
       "\n",
       "    .dataframe thead th {\n",
       "        text-align: right;\n",
       "    }\n",
       "</style>\n",
       "<table border=\"1\" class=\"dataframe\">\n",
       "  <thead>\n",
       "    <tr style=\"text-align: right;\">\n",
       "      <th></th>\n",
       "      <th>0</th>\n",
       "      <th>1</th>\n",
       "      <th>2</th>\n",
       "      <th>3</th>\n",
       "      <th>4</th>\n",
       "      <th>5</th>\n",
       "      <th>6</th>\n",
       "      <th>7</th>\n",
       "      <th>8</th>\n",
       "    </tr>\n",
       "  </thead>\n",
       "  <tbody>\n",
       "    <tr>\n",
       "      <th>0</th>\n",
       "      <td>18.0</td>\n",
       "      <td>8.0</td>\n",
       "      <td>307.0</td>\n",
       "      <td>130.0</td>\n",
       "      <td>3504.0</td>\n",
       "      <td>12.0</td>\n",
       "      <td>70.0</td>\n",
       "      <td>1.0</td>\n",
       "      <td>chevrolet chevelle malibu</td>\n",
       "    </tr>\n",
       "    <tr>\n",
       "      <th>1</th>\n",
       "      <td>15.0</td>\n",
       "      <td>8.0</td>\n",
       "      <td>350.0</td>\n",
       "      <td>165.0</td>\n",
       "      <td>3693.0</td>\n",
       "      <td>11.5</td>\n",
       "      <td>70.0</td>\n",
       "      <td>1.0</td>\n",
       "      <td>buick skylark 320</td>\n",
       "    </tr>\n",
       "    <tr>\n",
       "      <th>2</th>\n",
       "      <td>18.0</td>\n",
       "      <td>8.0</td>\n",
       "      <td>318.0</td>\n",
       "      <td>150.0</td>\n",
       "      <td>3436.0</td>\n",
       "      <td>11.0</td>\n",
       "      <td>70.0</td>\n",
       "      <td>1.0</td>\n",
       "      <td>plymouth satellite</td>\n",
       "    </tr>\n",
       "    <tr>\n",
       "      <th>3</th>\n",
       "      <td>16.0</td>\n",
       "      <td>8.0</td>\n",
       "      <td>304.0</td>\n",
       "      <td>150.0</td>\n",
       "      <td>3433.0</td>\n",
       "      <td>12.0</td>\n",
       "      <td>70.0</td>\n",
       "      <td>1.0</td>\n",
       "      <td>amc rebel sst</td>\n",
       "    </tr>\n",
       "    <tr>\n",
       "      <th>4</th>\n",
       "      <td>17.0</td>\n",
       "      <td>8.0</td>\n",
       "      <td>302.0</td>\n",
       "      <td>140.0</td>\n",
       "      <td>3449.0</td>\n",
       "      <td>10.5</td>\n",
       "      <td>70.0</td>\n",
       "      <td>1.0</td>\n",
       "      <td>ford torino</td>\n",
       "    </tr>\n",
       "    <tr>\n",
       "      <th>...</th>\n",
       "      <td>...</td>\n",
       "      <td>...</td>\n",
       "      <td>...</td>\n",
       "      <td>...</td>\n",
       "      <td>...</td>\n",
       "      <td>...</td>\n",
       "      <td>...</td>\n",
       "      <td>...</td>\n",
       "      <td>...</td>\n",
       "    </tr>\n",
       "    <tr>\n",
       "      <th>401</th>\n",
       "      <td>27.0</td>\n",
       "      <td>4.0</td>\n",
       "      <td>140.0</td>\n",
       "      <td>86.0</td>\n",
       "      <td>2790.0</td>\n",
       "      <td>15.6</td>\n",
       "      <td>82.0</td>\n",
       "      <td>1.0</td>\n",
       "      <td>ford mustang gl</td>\n",
       "    </tr>\n",
       "    <tr>\n",
       "      <th>402</th>\n",
       "      <td>44.0</td>\n",
       "      <td>4.0</td>\n",
       "      <td>97.0</td>\n",
       "      <td>52.0</td>\n",
       "      <td>2130.0</td>\n",
       "      <td>24.6</td>\n",
       "      <td>82.0</td>\n",
       "      <td>2.0</td>\n",
       "      <td>vw pickup</td>\n",
       "    </tr>\n",
       "    <tr>\n",
       "      <th>403</th>\n",
       "      <td>32.0</td>\n",
       "      <td>4.0</td>\n",
       "      <td>135.0</td>\n",
       "      <td>84.0</td>\n",
       "      <td>2295.0</td>\n",
       "      <td>11.6</td>\n",
       "      <td>82.0</td>\n",
       "      <td>1.0</td>\n",
       "      <td>dodge rampage</td>\n",
       "    </tr>\n",
       "    <tr>\n",
       "      <th>404</th>\n",
       "      <td>28.0</td>\n",
       "      <td>4.0</td>\n",
       "      <td>120.0</td>\n",
       "      <td>79.0</td>\n",
       "      <td>2625.0</td>\n",
       "      <td>18.6</td>\n",
       "      <td>82.0</td>\n",
       "      <td>1.0</td>\n",
       "      <td>ford ranger</td>\n",
       "    </tr>\n",
       "    <tr>\n",
       "      <th>405</th>\n",
       "      <td>31.0</td>\n",
       "      <td>4.0</td>\n",
       "      <td>119.0</td>\n",
       "      <td>82.0</td>\n",
       "      <td>2720.0</td>\n",
       "      <td>19.4</td>\n",
       "      <td>82.0</td>\n",
       "      <td>1.0</td>\n",
       "      <td>chevy s-10</td>\n",
       "    </tr>\n",
       "  </tbody>\n",
       "</table>\n",
       "<p>406 rows × 9 columns</p>\n",
       "</div>"
      ],
      "text/plain": [
       "        0    1      2      3       4     5     6    7  \\\n",
       "0    18.0  8.0  307.0  130.0  3504.0  12.0  70.0  1.0   \n",
       "1    15.0  8.0  350.0  165.0  3693.0  11.5  70.0  1.0   \n",
       "2    18.0  8.0  318.0  150.0  3436.0  11.0  70.0  1.0   \n",
       "3    16.0  8.0  304.0  150.0  3433.0  12.0  70.0  1.0   \n",
       "4    17.0  8.0  302.0  140.0  3449.0  10.5  70.0  1.0   \n",
       "..    ...  ...    ...    ...     ...   ...   ...  ...   \n",
       "401  27.0  4.0  140.0   86.0  2790.0  15.6  82.0  1.0   \n",
       "402  44.0  4.0   97.0   52.0  2130.0  24.6  82.0  2.0   \n",
       "403  32.0  4.0  135.0   84.0  2295.0  11.6  82.0  1.0   \n",
       "404  28.0  4.0  120.0   79.0  2625.0  18.6  82.0  1.0   \n",
       "405  31.0  4.0  119.0   82.0  2720.0  19.4  82.0  1.0   \n",
       "\n",
       "                             8  \n",
       "0    chevrolet chevelle malibu  \n",
       "1            buick skylark 320  \n",
       "2           plymouth satellite  \n",
       "3                amc rebel sst  \n",
       "4                  ford torino  \n",
       "..                         ...  \n",
       "401            ford mustang gl  \n",
       "402                  vw pickup  \n",
       "403              dodge rampage  \n",
       "404                ford ranger  \n",
       "405                 chevy s-10  \n",
       "\n",
       "[406 rows x 9 columns]"
      ]
     },
     "execution_count": 80,
     "metadata": {},
     "output_type": "execute_result"
    }
   ],
   "source": [
    "# thre are some NaNs there, that will mess things up, so let's get rid of them\n",
    "df = pandas.read_csv('auto-mpg.data-original', header=None, delim_whitespace=True, na_values='?')\n",
    "df"
   ]
  },
  {
   "cell_type": "code",
   "execution_count": 81,
   "metadata": {},
   "outputs": [
    {
     "data": {
      "text/html": [
       "<div>\n",
       "<style scoped>\n",
       "    .dataframe tbody tr th:only-of-type {\n",
       "        vertical-align: middle;\n",
       "    }\n",
       "\n",
       "    .dataframe tbody tr th {\n",
       "        vertical-align: top;\n",
       "    }\n",
       "\n",
       "    .dataframe thead th {\n",
       "        text-align: right;\n",
       "    }\n",
       "</style>\n",
       "<table border=\"1\" class=\"dataframe\">\n",
       "  <thead>\n",
       "    <tr style=\"text-align: right;\">\n",
       "      <th></th>\n",
       "      <th>0</th>\n",
       "      <th>1</th>\n",
       "      <th>2</th>\n",
       "      <th>3</th>\n",
       "      <th>4</th>\n",
       "      <th>5</th>\n",
       "      <th>6</th>\n",
       "      <th>7</th>\n",
       "      <th>8</th>\n",
       "    </tr>\n",
       "  </thead>\n",
       "  <tbody>\n",
       "    <tr>\n",
       "      <th>30</th>\n",
       "      <td>21.0</td>\n",
       "      <td>6.0</td>\n",
       "      <td>199.0</td>\n",
       "      <td>90.0</td>\n",
       "      <td>2648.0</td>\n",
       "      <td>15.0</td>\n",
       "      <td>70.0</td>\n",
       "      <td>1.0</td>\n",
       "      <td>amc gremlin</td>\n",
       "    </tr>\n",
       "    <tr>\n",
       "      <th>31</th>\n",
       "      <td>10.0</td>\n",
       "      <td>8.0</td>\n",
       "      <td>360.0</td>\n",
       "      <td>215.0</td>\n",
       "      <td>4615.0</td>\n",
       "      <td>14.0</td>\n",
       "      <td>70.0</td>\n",
       "      <td>1.0</td>\n",
       "      <td>ford f250</td>\n",
       "    </tr>\n",
       "    <tr>\n",
       "      <th>32</th>\n",
       "      <td>10.0</td>\n",
       "      <td>8.0</td>\n",
       "      <td>307.0</td>\n",
       "      <td>200.0</td>\n",
       "      <td>4376.0</td>\n",
       "      <td>15.0</td>\n",
       "      <td>70.0</td>\n",
       "      <td>1.0</td>\n",
       "      <td>chevy c20</td>\n",
       "    </tr>\n",
       "    <tr>\n",
       "      <th>33</th>\n",
       "      <td>11.0</td>\n",
       "      <td>8.0</td>\n",
       "      <td>318.0</td>\n",
       "      <td>210.0</td>\n",
       "      <td>4382.0</td>\n",
       "      <td>13.5</td>\n",
       "      <td>70.0</td>\n",
       "      <td>1.0</td>\n",
       "      <td>dodge d200</td>\n",
       "    </tr>\n",
       "    <tr>\n",
       "      <th>34</th>\n",
       "      <td>9.0</td>\n",
       "      <td>8.0</td>\n",
       "      <td>304.0</td>\n",
       "      <td>193.0</td>\n",
       "      <td>4732.0</td>\n",
       "      <td>18.5</td>\n",
       "      <td>70.0</td>\n",
       "      <td>1.0</td>\n",
       "      <td>hi 1200d</td>\n",
       "    </tr>\n",
       "    <tr>\n",
       "      <th>35</th>\n",
       "      <td>27.0</td>\n",
       "      <td>4.0</td>\n",
       "      <td>97.0</td>\n",
       "      <td>88.0</td>\n",
       "      <td>2130.0</td>\n",
       "      <td>14.5</td>\n",
       "      <td>71.0</td>\n",
       "      <td>3.0</td>\n",
       "      <td>datsun pl510</td>\n",
       "    </tr>\n",
       "    <tr>\n",
       "      <th>36</th>\n",
       "      <td>28.0</td>\n",
       "      <td>4.0</td>\n",
       "      <td>140.0</td>\n",
       "      <td>90.0</td>\n",
       "      <td>2264.0</td>\n",
       "      <td>15.5</td>\n",
       "      <td>71.0</td>\n",
       "      <td>1.0</td>\n",
       "      <td>chevrolet vega 2300</td>\n",
       "    </tr>\n",
       "    <tr>\n",
       "      <th>37</th>\n",
       "      <td>25.0</td>\n",
       "      <td>4.0</td>\n",
       "      <td>113.0</td>\n",
       "      <td>95.0</td>\n",
       "      <td>2228.0</td>\n",
       "      <td>14.0</td>\n",
       "      <td>71.0</td>\n",
       "      <td>3.0</td>\n",
       "      <td>toyota corona</td>\n",
       "    </tr>\n",
       "    <tr>\n",
       "      <th>38</th>\n",
       "      <td>25.0</td>\n",
       "      <td>4.0</td>\n",
       "      <td>98.0</td>\n",
       "      <td>NaN</td>\n",
       "      <td>2046.0</td>\n",
       "      <td>19.0</td>\n",
       "      <td>71.0</td>\n",
       "      <td>1.0</td>\n",
       "      <td>ford pinto</td>\n",
       "    </tr>\n",
       "    <tr>\n",
       "      <th>39</th>\n",
       "      <td>NaN</td>\n",
       "      <td>4.0</td>\n",
       "      <td>97.0</td>\n",
       "      <td>48.0</td>\n",
       "      <td>1978.0</td>\n",
       "      <td>20.0</td>\n",
       "      <td>71.0</td>\n",
       "      <td>2.0</td>\n",
       "      <td>volkswagen super beetle 117</td>\n",
       "    </tr>\n",
       "  </tbody>\n",
       "</table>\n",
       "</div>"
      ],
      "text/plain": [
       "       0    1      2      3       4     5     6    7  \\\n",
       "30  21.0  6.0  199.0   90.0  2648.0  15.0  70.0  1.0   \n",
       "31  10.0  8.0  360.0  215.0  4615.0  14.0  70.0  1.0   \n",
       "32  10.0  8.0  307.0  200.0  4376.0  15.0  70.0  1.0   \n",
       "33  11.0  8.0  318.0  210.0  4382.0  13.5  70.0  1.0   \n",
       "34   9.0  8.0  304.0  193.0  4732.0  18.5  70.0  1.0   \n",
       "35  27.0  4.0   97.0   88.0  2130.0  14.5  71.0  3.0   \n",
       "36  28.0  4.0  140.0   90.0  2264.0  15.5  71.0  1.0   \n",
       "37  25.0  4.0  113.0   95.0  2228.0  14.0  71.0  3.0   \n",
       "38  25.0  4.0   98.0    NaN  2046.0  19.0  71.0  1.0   \n",
       "39   NaN  4.0   97.0   48.0  1978.0  20.0  71.0  2.0   \n",
       "\n",
       "                              8  \n",
       "30                  amc gremlin  \n",
       "31                    ford f250  \n",
       "32                    chevy c20  \n",
       "33                   dodge d200  \n",
       "34                     hi 1200d  \n",
       "35                 datsun pl510  \n",
       "36          chevrolet vega 2300  \n",
       "37                toyota corona  \n",
       "38                   ford pinto  \n",
       "39  volkswagen super beetle 117  "
      ]
     },
     "execution_count": 81,
     "metadata": {},
     "output_type": "execute_result"
    }
   ],
   "source": [
    "df.iloc[30:40]"
   ]
  },
  {
   "cell_type": "code",
   "execution_count": 82,
   "metadata": {},
   "outputs": [
    {
     "data": {
      "text/html": [
       "<div>\n",
       "<style scoped>\n",
       "    .dataframe tbody tr th:only-of-type {\n",
       "        vertical-align: middle;\n",
       "    }\n",
       "\n",
       "    .dataframe tbody tr th {\n",
       "        vertical-align: top;\n",
       "    }\n",
       "\n",
       "    .dataframe thead th {\n",
       "        text-align: right;\n",
       "    }\n",
       "</style>\n",
       "<table border=\"1\" class=\"dataframe\">\n",
       "  <thead>\n",
       "    <tr style=\"text-align: right;\">\n",
       "      <th></th>\n",
       "      <th>0</th>\n",
       "      <th>1</th>\n",
       "      <th>2</th>\n",
       "      <th>3</th>\n",
       "      <th>4</th>\n",
       "      <th>5</th>\n",
       "      <th>6</th>\n",
       "      <th>7</th>\n",
       "      <th>8</th>\n",
       "    </tr>\n",
       "  </thead>\n",
       "  <tbody>\n",
       "    <tr>\n",
       "      <th>0</th>\n",
       "      <td>18.0</td>\n",
       "      <td>8.0</td>\n",
       "      <td>307.0</td>\n",
       "      <td>130.0</td>\n",
       "      <td>3504.0</td>\n",
       "      <td>12.0</td>\n",
       "      <td>70.0</td>\n",
       "      <td>1.0</td>\n",
       "      <td>chevrolet chevelle malibu</td>\n",
       "    </tr>\n",
       "    <tr>\n",
       "      <th>1</th>\n",
       "      <td>15.0</td>\n",
       "      <td>8.0</td>\n",
       "      <td>350.0</td>\n",
       "      <td>165.0</td>\n",
       "      <td>3693.0</td>\n",
       "      <td>11.5</td>\n",
       "      <td>70.0</td>\n",
       "      <td>1.0</td>\n",
       "      <td>buick skylark 320</td>\n",
       "    </tr>\n",
       "    <tr>\n",
       "      <th>2</th>\n",
       "      <td>18.0</td>\n",
       "      <td>8.0</td>\n",
       "      <td>318.0</td>\n",
       "      <td>150.0</td>\n",
       "      <td>3436.0</td>\n",
       "      <td>11.0</td>\n",
       "      <td>70.0</td>\n",
       "      <td>1.0</td>\n",
       "      <td>plymouth satellite</td>\n",
       "    </tr>\n",
       "    <tr>\n",
       "      <th>3</th>\n",
       "      <td>16.0</td>\n",
       "      <td>8.0</td>\n",
       "      <td>304.0</td>\n",
       "      <td>150.0</td>\n",
       "      <td>3433.0</td>\n",
       "      <td>12.0</td>\n",
       "      <td>70.0</td>\n",
       "      <td>1.0</td>\n",
       "      <td>amc rebel sst</td>\n",
       "    </tr>\n",
       "    <tr>\n",
       "      <th>4</th>\n",
       "      <td>17.0</td>\n",
       "      <td>8.0</td>\n",
       "      <td>302.0</td>\n",
       "      <td>140.0</td>\n",
       "      <td>3449.0</td>\n",
       "      <td>10.5</td>\n",
       "      <td>70.0</td>\n",
       "      <td>1.0</td>\n",
       "      <td>ford torino</td>\n",
       "    </tr>\n",
       "    <tr>\n",
       "      <th>...</th>\n",
       "      <td>...</td>\n",
       "      <td>...</td>\n",
       "      <td>...</td>\n",
       "      <td>...</td>\n",
       "      <td>...</td>\n",
       "      <td>...</td>\n",
       "      <td>...</td>\n",
       "      <td>...</td>\n",
       "      <td>...</td>\n",
       "    </tr>\n",
       "    <tr>\n",
       "      <th>401</th>\n",
       "      <td>27.0</td>\n",
       "      <td>4.0</td>\n",
       "      <td>140.0</td>\n",
       "      <td>86.0</td>\n",
       "      <td>2790.0</td>\n",
       "      <td>15.6</td>\n",
       "      <td>82.0</td>\n",
       "      <td>1.0</td>\n",
       "      <td>ford mustang gl</td>\n",
       "    </tr>\n",
       "    <tr>\n",
       "      <th>402</th>\n",
       "      <td>44.0</td>\n",
       "      <td>4.0</td>\n",
       "      <td>97.0</td>\n",
       "      <td>52.0</td>\n",
       "      <td>2130.0</td>\n",
       "      <td>24.6</td>\n",
       "      <td>82.0</td>\n",
       "      <td>2.0</td>\n",
       "      <td>vw pickup</td>\n",
       "    </tr>\n",
       "    <tr>\n",
       "      <th>403</th>\n",
       "      <td>32.0</td>\n",
       "      <td>4.0</td>\n",
       "      <td>135.0</td>\n",
       "      <td>84.0</td>\n",
       "      <td>2295.0</td>\n",
       "      <td>11.6</td>\n",
       "      <td>82.0</td>\n",
       "      <td>1.0</td>\n",
       "      <td>dodge rampage</td>\n",
       "    </tr>\n",
       "    <tr>\n",
       "      <th>404</th>\n",
       "      <td>28.0</td>\n",
       "      <td>4.0</td>\n",
       "      <td>120.0</td>\n",
       "      <td>79.0</td>\n",
       "      <td>2625.0</td>\n",
       "      <td>18.6</td>\n",
       "      <td>82.0</td>\n",
       "      <td>1.0</td>\n",
       "      <td>ford ranger</td>\n",
       "    </tr>\n",
       "    <tr>\n",
       "      <th>405</th>\n",
       "      <td>31.0</td>\n",
       "      <td>4.0</td>\n",
       "      <td>119.0</td>\n",
       "      <td>82.0</td>\n",
       "      <td>2720.0</td>\n",
       "      <td>19.4</td>\n",
       "      <td>82.0</td>\n",
       "      <td>1.0</td>\n",
       "      <td>chevy s-10</td>\n",
       "    </tr>\n",
       "  </tbody>\n",
       "</table>\n",
       "<p>392 rows × 9 columns</p>\n",
       "</div>"
      ],
      "text/plain": [
       "        0    1      2      3       4     5     6    7  \\\n",
       "0    18.0  8.0  307.0  130.0  3504.0  12.0  70.0  1.0   \n",
       "1    15.0  8.0  350.0  165.0  3693.0  11.5  70.0  1.0   \n",
       "2    18.0  8.0  318.0  150.0  3436.0  11.0  70.0  1.0   \n",
       "3    16.0  8.0  304.0  150.0  3433.0  12.0  70.0  1.0   \n",
       "4    17.0  8.0  302.0  140.0  3449.0  10.5  70.0  1.0   \n",
       "..    ...  ...    ...    ...     ...   ...   ...  ...   \n",
       "401  27.0  4.0  140.0   86.0  2790.0  15.6  82.0  1.0   \n",
       "402  44.0  4.0   97.0   52.0  2130.0  24.6  82.0  2.0   \n",
       "403  32.0  4.0  135.0   84.0  2295.0  11.6  82.0  1.0   \n",
       "404  28.0  4.0  120.0   79.0  2625.0  18.6  82.0  1.0   \n",
       "405  31.0  4.0  119.0   82.0  2720.0  19.4  82.0  1.0   \n",
       "\n",
       "                             8  \n",
       "0    chevrolet chevelle malibu  \n",
       "1            buick skylark 320  \n",
       "2           plymouth satellite  \n",
       "3                amc rebel sst  \n",
       "4                  ford torino  \n",
       "..                         ...  \n",
       "401            ford mustang gl  \n",
       "402                  vw pickup  \n",
       "403              dodge rampage  \n",
       "404                ford ranger  \n",
       "405                 chevy s-10  \n",
       "\n",
       "[392 rows x 9 columns]"
      ]
     },
     "execution_count": 82,
     "metadata": {},
     "output_type": "execute_result"
    }
   ],
   "source": [
    "df.dropna()"
   ]
  },
  {
   "cell_type": "code",
   "execution_count": 83,
   "metadata": {},
   "outputs": [
    {
     "data": {
      "text/html": [
       "<div>\n",
       "<style scoped>\n",
       "    .dataframe tbody tr th:only-of-type {\n",
       "        vertical-align: middle;\n",
       "    }\n",
       "\n",
       "    .dataframe tbody tr th {\n",
       "        vertical-align: top;\n",
       "    }\n",
       "\n",
       "    .dataframe thead th {\n",
       "        text-align: right;\n",
       "    }\n",
       "</style>\n",
       "<table border=\"1\" class=\"dataframe\">\n",
       "  <thead>\n",
       "    <tr style=\"text-align: right;\">\n",
       "      <th></th>\n",
       "      <th>0</th>\n",
       "      <th>1</th>\n",
       "      <th>2</th>\n",
       "      <th>3</th>\n",
       "      <th>4</th>\n",
       "      <th>5</th>\n",
       "      <th>6</th>\n",
       "      <th>7</th>\n",
       "      <th>8</th>\n",
       "    </tr>\n",
       "  </thead>\n",
       "  <tbody>\n",
       "    <tr>\n",
       "      <th>30</th>\n",
       "      <td>21.0</td>\n",
       "      <td>6.0</td>\n",
       "      <td>199.0</td>\n",
       "      <td>90.0</td>\n",
       "      <td>2648.0</td>\n",
       "      <td>15.0</td>\n",
       "      <td>70.0</td>\n",
       "      <td>1.0</td>\n",
       "      <td>amc gremlin</td>\n",
       "    </tr>\n",
       "    <tr>\n",
       "      <th>31</th>\n",
       "      <td>10.0</td>\n",
       "      <td>8.0</td>\n",
       "      <td>360.0</td>\n",
       "      <td>215.0</td>\n",
       "      <td>4615.0</td>\n",
       "      <td>14.0</td>\n",
       "      <td>70.0</td>\n",
       "      <td>1.0</td>\n",
       "      <td>ford f250</td>\n",
       "    </tr>\n",
       "    <tr>\n",
       "      <th>32</th>\n",
       "      <td>10.0</td>\n",
       "      <td>8.0</td>\n",
       "      <td>307.0</td>\n",
       "      <td>200.0</td>\n",
       "      <td>4376.0</td>\n",
       "      <td>15.0</td>\n",
       "      <td>70.0</td>\n",
       "      <td>1.0</td>\n",
       "      <td>chevy c20</td>\n",
       "    </tr>\n",
       "    <tr>\n",
       "      <th>33</th>\n",
       "      <td>11.0</td>\n",
       "      <td>8.0</td>\n",
       "      <td>318.0</td>\n",
       "      <td>210.0</td>\n",
       "      <td>4382.0</td>\n",
       "      <td>13.5</td>\n",
       "      <td>70.0</td>\n",
       "      <td>1.0</td>\n",
       "      <td>dodge d200</td>\n",
       "    </tr>\n",
       "    <tr>\n",
       "      <th>34</th>\n",
       "      <td>9.0</td>\n",
       "      <td>8.0</td>\n",
       "      <td>304.0</td>\n",
       "      <td>193.0</td>\n",
       "      <td>4732.0</td>\n",
       "      <td>18.5</td>\n",
       "      <td>70.0</td>\n",
       "      <td>1.0</td>\n",
       "      <td>hi 1200d</td>\n",
       "    </tr>\n",
       "    <tr>\n",
       "      <th>35</th>\n",
       "      <td>27.0</td>\n",
       "      <td>4.0</td>\n",
       "      <td>97.0</td>\n",
       "      <td>88.0</td>\n",
       "      <td>2130.0</td>\n",
       "      <td>14.5</td>\n",
       "      <td>71.0</td>\n",
       "      <td>3.0</td>\n",
       "      <td>datsun pl510</td>\n",
       "    </tr>\n",
       "    <tr>\n",
       "      <th>36</th>\n",
       "      <td>28.0</td>\n",
       "      <td>4.0</td>\n",
       "      <td>140.0</td>\n",
       "      <td>90.0</td>\n",
       "      <td>2264.0</td>\n",
       "      <td>15.5</td>\n",
       "      <td>71.0</td>\n",
       "      <td>1.0</td>\n",
       "      <td>chevrolet vega 2300</td>\n",
       "    </tr>\n",
       "    <tr>\n",
       "      <th>37</th>\n",
       "      <td>25.0</td>\n",
       "      <td>4.0</td>\n",
       "      <td>113.0</td>\n",
       "      <td>95.0</td>\n",
       "      <td>2228.0</td>\n",
       "      <td>14.0</td>\n",
       "      <td>71.0</td>\n",
       "      <td>3.0</td>\n",
       "      <td>toyota corona</td>\n",
       "    </tr>\n",
       "    <tr>\n",
       "      <th>38</th>\n",
       "      <td>25.0</td>\n",
       "      <td>4.0</td>\n",
       "      <td>98.0</td>\n",
       "      <td>NaN</td>\n",
       "      <td>2046.0</td>\n",
       "      <td>19.0</td>\n",
       "      <td>71.0</td>\n",
       "      <td>1.0</td>\n",
       "      <td>ford pinto</td>\n",
       "    </tr>\n",
       "    <tr>\n",
       "      <th>39</th>\n",
       "      <td>NaN</td>\n",
       "      <td>4.0</td>\n",
       "      <td>97.0</td>\n",
       "      <td>48.0</td>\n",
       "      <td>1978.0</td>\n",
       "      <td>20.0</td>\n",
       "      <td>71.0</td>\n",
       "      <td>2.0</td>\n",
       "      <td>volkswagen super beetle 117</td>\n",
       "    </tr>\n",
       "  </tbody>\n",
       "</table>\n",
       "</div>"
      ],
      "text/plain": [
       "       0    1      2      3       4     5     6    7  \\\n",
       "30  21.0  6.0  199.0   90.0  2648.0  15.0  70.0  1.0   \n",
       "31  10.0  8.0  360.0  215.0  4615.0  14.0  70.0  1.0   \n",
       "32  10.0  8.0  307.0  200.0  4376.0  15.0  70.0  1.0   \n",
       "33  11.0  8.0  318.0  210.0  4382.0  13.5  70.0  1.0   \n",
       "34   9.0  8.0  304.0  193.0  4732.0  18.5  70.0  1.0   \n",
       "35  27.0  4.0   97.0   88.0  2130.0  14.5  71.0  3.0   \n",
       "36  28.0  4.0  140.0   90.0  2264.0  15.5  71.0  1.0   \n",
       "37  25.0  4.0  113.0   95.0  2228.0  14.0  71.0  3.0   \n",
       "38  25.0  4.0   98.0    NaN  2046.0  19.0  71.0  1.0   \n",
       "39   NaN  4.0   97.0   48.0  1978.0  20.0  71.0  2.0   \n",
       "\n",
       "                              8  \n",
       "30                  amc gremlin  \n",
       "31                    ford f250  \n",
       "32                    chevy c20  \n",
       "33                   dodge d200  \n",
       "34                     hi 1200d  \n",
       "35                 datsun pl510  \n",
       "36          chevrolet vega 2300  \n",
       "37                toyota corona  \n",
       "38                   ford pinto  \n",
       "39  volkswagen super beetle 117  "
      ]
     },
     "execution_count": 83,
     "metadata": {},
     "output_type": "execute_result"
    }
   ],
   "source": [
    "df.iloc[30:40]"
   ]
  },
  {
   "cell_type": "code",
   "execution_count": 84,
   "metadata": {},
   "outputs": [
    {
     "data": {
      "text/plain": [
       "0    8\n",
       "1    0\n",
       "2    0\n",
       "3    6\n",
       "4    0\n",
       "5    0\n",
       "6    0\n",
       "7    0\n",
       "8    0\n",
       "dtype: int64"
      ]
     },
     "execution_count": 84,
     "metadata": {},
     "output_type": "execute_result"
    }
   ],
   "source": [
    "df.isna().sum() # detect missing values"
   ]
  },
  {
   "cell_type": "code",
   "execution_count": 85,
   "metadata": {},
   "outputs": [
    {
     "data": {
      "text/html": [
       "<div>\n",
       "<style scoped>\n",
       "    .dataframe tbody tr th:only-of-type {\n",
       "        vertical-align: middle;\n",
       "    }\n",
       "\n",
       "    .dataframe tbody tr th {\n",
       "        vertical-align: top;\n",
       "    }\n",
       "\n",
       "    .dataframe thead th {\n",
       "        text-align: right;\n",
       "    }\n",
       "</style>\n",
       "<table border=\"1\" class=\"dataframe\">\n",
       "  <thead>\n",
       "    <tr style=\"text-align: right;\">\n",
       "      <th></th>\n",
       "      <th>0</th>\n",
       "      <th>1</th>\n",
       "      <th>2</th>\n",
       "      <th>3</th>\n",
       "      <th>4</th>\n",
       "      <th>5</th>\n",
       "      <th>6</th>\n",
       "      <th>7</th>\n",
       "      <th>8</th>\n",
       "    </tr>\n",
       "  </thead>\n",
       "  <tbody>\n",
       "    <tr>\n",
       "      <th>36</th>\n",
       "      <td>28.0</td>\n",
       "      <td>4.0</td>\n",
       "      <td>140.0</td>\n",
       "      <td>90.0</td>\n",
       "      <td>2264.0</td>\n",
       "      <td>15.5</td>\n",
       "      <td>71.0</td>\n",
       "      <td>1.0</td>\n",
       "      <td>chevrolet vega 2300</td>\n",
       "    </tr>\n",
       "    <tr>\n",
       "      <th>37</th>\n",
       "      <td>25.0</td>\n",
       "      <td>4.0</td>\n",
       "      <td>113.0</td>\n",
       "      <td>95.0</td>\n",
       "      <td>2228.0</td>\n",
       "      <td>14.0</td>\n",
       "      <td>71.0</td>\n",
       "      <td>3.0</td>\n",
       "      <td>toyota corona</td>\n",
       "    </tr>\n",
       "    <tr>\n",
       "      <th>40</th>\n",
       "      <td>19.0</td>\n",
       "      <td>6.0</td>\n",
       "      <td>232.0</td>\n",
       "      <td>100.0</td>\n",
       "      <td>2634.0</td>\n",
       "      <td>13.0</td>\n",
       "      <td>71.0</td>\n",
       "      <td>1.0</td>\n",
       "      <td>amc gremlin</td>\n",
       "    </tr>\n",
       "    <tr>\n",
       "      <th>41</th>\n",
       "      <td>16.0</td>\n",
       "      <td>6.0</td>\n",
       "      <td>225.0</td>\n",
       "      <td>105.0</td>\n",
       "      <td>3439.0</td>\n",
       "      <td>15.5</td>\n",
       "      <td>71.0</td>\n",
       "      <td>1.0</td>\n",
       "      <td>plymouth satellite custom</td>\n",
       "    </tr>\n",
       "    <tr>\n",
       "      <th>42</th>\n",
       "      <td>17.0</td>\n",
       "      <td>6.0</td>\n",
       "      <td>250.0</td>\n",
       "      <td>100.0</td>\n",
       "      <td>3329.0</td>\n",
       "      <td>15.5</td>\n",
       "      <td>71.0</td>\n",
       "      <td>1.0</td>\n",
       "      <td>chevrolet chevelle malibu</td>\n",
       "    </tr>\n",
       "    <tr>\n",
       "      <th>43</th>\n",
       "      <td>19.0</td>\n",
       "      <td>6.0</td>\n",
       "      <td>250.0</td>\n",
       "      <td>88.0</td>\n",
       "      <td>3302.0</td>\n",
       "      <td>15.5</td>\n",
       "      <td>71.0</td>\n",
       "      <td>1.0</td>\n",
       "      <td>ford torino 500</td>\n",
       "    </tr>\n",
       "    <tr>\n",
       "      <th>44</th>\n",
       "      <td>18.0</td>\n",
       "      <td>6.0</td>\n",
       "      <td>232.0</td>\n",
       "      <td>100.0</td>\n",
       "      <td>3288.0</td>\n",
       "      <td>15.5</td>\n",
       "      <td>71.0</td>\n",
       "      <td>1.0</td>\n",
       "      <td>amc matador</td>\n",
       "    </tr>\n",
       "    <tr>\n",
       "      <th>45</th>\n",
       "      <td>14.0</td>\n",
       "      <td>8.0</td>\n",
       "      <td>350.0</td>\n",
       "      <td>165.0</td>\n",
       "      <td>4209.0</td>\n",
       "      <td>12.0</td>\n",
       "      <td>71.0</td>\n",
       "      <td>1.0</td>\n",
       "      <td>chevrolet impala</td>\n",
       "    </tr>\n",
       "    <tr>\n",
       "      <th>46</th>\n",
       "      <td>14.0</td>\n",
       "      <td>8.0</td>\n",
       "      <td>400.0</td>\n",
       "      <td>175.0</td>\n",
       "      <td>4464.0</td>\n",
       "      <td>11.5</td>\n",
       "      <td>71.0</td>\n",
       "      <td>1.0</td>\n",
       "      <td>pontiac catalina brougham</td>\n",
       "    </tr>\n",
       "    <tr>\n",
       "      <th>47</th>\n",
       "      <td>14.0</td>\n",
       "      <td>8.0</td>\n",
       "      <td>351.0</td>\n",
       "      <td>153.0</td>\n",
       "      <td>4154.0</td>\n",
       "      <td>13.5</td>\n",
       "      <td>71.0</td>\n",
       "      <td>1.0</td>\n",
       "      <td>ford galaxie 500</td>\n",
       "    </tr>\n",
       "  </tbody>\n",
       "</table>\n",
       "</div>"
      ],
      "text/plain": [
       "       0    1      2      3       4     5     6    7  \\\n",
       "36  28.0  4.0  140.0   90.0  2264.0  15.5  71.0  1.0   \n",
       "37  25.0  4.0  113.0   95.0  2228.0  14.0  71.0  3.0   \n",
       "40  19.0  6.0  232.0  100.0  2634.0  13.0  71.0  1.0   \n",
       "41  16.0  6.0  225.0  105.0  3439.0  15.5  71.0  1.0   \n",
       "42  17.0  6.0  250.0  100.0  3329.0  15.5  71.0  1.0   \n",
       "43  19.0  6.0  250.0   88.0  3302.0  15.5  71.0  1.0   \n",
       "44  18.0  6.0  232.0  100.0  3288.0  15.5  71.0  1.0   \n",
       "45  14.0  8.0  350.0  165.0  4209.0  12.0  71.0  1.0   \n",
       "46  14.0  8.0  400.0  175.0  4464.0  11.5  71.0  1.0   \n",
       "47  14.0  8.0  351.0  153.0  4154.0  13.5  71.0  1.0   \n",
       "\n",
       "                            8  \n",
       "36        chevrolet vega 2300  \n",
       "37              toyota corona  \n",
       "40                amc gremlin  \n",
       "41  plymouth satellite custom  \n",
       "42  chevrolet chevelle malibu  \n",
       "43            ford torino 500  \n",
       "44                amc matador  \n",
       "45           chevrolet impala  \n",
       "46  pontiac catalina brougham  \n",
       "47           ford galaxie 500  "
      ]
     },
     "execution_count": 85,
     "metadata": {},
     "output_type": "execute_result"
    }
   ],
   "source": [
    "df = df.dropna()\n",
    "df.iloc[30:40]"
   ]
  },
  {
   "cell_type": "code",
   "execution_count": 86,
   "metadata": {},
   "outputs": [
    {
     "data": {
      "text/plain": [
       "0    0\n",
       "1    0\n",
       "2    0\n",
       "3    0\n",
       "4    0\n",
       "5    0\n",
       "6    0\n",
       "7    0\n",
       "8    0\n",
       "dtype: int64"
      ]
     },
     "execution_count": 86,
     "metadata": {},
     "output_type": "execute_result"
    }
   ],
   "source": [
    "df.isna().sum()"
   ]
  },
  {
   "cell_type": "markdown",
   "metadata": {},
   "source": [
    "Remember, the next step after reading data into python is to visualize\n",
    "it.  One thing we can do is just plot the value of each attribute in a\n",
    "separate graph.  Let's make an array of column names to label the y axes."
   ]
  },
  {
   "cell_type": "code",
   "execution_count": 87,
   "metadata": {},
   "outputs": [
    {
     "data": {
      "text/plain": [
       "Int64Index([0, 1, 2, 3, 4, 5, 6, 7, 8], dtype='int64')"
      ]
     },
     "execution_count": 87,
     "metadata": {},
     "output_type": "execute_result"
    }
   ],
   "source": [
    "df.columns"
   ]
  },
  {
   "cell_type": "code",
   "execution_count": 88,
   "metadata": {},
   "outputs": [
    {
     "data": {
      "text/plain": [
       "['mpg',\n",
       " 'cylinders',\n",
       " 'displacement',\n",
       " 'horsepower',\n",
       " 'weight',\n",
       " 'acceleration',\n",
       " 'year',\n",
       " 'origin',\n",
       " 'model']"
      ]
     },
     "execution_count": 88,
     "metadata": {},
     "output_type": "execute_result"
    }
   ],
   "source": [
    "names =  ['mpg','cylinders','displacement','horsepower','weight',\n",
    "          'acceleration','year','origin', 'model']\n",
    "names"
   ]
  },
  {
   "cell_type": "code",
   "execution_count": 89,
   "metadata": {},
   "outputs": [],
   "source": [
    "df.columns = names"
   ]
  },
  {
   "cell_type": "code",
   "execution_count": 90,
   "metadata": {},
   "outputs": [
    {
     "data": {
      "text/html": [
       "<div>\n",
       "<style scoped>\n",
       "    .dataframe tbody tr th:only-of-type {\n",
       "        vertical-align: middle;\n",
       "    }\n",
       "\n",
       "    .dataframe tbody tr th {\n",
       "        vertical-align: top;\n",
       "    }\n",
       "\n",
       "    .dataframe thead th {\n",
       "        text-align: right;\n",
       "    }\n",
       "</style>\n",
       "<table border=\"1\" class=\"dataframe\">\n",
       "  <thead>\n",
       "    <tr style=\"text-align: right;\">\n",
       "      <th></th>\n",
       "      <th>mpg</th>\n",
       "      <th>cylinders</th>\n",
       "      <th>displacement</th>\n",
       "      <th>horsepower</th>\n",
       "      <th>weight</th>\n",
       "      <th>acceleration</th>\n",
       "      <th>year</th>\n",
       "      <th>origin</th>\n",
       "      <th>model</th>\n",
       "    </tr>\n",
       "  </thead>\n",
       "  <tbody>\n",
       "    <tr>\n",
       "      <th>0</th>\n",
       "      <td>18.0</td>\n",
       "      <td>8.0</td>\n",
       "      <td>307.0</td>\n",
       "      <td>130.0</td>\n",
       "      <td>3504.0</td>\n",
       "      <td>12.0</td>\n",
       "      <td>70.0</td>\n",
       "      <td>1.0</td>\n",
       "      <td>chevrolet chevelle malibu</td>\n",
       "    </tr>\n",
       "    <tr>\n",
       "      <th>1</th>\n",
       "      <td>15.0</td>\n",
       "      <td>8.0</td>\n",
       "      <td>350.0</td>\n",
       "      <td>165.0</td>\n",
       "      <td>3693.0</td>\n",
       "      <td>11.5</td>\n",
       "      <td>70.0</td>\n",
       "      <td>1.0</td>\n",
       "      <td>buick skylark 320</td>\n",
       "    </tr>\n",
       "    <tr>\n",
       "      <th>2</th>\n",
       "      <td>18.0</td>\n",
       "      <td>8.0</td>\n",
       "      <td>318.0</td>\n",
       "      <td>150.0</td>\n",
       "      <td>3436.0</td>\n",
       "      <td>11.0</td>\n",
       "      <td>70.0</td>\n",
       "      <td>1.0</td>\n",
       "      <td>plymouth satellite</td>\n",
       "    </tr>\n",
       "    <tr>\n",
       "      <th>3</th>\n",
       "      <td>16.0</td>\n",
       "      <td>8.0</td>\n",
       "      <td>304.0</td>\n",
       "      <td>150.0</td>\n",
       "      <td>3433.0</td>\n",
       "      <td>12.0</td>\n",
       "      <td>70.0</td>\n",
       "      <td>1.0</td>\n",
       "      <td>amc rebel sst</td>\n",
       "    </tr>\n",
       "    <tr>\n",
       "      <th>4</th>\n",
       "      <td>17.0</td>\n",
       "      <td>8.0</td>\n",
       "      <td>302.0</td>\n",
       "      <td>140.0</td>\n",
       "      <td>3449.0</td>\n",
       "      <td>10.5</td>\n",
       "      <td>70.0</td>\n",
       "      <td>1.0</td>\n",
       "      <td>ford torino</td>\n",
       "    </tr>\n",
       "    <tr>\n",
       "      <th>...</th>\n",
       "      <td>...</td>\n",
       "      <td>...</td>\n",
       "      <td>...</td>\n",
       "      <td>...</td>\n",
       "      <td>...</td>\n",
       "      <td>...</td>\n",
       "      <td>...</td>\n",
       "      <td>...</td>\n",
       "      <td>...</td>\n",
       "    </tr>\n",
       "    <tr>\n",
       "      <th>401</th>\n",
       "      <td>27.0</td>\n",
       "      <td>4.0</td>\n",
       "      <td>140.0</td>\n",
       "      <td>86.0</td>\n",
       "      <td>2790.0</td>\n",
       "      <td>15.6</td>\n",
       "      <td>82.0</td>\n",
       "      <td>1.0</td>\n",
       "      <td>ford mustang gl</td>\n",
       "    </tr>\n",
       "    <tr>\n",
       "      <th>402</th>\n",
       "      <td>44.0</td>\n",
       "      <td>4.0</td>\n",
       "      <td>97.0</td>\n",
       "      <td>52.0</td>\n",
       "      <td>2130.0</td>\n",
       "      <td>24.6</td>\n",
       "      <td>82.0</td>\n",
       "      <td>2.0</td>\n",
       "      <td>vw pickup</td>\n",
       "    </tr>\n",
       "    <tr>\n",
       "      <th>403</th>\n",
       "      <td>32.0</td>\n",
       "      <td>4.0</td>\n",
       "      <td>135.0</td>\n",
       "      <td>84.0</td>\n",
       "      <td>2295.0</td>\n",
       "      <td>11.6</td>\n",
       "      <td>82.0</td>\n",
       "      <td>1.0</td>\n",
       "      <td>dodge rampage</td>\n",
       "    </tr>\n",
       "    <tr>\n",
       "      <th>404</th>\n",
       "      <td>28.0</td>\n",
       "      <td>4.0</td>\n",
       "      <td>120.0</td>\n",
       "      <td>79.0</td>\n",
       "      <td>2625.0</td>\n",
       "      <td>18.6</td>\n",
       "      <td>82.0</td>\n",
       "      <td>1.0</td>\n",
       "      <td>ford ranger</td>\n",
       "    </tr>\n",
       "    <tr>\n",
       "      <th>405</th>\n",
       "      <td>31.0</td>\n",
       "      <td>4.0</td>\n",
       "      <td>119.0</td>\n",
       "      <td>82.0</td>\n",
       "      <td>2720.0</td>\n",
       "      <td>19.4</td>\n",
       "      <td>82.0</td>\n",
       "      <td>1.0</td>\n",
       "      <td>chevy s-10</td>\n",
       "    </tr>\n",
       "  </tbody>\n",
       "</table>\n",
       "<p>392 rows × 9 columns</p>\n",
       "</div>"
      ],
      "text/plain": [
       "      mpg  cylinders  displacement  horsepower  weight  acceleration  year  \\\n",
       "0    18.0        8.0         307.0       130.0  3504.0          12.0  70.0   \n",
       "1    15.0        8.0         350.0       165.0  3693.0          11.5  70.0   \n",
       "2    18.0        8.0         318.0       150.0  3436.0          11.0  70.0   \n",
       "3    16.0        8.0         304.0       150.0  3433.0          12.0  70.0   \n",
       "4    17.0        8.0         302.0       140.0  3449.0          10.5  70.0   \n",
       "..    ...        ...           ...         ...     ...           ...   ...   \n",
       "401  27.0        4.0         140.0        86.0  2790.0          15.6  82.0   \n",
       "402  44.0        4.0          97.0        52.0  2130.0          24.6  82.0   \n",
       "403  32.0        4.0         135.0        84.0  2295.0          11.6  82.0   \n",
       "404  28.0        4.0         120.0        79.0  2625.0          18.6  82.0   \n",
       "405  31.0        4.0         119.0        82.0  2720.0          19.4  82.0   \n",
       "\n",
       "     origin                      model  \n",
       "0       1.0  chevrolet chevelle malibu  \n",
       "1       1.0          buick skylark 320  \n",
       "2       1.0         plymouth satellite  \n",
       "3       1.0              amc rebel sst  \n",
       "4       1.0                ford torino  \n",
       "..      ...                        ...  \n",
       "401     1.0            ford mustang gl  \n",
       "402     2.0                  vw pickup  \n",
       "403     1.0              dodge rampage  \n",
       "404     1.0                ford ranger  \n",
       "405     1.0                 chevy s-10  \n",
       "\n",
       "[392 rows x 9 columns]"
      ]
     },
     "execution_count": 90,
     "metadata": {},
     "output_type": "execute_result"
    }
   ],
   "source": [
    "df"
   ]
  },
  {
   "cell_type": "code",
   "execution_count": 91,
   "metadata": {},
   "outputs": [
    {
     "data": {
      "image/png": "[encoded data removed]",
      "text/plain": [
       "<Figure size 432x288 with 1 Axes>"
      ]
     },
     "metadata": {
      "needs_background": "light"
     },
     "output_type": "display_data"
    }
   ],
   "source": [
    "df.plot();"
   ]
  },
  {
   "cell_type": "code",
   "execution_count": 92,
   "metadata": {},
   "outputs": [
    {
     "data": {
      "text/plain": [
       "array([[18.0, 8.0, 307.0, ..., 70.0, 1.0, 'chevrolet chevelle malibu'],\n",
       "       [15.0, 8.0, 350.0, ..., 70.0, 1.0, 'buick skylark 320'],\n",
       "       [18.0, 8.0, 318.0, ..., 70.0, 1.0, 'plymouth satellite'],\n",
       "       ...,\n",
       "       [32.0, 4.0, 135.0, ..., 82.0, 1.0, 'dodge rampage'],\n",
       "       [28.0, 4.0, 120.0, ..., 82.0, 1.0, 'ford ranger'],\n",
       "       [31.0, 4.0, 119.0, ..., 82.0, 1.0, 'chevy s-10']], dtype=object)"
      ]
     },
     "execution_count": 92,
     "metadata": {},
     "output_type": "execute_result"
    }
   ],
   "source": [
    "data = df.values\n",
    "data"
   ]
  },
  {
   "cell_type": "code",
   "execution_count": 93,
   "metadata": {},
   "outputs": [
    {
     "data": {
      "text/plain": [
       "array([[ 18. ,   8. , 307. , ...,  12. ,  70. ,   1. ],\n",
       "       [ 15. ,   8. , 350. , ...,  11.5,  70. ,   1. ],\n",
       "       [ 18. ,   8. , 318. , ...,  11. ,  70. ,   1. ],\n",
       "       ...,\n",
       "       [ 32. ,   4. , 135. , ...,  11.6,  82. ,   1. ],\n",
       "       [ 28. ,   4. , 120. , ...,  18.6,  82. ,   1. ],\n",
       "       [ 31. ,   4. , 119. , ...,  19.4,  82. ,   1. ]])"
      ]
     },
     "execution_count": 93,
     "metadata": {},
     "output_type": "execute_result"
    }
   ],
   "source": [
    "data = df.iloc[:, :-1].values # view everything except the car names (last column)\n",
    "data"
   ]
  },
  {
   "cell_type": "code",
   "execution_count": 94,
   "metadata": {},
   "outputs": [
    {
     "data": {
      "text/plain": [
       "dtype('float64')"
      ]
     },
     "execution_count": 94,
     "metadata": {},
     "output_type": "execute_result"
    }
   ],
   "source": [
    "data.dtype"
   ]
  },
  {
   "cell_type": "code",
   "execution_count": 114,
   "metadata": {},
   "outputs": [
    {
     "data": {
      "text/plain": [
       "['mpg',\n",
       " 'cylinders',\n",
       " 'displacement',\n",
       " 'horsepower',\n",
       " 'weight',\n",
       " 'acceleration',\n",
       " 'year']"
      ]
     },
     "execution_count": 114,
     "metadata": {},
     "output_type": "execute_result"
    }
   ],
   "source": [
    "names = names[:-1]\n",
    "names"
   ]
  },
  {
   "cell_type": "code",
   "execution_count": 96,
   "metadata": {},
   "outputs": [
    {
     "data": {
      "image/png": "[encoded data removed]",
      "text/plain": [
       "<Figure size 720x720 with 8 Axes>"
      ]
     },
     "metadata": {
      "needs_background": "light"
     },
     "output_type": "display_data"
    }
   ],
   "source": [
    "# now let's plot each data column separately\n",
    "plt.figure(figsize=(10, 10))\n",
    "nrow, ncol = data.shape\n",
    "for c in range(ncol):\n",
    "    plt.subplot(3, 3, c+1)\n",
    "    plt.plot(data[:, c])\n",
    "    plt.xlabel('Sample Number')\n",
    "    plt.ylabel(names[c])\n",
    "plt.tight_layout()"
   ]
  },
  {
   "cell_type": "markdown",
   "metadata": {},
   "source": [
    "What is interesting to you in these graphs?"
   ]
  },
  {
   "cell_type": "markdown",
   "metadata": {},
   "source": [
    "Let's try to predict miles per gallon, *mpg*, from the other attributes.  To set this up, let's make a 392 x 1 column vector, *T*, of target values containing all of the *mpg* values, and a 392 x 7 matrix, *X*, to hold the inputs to our model."
   ]
  },
  {
   "cell_type": "code",
   "execution_count": 97,
   "metadata": {},
   "outputs": [
    {
     "name": "stdout",
     "output_type": "stream",
     "text": [
      "[18.  15.  18.  16.  17.  15.  14.  14.  14.  15.  15.  14.  15.  14.\n",
      " 24.  22.  18.  21.  27.  26.  25.  24.  25.  26.  21.  10.  10.  11.\n",
      "  9.  27.  28.  25.  19.  16.  17.  19.  18.  14.  14.  14.  14.  12.\n",
      " 13.  13.  18.  22.  19.  18.  23.  28.  30.  30.  31.  35.  27.  26.\n",
      " 24.  25.  23.  20.  21.  13.  14.  15.  14.  17.  11.  13.  12.  13.\n",
      " 19.  15.  13.  13.  14.  18.  22.  21.  26.  22.  28.  23.  28.  27.\n",
      " 13.  14.  13.  14.  15.  12.  13.  13.  14.  13.  12.  13.  18.  16.\n",
      " 18.  18.  23.  26.  11.  12.  13.  12.  18.  20.  21.  22.  18.  19.\n",
      " 21.  26.  15.  16.  29.  24.  20.  19.  15.  24.  20.  11.  20.  19.\n",
      " 15.  31.  26.  32.  25.  16.  16.  18.  16.  13.  14.  14.  14.  29.\n",
      " 26.  26.  31.  32.  28.  24.  26.  24.  26.  31.  19.  18.  15.  15.\n",
      " 16.  15.  16.  14.  17.  16.  15.  18.  21.  20.  13.  29.  23.  20.\n",
      " 23.  24.  25.  24.  18.  29.  19.  23.  23.  22.  25.  33.  28.  25.\n",
      " 25.  26.  27.  17.5 16.  15.5 14.5 22.  22.  24.  22.5 29.  24.5 29.\n",
      " 33.  20.  18.  18.5 17.5 29.5 32.  28.  26.5 20.  13.  19.  19.  16.5\n",
      " 16.5 13.  13.  13.  31.5 30.  36.  25.5 33.5 17.5 17.  15.5 15.  17.5\n",
      " 20.5 19.  18.5 16.  15.5 15.5 16.  29.  24.5 26.  25.5 30.5 33.5 30.\n",
      " 30.5 22.  21.5 21.5 43.1 36.1 32.8 39.4 36.1 19.9 19.4 20.2 19.2 20.5\n",
      " 20.2 25.1 20.5 19.4 20.6 20.8 18.6 18.1 19.2 17.7 18.1 17.5 30.  27.5\n",
      " 27.2 30.9 21.1 23.2 23.8 23.9 20.3 17.  21.6 16.2 31.5 29.5 21.5 19.8\n",
      " 22.3 20.2 20.6 17.  17.6 16.5 18.2 16.9 15.5 19.2 18.5 31.9 34.1 35.7\n",
      " 27.4 25.4 23.  27.2 23.9 34.2 34.5 31.8 37.3 28.4 28.8 26.8 33.5 41.5\n",
      " 38.1 32.1 37.2 28.  26.4 24.3 19.1 34.3 29.8 31.3 37.  32.2 46.6 27.9\n",
      " 40.8 44.3 43.4 36.4 30.  44.6 33.8 29.8 32.7 23.7 35.  32.4 27.2 26.6\n",
      " 25.8 23.5 30.  39.1 39.  35.1 32.3 37.  37.7 34.1 34.7 34.4 29.9 33.\n",
      " 33.7 32.4 32.9 31.6 28.1 30.7 25.4 24.2 22.4 26.6 20.2 17.6 28.  27.\n",
      " 34.  31.  29.  27.  24.  36.  37.  31.  38.  36.  36.  36.  34.  38.\n",
      " 32.  38.  25.  38.  26.  22.  32.  36.  27.  27.  44.  32.  28.  31. ] \n",
      " [[18. ]\n",
      " [15. ]\n",
      " [18. ]\n",
      " [16. ]\n",
      " [17. ]\n",
      " [15. ]\n",
      " [14. ]\n",
      " [14. ]\n",
      " [14. ]\n",
      " [15. ]\n",
      " [15. ]\n",
      " [14. ]\n",
      " [15. ]\n",
      " [14. ]\n",
      " [24. ]\n",
      " [22. ]\n",
      " [18. ]\n",
      " [21. ]\n",
      " [27. ]\n",
      " [26. ]\n",
      " [25. ]\n",
      " [24. ]\n",
      " [25. ]\n",
      " [26. ]\n",
      " [21. ]\n",
      " [10. ]\n",
      " [10. ]\n",
      " [11. ]\n",
      " [ 9. ]\n",
      " [27. ]\n",
      " [28. ]\n",
      " [25. ]\n",
      " [19. ]\n",
      " [16. ]\n",
      " [17. ]\n",
      " [19. ]\n",
      " [18. ]\n",
      " [14. ]\n",
      " [14. ]\n",
      " [14. ]\n",
      " [14. ]\n",
      " [12. ]\n",
      " [13. ]\n",
      " [13. ]\n",
      " [18. ]\n",
      " [22. ]\n",
      " [19. ]\n",
      " [18. ]\n",
      " [23. ]\n",
      " [28. ]\n",
      " [30. ]\n",
      " [30. ]\n",
      " [31. ]\n",
      " [35. ]\n",
      " [27. ]\n",
      " [26. ]\n",
      " [24. ]\n",
      " [25. ]\n",
      " [23. ]\n",
      " [20. ]\n",
      " [21. ]\n",
      " [13. ]\n",
      " [14. ]\n",
      " [15. ]\n",
      " [14. ]\n",
      " [17. ]\n",
      " [11. ]\n",
      " [13. ]\n",
      " [12. ]\n",
      " [13. ]\n",
      " [19. ]\n",
      " [15. ]\n",
      " [13. ]\n",
      " [13. ]\n",
      " [14. ]\n",
      " [18. ]\n",
      " [22. ]\n",
      " [21. ]\n",
      " [26. ]\n",
      " [22. ]\n",
      " [28. ]\n",
      " [23. ]\n",
      " [28. ]\n",
      " [27. ]\n",
      " [13. ]\n",
      " [14. ]\n",
      " [13. ]\n",
      " [14. ]\n",
      " [15. ]\n",
      " [12. ]\n",
      " [13. ]\n",
      " [13. ]\n",
      " [14. ]\n",
      " [13. ]\n",
      " [12. ]\n",
      " [13. ]\n",
      " [18. ]\n",
      " [16. ]\n",
      " [18. ]\n",
      " [18. ]\n",
      " [23. ]\n",
      " [26. ]\n",
      " [11. ]\n",
      " [12. ]\n",
      " [13. ]\n",
      " [12. ]\n",
      " [18. ]\n",
      " [20. ]\n",
      " [21. ]\n",
      " [22. ]\n",
      " [18. ]\n",
      " [19. ]\n",
      " [21. ]\n",
      " [26. ]\n",
      " [15. ]\n",
      " [16. ]\n",
      " [29. ]\n",
      " [24. ]\n",
      " [20. ]\n",
      " [19. ]\n",
      " [15. ]\n",
      " [24. ]\n",
      " [20. ]\n",
      " [11. ]\n",
      " [20. ]\n",
      " [19. ]\n",
      " [15. ]\n",
      " [31. ]\n",
      " [26. ]\n",
      " [32. ]\n",
      " [25. ]\n",
      " [16. ]\n",
      " [16. ]\n",
      " [18. ]\n",
      " [16. ]\n",
      " [13. ]\n",
      " [14. ]\n",
      " [14. ]\n",
      " [14. ]\n",
      " [29. ]\n",
      " [26. ]\n",
      " [26. ]\n",
      " [31. ]\n",
      " [32. ]\n",
      " [28. ]\n",
      " [24. ]\n",
      " [26. ]\n",
      " [24. ]\n",
      " [26. ]\n",
      " [31. ]\n",
      " [19. ]\n",
      " [18. ]\n",
      " [15. ]\n",
      " [15. ]\n",
      " [16. ]\n",
      " [15. ]\n",
      " [16. ]\n",
      " [14. ]\n",
      " [17. ]\n",
      " [16. ]\n",
      " [15. ]\n",
      " [18. ]\n",
      " [21. ]\n",
      " [20. ]\n",
      " [13. ]\n",
      " [29. ]\n",
      " [23. ]\n",
      " [20. ]\n",
      " [23. ]\n",
      " [24. ]\n",
      " [25. ]\n",
      " [24. ]\n",
      " [18. ]\n",
      " [29. ]\n",
      " [19. ]\n",
      " [23. ]\n",
      " [23. ]\n",
      " [22. ]\n",
      " [25. ]\n",
      " [33. ]\n",
      " [28. ]\n",
      " [25. ]\n",
      " [25. ]\n",
      " [26. ]\n",
      " [27. ]\n",
      " [17.5]\n",
      " [16. ]\n",
      " [15.5]\n",
      " [14.5]\n",
      " [22. ]\n",
      " [22. ]\n",
      " [24. ]\n",
      " [22.5]\n",
      " [29. ]\n",
      " [24.5]\n",
      " [29. ]\n",
      " [33. ]\n",
      " [20. ]\n",
      " [18. ]\n",
      " [18.5]\n",
      " [17.5]\n",
      " [29.5]\n",
      " [32. ]\n",
      " [28. ]\n",
      " [26.5]\n",
      " [20. ]\n",
      " [13. ]\n",
      " [19. ]\n",
      " [19. ]\n",
      " [16.5]\n",
      " [16.5]\n",
      " [13. ]\n",
      " [13. ]\n",
      " [13. ]\n",
      " [31.5]\n",
      " [30. ]\n",
      " [36. ]\n",
      " [25.5]\n",
      " [33.5]\n",
      " [17.5]\n",
      " [17. ]\n",
      " [15.5]\n",
      " [15. ]\n",
      " [17.5]\n",
      " [20.5]\n",
      " [19. ]\n",
      " [18.5]\n",
      " [16. ]\n",
      " [15.5]\n",
      " [15.5]\n",
      " [16. ]\n",
      " [29. ]\n",
      " [24.5]\n",
      " [26. ]\n",
      " [25.5]\n",
      " [30.5]\n",
      " [33.5]\n",
      " [30. ]\n",
      " [30.5]\n",
      " [22. ]\n",
      " [21.5]\n",
      " [21.5]\n",
      " [43.1]\n",
      " [36.1]\n",
      " [32.8]\n",
      " [39.4]\n",
      " [36.1]\n",
      " [19.9]\n",
      " [19.4]\n",
      " [20.2]\n",
      " [19.2]\n",
      " [20.5]\n",
      " [20.2]\n",
      " [25.1]\n",
      " [20.5]\n",
      " [19.4]\n",
      " [20.6]\n",
      " [20.8]\n",
      " [18.6]\n",
      " [18.1]\n",
      " [19.2]\n",
      " [17.7]\n",
      " [18.1]\n",
      " [17.5]\n",
      " [30. ]\n",
      " [27.5]\n",
      " [27.2]\n",
      " [30.9]\n",
      " [21.1]\n",
      " [23.2]\n",
      " [23.8]\n",
      " [23.9]\n",
      " [20.3]\n",
      " [17. ]\n",
      " [21.6]\n",
      " [16.2]\n",
      " [31.5]\n",
      " [29.5]\n",
      " [21.5]\n",
      " [19.8]\n",
      " [22.3]\n",
      " [20.2]\n",
      " [20.6]\n",
      " [17. ]\n",
      " [17.6]\n",
      " [16.5]\n",
      " [18.2]\n",
      " [16.9]\n",
      " [15.5]\n",
      " [19.2]\n",
      " [18.5]\n",
      " [31.9]\n",
      " [34.1]\n",
      " [35.7]\n",
      " [27.4]\n",
      " [25.4]\n",
      " [23. ]\n",
      " [27.2]\n",
      " [23.9]\n",
      " [34.2]\n",
      " [34.5]\n",
      " [31.8]\n",
      " [37.3]\n",
      " [28.4]\n",
      " [28.8]\n",
      " [26.8]\n",
      " [33.5]\n",
      " [41.5]\n",
      " [38.1]\n",
      " [32.1]\n",
      " [37.2]\n",
      " [28. ]\n",
      " [26.4]\n",
      " [24.3]\n",
      " [19.1]\n",
      " [34.3]\n",
      " [29.8]\n",
      " [31.3]\n",
      " [37. ]\n",
      " [32.2]\n",
      " [46.6]\n",
      " [27.9]\n",
      " [40.8]\n",
      " [44.3]\n",
      " [43.4]\n",
      " [36.4]\n",
      " [30. ]\n",
      " [44.6]\n",
      " [33.8]\n",
      " [29.8]\n",
      " [32.7]\n",
      " [23.7]\n",
      " [35. ]\n",
      " [32.4]\n",
      " [27.2]\n",
      " [26.6]\n",
      " [25.8]\n",
      " [23.5]\n",
      " [30. ]\n",
      " [39.1]\n",
      " [39. ]\n",
      " [35.1]\n",
      " [32.3]\n",
      " [37. ]\n",
      " [37.7]\n",
      " [34.1]\n",
      " [34.7]\n",
      " [34.4]\n",
      " [29.9]\n",
      " [33. ]\n",
      " [33.7]\n",
      " [32.4]\n",
      " [32.9]\n",
      " [31.6]\n",
      " [28.1]\n",
      " [30.7]\n",
      " [25.4]\n",
      " [24.2]\n",
      " [22.4]\n",
      " [26.6]\n",
      " [20.2]\n",
      " [17.6]\n",
      " [28. ]\n",
      " [27. ]\n",
      " [34. ]\n",
      " [31. ]\n",
      " [29. ]\n",
      " [27. ]\n",
      " [24. ]\n",
      " [36. ]\n",
      " [37. ]\n",
      " [31. ]\n",
      " [38. ]\n",
      " [36. ]\n",
      " [36. ]\n",
      " [36. ]\n",
      " [34. ]\n",
      " [38. ]\n",
      " [32. ]\n",
      " [38. ]\n",
      " [25. ]\n",
      " [38. ]\n",
      " [26. ]\n",
      " [22. ]\n",
      " [32. ]\n",
      " [36. ]\n",
      " [27. ]\n",
      " [27. ]\n",
      " [44. ]\n",
      " [32. ]\n",
      " [28. ]\n",
      " [31. ]]\n"
     ]
    }
   ],
   "source": [
    "# give me the target values (mpg)\n",
    "T = data[:, 0:1]  # data[:,0] results in a one-dimensional matrix, data[:,0:1] preserves its two-dimensional nature.\n",
    "print(data[:,0],\"\\n\",T)"
   ]
  },
  {
   "cell_type": "code",
   "execution_count": 98,
   "metadata": {},
   "outputs": [
    {
     "data": {
      "text/plain": [
       "array([[  8. , 307. , 130. , ...,  12. ,  70. ,   1. ],\n",
       "       [  8. , 350. , 165. , ...,  11.5,  70. ,   1. ],\n",
       "       [  8. , 318. , 150. , ...,  11. ,  70. ,   1. ],\n",
       "       ...,\n",
       "       [  4. , 135. ,  84. , ...,  11.6,  82. ,   1. ],\n",
       "       [  4. , 120. ,  79. , ...,  18.6,  82. ,   1. ],\n",
       "       [  4. , 119. ,  82. , ...,  19.4,  82. ,   1. ]])"
      ]
     },
     "execution_count": 98,
     "metadata": {},
     "output_type": "execute_result"
    }
   ],
   "source": [
    "X = data[:, 1:] # give me the input variables\n",
    "X"
   ]
  },
  {
   "cell_type": "code",
   "execution_count": 99,
   "metadata": {},
   "outputs": [
    {
     "data": {
      "text/plain": [
       "((392, 7), (392, 1), (392,))"
      ]
     },
     "execution_count": 99,
     "metadata": {},
     "output_type": "execute_result"
    }
   ],
   "source": [
    "X.shape, T.shape, data[:,0].shape"
   ]
  },
  {
   "cell_type": "code",
   "execution_count": 100,
   "metadata": {},
   "outputs": [
    {
     "data": {
      "text/plain": [
       "(['cylinders',\n",
       "  'displacement',\n",
       "  'horsepower',\n",
       "  'weight',\n",
       "  'acceleration',\n",
       "  'year',\n",
       "  'origin'],\n",
       " 'mpg')"
      ]
     },
     "execution_count": 100,
     "metadata": {},
     "output_type": "execute_result"
    }
   ],
   "source": [
    "Xnames = names[1:]\n",
    "Tname = names[0]\n",
    "Xnames, Tname"
   ]
  },
  {
   "cell_type": "markdown",
   "metadata": {},
   "source": [
    "Now, let's see if a linear model makes some sense by plotting the target values versus each of the input variables."
   ]
  },
  {
   "cell_type": "code",
   "execution_count": 101,
   "metadata": {},
   "outputs": [
    {
     "data": {
      "image/png": "[encoded data removed]",
      "text/plain": [
       "<Figure size 720x720 with 7 Axes>"
      ]
     },
     "metadata": {
      "needs_background": "light"
     },
     "output_type": "display_data"
    }
   ],
   "source": [
    "plt.figure(figsize=(10, 10))\n",
    "for c in range(X.shape[1]):\n",
    "    plt.subplot(3,3, c+1)\n",
    "    plt.plot(X[:, c], T, 'o', alpha=0.5)\n",
    "    plt.ylabel(Tname)\n",
    "    plt.xlabel(Xnames[c])\n",
    "plt.tight_layout()"
   ]
  },
  {
   "cell_type": "markdown",
   "metadata": {},
   "source": [
    "What do you think?  Are there any linear relationships between the individual input variables and the target variable?  Do they make sense, given your knowledge of automobiles?\n",
    "\n",
    "Now, to build the linear model.  First, let's tack on a column of constant 1 values to the left side of *X*.  With this addition, our matrix multiplication takes care of the $w_0$ coefficient as described above.  We can use ```np.insert``` whose arguments are ```np.insert(array, where, value, axis)```, so to add 1's as a column at index 0, we can do this."
   ]
  },
  {
   "cell_type": "code",
   "execution_count": 102,
   "metadata": {},
   "outputs": [
    {
     "data": {
      "text/plain": [
       "((392, 7), (392, 8))"
      ]
     },
     "execution_count": 102,
     "metadata": {},
     "output_type": "execute_result"
    }
   ],
   "source": [
    "X1 = np.insert(X, 0, 1, 1)\n",
    "X.shape, X1.shape"
   ]
  },
  {
   "cell_type": "code",
   "execution_count": 103,
   "metadata": {},
   "outputs": [
    {
     "data": {
      "text/plain": [
       "array([[1.000e+00, 8.000e+00, 3.070e+02, 1.300e+02, 3.504e+03, 1.200e+01,\n",
       "        7.000e+01, 1.000e+00],\n",
       "       [1.000e+00, 8.000e+00, 3.500e+02, 1.650e+02, 3.693e+03, 1.150e+01,\n",
       "        7.000e+01, 1.000e+00],\n",
       "       [1.000e+00, 8.000e+00, 3.180e+02, 1.500e+02, 3.436e+03, 1.100e+01,\n",
       "        7.000e+01, 1.000e+00]])"
      ]
     },
     "execution_count": 103,
     "metadata": {},
     "output_type": "execute_result"
    }
   ],
   "source": [
    "X1[:3, :]"
   ]
  },
  {
   "cell_type": "markdown",
   "metadata": {},
   "source": [
    "And, let's add a name to *Xnames* for the constant 1 column.  The $w_0$ weight is often called the \"bias\" weight, so let's add the name 'bias'."
   ]
  },
  {
   "cell_type": "code",
   "execution_count": 104,
   "metadata": {},
   "outputs": [
    {
     "data": {
      "text/plain": [
       "['bias',\n",
       " 'cylinders',\n",
       " 'displacement',\n",
       " 'horsepower',\n",
       " 'weight',\n",
       " 'acceleration',\n",
       " 'year',\n",
       " 'origin']"
      ]
     },
     "execution_count": 104,
     "metadata": {},
     "output_type": "execute_result"
    }
   ],
   "source": [
    "Xnames.insert(0, 'bias')\n",
    "Xnames"
   ]
  },
  {
   "cell_type": "markdown",
   "metadata": {},
   "source": [
    "We could try to fit a linear model to all of the data and check to see\n",
    "how accurately we predict *mpg* for each sample.  However, this will\n",
    "give a much too optimistic expectation of how well the model will do\n",
    "on new data.\n",
    "\n",
    "A much better way to evaluate a model is to remove, or hold out, some\n",
    "of the samples from the data set used to fit the model.  Then apply\n",
    "the model to the held out samples and compare the predicted *mpg*\n",
    "with the actual *mpg*.  Call these held out samples the **test set**\n",
    "and the other samples used to fit the model the **train set**.  \n",
    "\n",
    "How should we partition the data into these two disjoint subsets?  A\n",
    "common practice is to randomly select 80% of the samples as training\n",
    "samples and use the remaining 20% of the samples as testing samples.\n",
    "\n",
    "To partition our samples  (rows of X and T ) into training and test sets, let's deal with just the row indices.  Then we will use the same selected row indices to slice out corresponding rows of X and T.\n",
    "\n",
    "First let's calculate the number of samples in our training set and testing set."
   ]
  },
  {
   "cell_type": "code",
   "execution_count": 105,
   "metadata": {},
   "outputs": [
    {
     "data": {
      "text/plain": [
       "(314, 78, 392)"
      ]
     },
     "execution_count": 105,
     "metadata": {},
     "output_type": "execute_result"
    }
   ],
   "source": [
    "nrows = X1.shape[0]\n",
    "nTrain = int(round(nrow * 0.8))\n",
    "nTest = nrow - nTrain\n",
    "nTrain, nTest, nTrain + nTest"
   ]
  },
  {
   "cell_type": "markdown",
   "metadata": {},
   "source": [
    "Now we want to randomly select 314 samples (rows) as our training set, and the remaining samples (row) as our testing set.  One way to do this is just to randomly permute an array row indices, then select the first 314 for the training set and the remaining 78 as our testing set."
   ]
  },
  {
   "cell_type": "code",
   "execution_count": 106,
   "metadata": {},
   "outputs": [
    {
     "data": {
      "text/plain": [
       "array([ 75, 118, 318, 106, 312,  78, 258, 314, 144, 140, 232, 385, 113,\n",
       "       126, 132,   5, 194, 164,   6, 196, 276, 193, 165, 233, 381, 121,\n",
       "        37, 186, 307, 292, 117,  23, 369, 263, 197, 347,  19, 123, 252,\n",
       "        69, 129, 359, 279, 262, 225, 291,  59,  33,  64,   4, 354, 366,\n",
       "       238, 266, 200,  18, 304,  30,  88, 309,  34, 158, 352, 350, 249,\n",
       "       128, 148,  26, 297, 130,   0, 364,  14, 274, 261, 127, 108, 215,\n",
       "       378,  25,  56, 183, 124, 275, 170,  95, 241, 122,  65, 290, 360,\n",
       "       326,   8, 277, 370, 283, 152, 172, 256,  16,  99, 231, 303, 356,\n",
       "       219, 361, 329, 288, 163, 243, 177, 135,  45, 272, 355, 162, 166,\n",
       "       389, 308, 203, 302, 245, 321, 293, 330, 188, 311, 333, 341, 322,\n",
       "       228, 175, 259,  98, 240, 145, 271,  60, 222, 155, 368, 198,  10,\n",
       "         2,  38, 134, 296, 340, 236, 205,  83, 167,  67,  85, 149, 119,\n",
       "       161,  51, 176, 344, 280, 239, 260,  53, 373, 114, 362,  12,  96,\n",
       "       229, 214,   1, 115, 267, 301, 216, 348,  17,  94, 382, 199, 153,\n",
       "       221,  62,  66, 211, 171, 316, 151,  48,  50,  57, 315,  44,  31,\n",
       "       357,  21, 387, 251, 268, 195, 189, 384,  22, 209, 208, 156,  28,\n",
       "       210, 192,  93, 363, 331, 104,  82, 383,  92,  46,  27, 332, 371,\n",
       "        41, 317, 323, 159, 146, 101, 201, 281, 133, 327, 191, 313, 379,\n",
       "        74, 187,  71, 242, 103,  80, 298, 247, 142, 343, 111, 204, 182,\n",
       "       269, 377, 173,  86, 367, 237, 339, 353, 137, 338, 386, 325, 178,\n",
       "       305, 181, 107, 282, 179, 202, 136,  76, 143, 324, 139,  43, 100,\n",
       "       207, 147, 328, 270, 285, 265, 391, 286, 255, 336,  36, 206, 365,\n",
       "       157, 248,  84, 264,  73,  15, 169,  97, 227, 346, 185, 342, 220,\n",
       "       380, 351, 253,  87, 217, 168, 257, 213, 374,  35, 250,  90, 230,\n",
       "        40,  61, 180,  39,   3, 223, 102,  68, 235, 246,  52, 224,  32,\n",
       "        70, 319, 125, 254, 372, 154, 150, 295, 300, 138, 184, 284, 294,\n",
       "       105, 306,  13, 310, 112, 337, 390, 131, 190,  54,  24,  91, 226,\n",
       "       141, 174, 388, 334, 345, 160, 320,  72,  55,  42, 375, 212,  77,\n",
       "        79,  29,   9, 120, 358, 335,  58, 289, 273,  47, 110, 349,  81,\n",
       "         7,  20, 244, 109,  11,  49, 376,  63, 218, 278, 116, 287,  89,\n",
       "       234, 299])"
      ]
     },
     "execution_count": 106,
     "metadata": {},
     "output_type": "execute_result"
    }
   ],
   "source": [
    "rows = np.arange(nrows)\n",
    "np.random.shuffle(rows)\n",
    "rows"
   ]
  },
  {
   "cell_type": "code",
   "execution_count": 107,
   "metadata": {},
   "outputs": [
    {
     "data": {
      "text/plain": [
       "(array([ 75, 118, 318, 106, 312,  78, 258, 314, 144, 140, 232, 385, 113,\n",
       "        126, 132,   5, 194, 164,   6, 196, 276, 193, 165, 233, 381, 121,\n",
       "         37, 186, 307, 292, 117,  23, 369, 263, 197, 347,  19, 123, 252,\n",
       "         69, 129, 359, 279, 262, 225, 291,  59,  33,  64,   4, 354, 366,\n",
       "        238, 266, 200,  18, 304,  30,  88, 309,  34, 158, 352, 350, 249,\n",
       "        128, 148,  26, 297, 130,   0, 364,  14, 274, 261, 127, 108, 215,\n",
       "        378,  25,  56, 183, 124, 275, 170,  95, 241, 122,  65, 290, 360,\n",
       "        326,   8, 277, 370, 283, 152, 172, 256,  16,  99, 231, 303, 356,\n",
       "        219, 361, 329, 288, 163, 243, 177, 135,  45, 272, 355, 162, 166,\n",
       "        389, 308, 203, 302, 245, 321, 293, 330, 188, 311, 333, 341, 322,\n",
       "        228, 175, 259,  98, 240, 145, 271,  60, 222, 155, 368, 198,  10,\n",
       "          2,  38, 134, 296, 340, 236, 205,  83, 167,  67,  85, 149, 119,\n",
       "        161,  51, 176, 344, 280, 239, 260,  53, 373, 114, 362,  12,  96,\n",
       "        229, 214,   1, 115, 267, 301, 216, 348,  17,  94, 382, 199, 153,\n",
       "        221,  62,  66, 211, 171, 316, 151,  48,  50,  57, 315,  44,  31,\n",
       "        357,  21, 387, 251, 268, 195, 189, 384,  22, 209, 208, 156,  28,\n",
       "        210, 192,  93, 363, 331, 104,  82, 383,  92,  46,  27, 332, 371,\n",
       "         41, 317, 323, 159, 146, 101, 201, 281, 133, 327, 191, 313, 379,\n",
       "         74, 187,  71, 242, 103,  80, 298, 247, 142, 343, 111, 204, 182,\n",
       "        269, 377, 173,  86, 367, 237, 339, 353, 137, 338, 386, 325, 178,\n",
       "        305, 181, 107, 282, 179, 202, 136,  76, 143, 324, 139,  43, 100,\n",
       "        207, 147, 328, 270, 285, 265, 391, 286, 255, 336,  36, 206, 365,\n",
       "        157, 248,  84, 264,  73,  15, 169,  97, 227, 346, 185, 342, 220,\n",
       "        380, 351, 253,  87, 217, 168, 257, 213, 374,  35, 250,  90, 230,\n",
       "         40,  61]),\n",
       " array([180,  39,   3, 223, 102,  68, 235, 246,  52, 224,  32,  70, 319,\n",
       "        125, 254, 372, 154, 150, 295, 300, 138, 184, 284, 294, 105, 306,\n",
       "         13, 310, 112, 337, 390, 131, 190,  54,  24,  91, 226, 141, 174,\n",
       "        388, 334, 345, 160, 320,  72,  55,  42, 375, 212,  77,  79,  29,\n",
       "          9, 120, 358, 335,  58, 289, 273,  47, 110, 349,  81,   7,  20,\n",
       "        244, 109,  11,  49, 376,  63, 218, 278, 116, 287,  89, 234, 299]))"
      ]
     },
     "execution_count": 107,
     "metadata": {},
     "output_type": "execute_result"
    }
   ],
   "source": [
    "trainIndices = rows[:nTrain]\n",
    "testIndices = rows[nTrain:]\n",
    "trainIndices, testIndices"
   ]
  },
  {
   "cell_type": "markdown",
   "metadata": {},
   "source": [
    "Check that the training and testing sets are disjoint."
   ]
  },
  {
   "cell_type": "code",
   "execution_count": 108,
   "metadata": {},
   "outputs": [
    {
     "data": {
      "text/plain": [
       "array([], dtype=int32)"
      ]
     },
     "execution_count": 108,
     "metadata": {},
     "output_type": "execute_result"
    }
   ],
   "source": [
    "np.intersect1d(trainIndices, testIndices)"
   ]
  },
  {
   "cell_type": "code",
   "execution_count": 109,
   "metadata": {},
   "outputs": [
    {
     "data": {
      "text/plain": [
       "((314, 8), (314, 1), (78, 8), (78, 1))"
      ]
     },
     "execution_count": 109,
     "metadata": {},
     "output_type": "execute_result"
    }
   ],
   "source": [
    "Xtrain = X1[trainIndices, :]\n",
    "Ttrain = T[trainIndices, :]\n",
    "Xtest = X1[testIndices, :]\n",
    "Ttest = T[testIndices, :]\n",
    "Xtrain.shape, Ttrain.shape, Xtest.shape, Ttest.shape"
   ]
  },
  {
   "cell_type": "markdown",
   "metadata": {},
   "source": [
    "Now we can use the SGD loop previously shown to find good weights.\n",
    "\n",
    "First let's add a calculation to track the error.  We want to watch how quickly the sum of squared errors, over all samples, is decreasing. More meaningful is the square root of the mean of squared errors (RMSE) so that the units of the error are in the same units of the target variables, rather than the square of them.\n",
    "\n",
    "RMSE is computed by taking all residuals (if computing over the training data) or *errors* (if computing over the testing data) and computing their quadratic mean, or $\\sqrt{\\frac{1}{n}(r_1^2 + r_2^2 + ... + r_n^2)}$ where $r \\in R$, the set of residuals.\n",
    "\n",
    "Look at the tiny size of the ```learning_rate```.  Try editing the value and run the following code cell again."
   ]
  },
  {
   "cell_type": "code",
   "execution_count": 113,
   "metadata": {
    "scrolled": false
   },
   "outputs": [
    {
     "name": "stdout",
     "output_type": "stream",
     "text": [
      "Epoch 1 RMSE 19.25\n",
      "Epoch 2 RMSE 18.02\n",
      "Epoch 3 RMSE 16.97\n",
      "Epoch 4 RMSE 16.07\n",
      "Epoch 5 RMSE 15.29\n",
      "Epoch 6 RMSE 14.61\n",
      "Epoch 7 RMSE 14.04\n",
      "Epoch 8 RMSE 13.55\n",
      "Epoch 9 RMSE 13.13\n",
      "Epoch 10 RMSE 12.78\n",
      "Epoch 11 RMSE 12.47\n",
      "Epoch 12 RMSE 12.22\n",
      "Epoch 13 RMSE 11.99\n",
      "Epoch 14 RMSE 11.80\n",
      "Epoch 15 RMSE 11.64\n",
      "Epoch 16 RMSE 11.50\n",
      "Epoch 17 RMSE 11.37\n",
      "Epoch 18 RMSE 11.26\n",
      "Epoch 19 RMSE 11.16\n",
      "Epoch 20 RMSE 11.07\n",
      "Epoch 21 RMSE 10.99\n",
      "Epoch 22 RMSE 10.92\n",
      "Epoch 23 RMSE 10.85\n",
      "Epoch 24 RMSE 10.79\n",
      "Epoch 25 RMSE 10.72\n",
      "Epoch 26 RMSE 10.67\n",
      "Epoch 27 RMSE 10.61\n",
      "Epoch 28 RMSE 10.56\n",
      "Epoch 29 RMSE 10.51\n",
      "Epoch 30 RMSE 10.45\n",
      "Epoch 31 RMSE 10.41\n",
      "Epoch 32 RMSE 10.36\n",
      "Epoch 33 RMSE 10.31\n",
      "Epoch 34 RMSE 10.26\n",
      "Epoch 35 RMSE 10.22\n",
      "Epoch 36 RMSE 10.17\n",
      "Epoch 37 RMSE 10.12\n",
      "Epoch 38 RMSE 10.08\n",
      "Epoch 39 RMSE 10.03\n",
      "Epoch 40 RMSE 9.99\n",
      "Epoch 41 RMSE 9.94\n",
      "Epoch 42 RMSE 9.90\n",
      "Epoch 43 RMSE 9.86\n",
      "Epoch 44 RMSE 9.81\n",
      "Epoch 45 RMSE 9.77\n",
      "Epoch 46 RMSE 9.73\n",
      "Epoch 47 RMSE 9.68\n",
      "Epoch 48 RMSE 9.64\n",
      "Epoch 49 RMSE 9.60\n",
      "Epoch 50 RMSE 9.56\n",
      "w: [[ 0.00224726]\n",
      " [ 0.00315382]\n",
      " [-0.13203087]\n",
      " [-0.00788165]\n",
      " [ 0.00994609]\n",
      " [ 0.03940156]\n",
      " [ 0.18749032]\n",
      " [ 0.00720731]] error: [[-4.74328688]] error ** 2: [[22.49877045]]\n"
     ]
    }
   ],
   "source": [
    "learning_rate = 0.0000001\n",
    "n_epochs = 50\n",
    "\n",
    "n_samples, n_inputs = Xtrain.shape  # number of rows in data equals the number of samples\n",
    "\n",
    "w = np.zeros((n_inputs, 1))                # initialize the weights to zeros\n",
    "\n",
    "for epoch in range(n_epochs):             # train for this many epochs, or passes through the data set\n",
    "    sqerror_sum = 0\n",
    "\n",
    "    for n in range(n_samples):\n",
    "        y = Xtrain[n:n + 1, :] @ w      # predicted value, y, for sample n\n",
    "        error = Ttrain[n:n + 1, :] - y  \n",
    "        # update weights by fraction of negative derivative of square error with respect to weights\n",
    "        # print(y.shape, error.shape, (X1[n:n+1,:].T * error).shape)\n",
    "        w += learning_rate * Xtrain[n:n + 1, :].T * error\n",
    "        sqerror_sum += error ** 2\n",
    "\n",
    "        rmse = np.sqrt(sqerror_sum / n_samples)\n",
    "    rmse = rmse[0, 0]  # because rmse is 1x1 matrix\n",
    "    print(f'Epoch {epoch + 1} RMSE {rmse:.2f}')\n",
    "        \n",
    "print(\"w:\", w, \"error:\", error, \"error ** 2:\", error ** 2)"
   ]
  },
  {
   "cell_type": "markdown",
   "metadata": {},
   "source": [
    "Now that we have a linear model, which is simply $w$, let's use it to predict *mpg* for the first four samples."
   ]
  },
  {
   "cell_type": "code",
   "execution_count": 218,
   "metadata": {},
   "outputs": [
    {
     "data": {
      "text/plain": [
       "array([[26.52179996],\n",
       "       [28.67375849],\n",
       "       [38.10341549],\n",
       "       [32.61520091]])"
      ]
     },
     "execution_count": 218,
     "metadata": {},
     "output_type": "execute_result"
    }
   ],
   "source": [
    "predict = Xtrain[:4,:] @ w\n",
    "predict"
   ]
  },
  {
   "cell_type": "markdown",
   "metadata": {},
   "source": [
    "How do these predictions compare with the actual *mpg* values?  We can either make a two column matrix, or use a *for* loop to print them."
   ]
  },
  {
   "cell_type": "code",
   "execution_count": 219,
   "metadata": {},
   "outputs": [
    {
     "data": {
      "text/plain": [
       "array([[26.52179996, 17.5       ],\n",
       "       [28.67375849, 26.        ],\n",
       "       [38.10341549, 17.        ],\n",
       "       [32.61520091, 44.3       ]])"
      ]
     },
     "execution_count": 219,
     "metadata": {},
     "output_type": "execute_result"
    }
   ],
   "source": [
    "np.hstack(( predict, Ttrain[:4, :]))"
   ]
  },
  {
   "cell_type": "markdown",
   "metadata": {},
   "source": [
    "Go back to the training loop and try different values of ```learning_rate``` and ```n_epochs```.  Try to find values that result in lowest RMSE."
   ]
  },
  {
   "cell_type": "code",
   "execution_count": 220,
   "metadata": {},
   "outputs": [
    {
     "name": "stdout",
     "output_type": "stream",
     "text": [
      "  P     T  \n",
      "26.52 17.50\n",
      "28.67 26.00\n",
      "38.10 17.00\n",
      "32.62 44.30\n"
     ]
    }
   ],
   "source": [
    "print('{:^5} {:^5}'.format('P', 'T'))\n",
    "for (p, t) in zip(predict, Ttrain[0:4, :]):\n",
    "    print('{:5.2f} {:5.2f}'.format(p[0], t[0]))"
   ]
  },
  {
   "cell_type": "markdown",
   "metadata": {},
   "source": [
    "Let's try all of the test data and plot the results."
   ]
  },
  {
   "cell_type": "code",
   "execution_count": 221,
   "metadata": {},
   "outputs": [
    {
     "data": {
      "text/plain": [
       "((78, 1), (78, 1))"
      ]
     },
     "execution_count": 221,
     "metadata": {},
     "output_type": "execute_result"
    }
   ],
   "source": [
    "predict = Xtest @ w\n",
    "predict.shape, Ttest.shape"
   ]
  },
  {
   "cell_type": "code",
   "execution_count": 222,
   "metadata": {},
   "outputs": [
    {
     "data": {
      "image/png": "[encoded data removed]",
      "text/plain": [
       "<Figure size 432x288 with 1 Axes>"
      ]
     },
     "metadata": {
      "needs_background": "light"
     },
     "output_type": "display_data"
    }
   ],
   "source": [
    "plt.plot(predict, Ttest, 'o')\n",
    "plt.xlabel('Predicted MPG')\n",
    "plt.ylabel('Actual MPG')\n",
    "# add a 45 degree line\n",
    "a = max(min(predict), min(Ttest))\n",
    "b = min(max(predict), max(Ttest))\n",
    "plt.plot([a, b], [a ,b], 'r', linewidth=3, alpha=0.7);"
   ]
  },
  {
   "cell_type": "markdown",
   "metadata": {},
   "source": [
    "(choose one)[Not too shabby!, Not great!]  But, how about a numerical measure of accuracy?  \n",
    "\n",
    "Right, just calculate the root-mean-square error (RMSE)."
   ]
  },
  {
   "cell_type": "code",
   "execution_count": 223,
   "metadata": {},
   "outputs": [
    {
     "name": "stdout",
     "output_type": "stream",
     "text": [
      "Our predictions are about 10.7 mpg off, on average.\n"
     ]
    }
   ],
   "source": [
    "rmse = np.sqrt( np.mean( (Xtest @ w - Ttest)**2))\n",
    "print(\"Our predictions are about %.4s mpg off, on average.\" % rmse)"
   ]
  },
  {
   "cell_type": "markdown",
   "metadata": {},
   "source": [
    "## Standarizing Variables"
   ]
  },
  {
   "cell_type": "markdown",
   "metadata": {},
   "source": [
    "From trying different values of ```learning_rate``` you should have discovered that its value must be very small to prevent the incremental updates to $w$ from resulting in NaN.  This is because a larger ```learning_rate``` when multiplied by inputs $x$ that are large results in too large a change in $w$ and sends you farther up the opposite side of the bowl that is the quadratic error function we are trying to minimize.\n",
    "\n",
    "Is there a general way to deal with this problem?"
   ]
  },
  {
   "cell_type": "markdown",
   "metadata": {},
   "source": [
    "Recall that our variables have widely different ranges, as seen in the plots.  Let's make a table of the ranges."
   ]
  },
  {
   "cell_type": "code",
   "execution_count": 224,
   "metadata": {},
   "outputs": [
    {
     "name": "stdout",
     "output_type": "stream",
     "text": [
      "bias             1.0,     1.0\n",
      "cylinders        3.0,     8.0\n",
      "displacement    68.0,   455.0\n",
      "horsepower      46.0,   230.0\n",
      "weight        1613.0,  5140.0\n",
      "acceleration     8.0,    24.8\n",
      "year            70.0,    82.0\n",
      "origin           1.0,     3.0\n"
     ]
    }
   ],
   "source": [
    "mins = np.min(X1, axis=0)\n",
    "maxs = np.max(X1, axis=0)\n",
    "for vi in range(X1.shape[1]):\n",
    "    print(f\"{Xnames[vi]:12} {mins[vi]:7.1f}, {maxs[vi]:7.1f}\")\n",
    "    "
   ]
  },
  {
   "cell_type": "markdown",
   "metadata": {},
   "source": [
    "Since each input value is multiplied by its own weight, the magnitude of the weights are very dependent on the range of its input values.  This also means the step size in the gradient descent is very dependent on the range of input values.\n",
    "\n",
    "To minimize this effect, lets **standardize** our variables.  To do this we will adjust the values of each input variable so that it has a mean of zero and a standard deviation of 1 over all training samples (recall, standard deviation ($\\sigma$ denotes the amount of dispersion in a set of values---the value(s) most dispersed from the mean should have the highest standard deviation of the set).\n",
    "\n",
    "Of course we do this before tacking on the column of constant 1s, or, equivalently, if the 1s are already there only adjust all columns except the first one.\n",
    "\n",
    "To do this correctly when partitioning data into training and testing sets, we must always calculate means and standard deviations using only the training set, and use the same means and standard deviations when standardizing the testing set.  Remember, you must not use any information about the testing set when building a model.  If you do, your test error will be lower than it will be when you truly see new data.\n",
    "\n",
    "You can do this by storing the means and standard deviations obtained from the training data, and just use them when standardizing the testing data.  Don't forget that we don't standardize the column of constant 1s."
   ]
  },
  {
   "cell_type": "code",
   "execution_count": 225,
   "metadata": {},
   "outputs": [
    {
     "data": {
      "text/plain": [
       "(array([5.52866242e+00, 1.97906051e+02, 1.05748408e+02, 3.00627707e+03,\n",
       "        1.55585987e+01, 7.59713376e+01, 1.56687898e+00]),\n",
       " array([1.72305650e+00, 1.05166814e+02, 3.86039470e+01, 8.53211794e+02,\n",
       "        2.79000821e+00, 3.62876953e+00, 8.04239446e-01]))"
      ]
     },
     "execution_count": 225,
     "metadata": {},
     "output_type": "execute_result"
    }
   ],
   "source": [
    "Xmeans = np.mean(Xtrain[:, 1:], axis=0)\n",
    "Xstds = np.std(Xtrain[:, 1:], axis=0)\n",
    "Xmeans, Xstds"
   ]
  },
  {
   "cell_type": "code",
   "execution_count": 226,
   "metadata": {},
   "outputs": [
    {
     "data": {
      "text/plain": [
       "(array([ 1.00000000e+00,  1.04657967e-16,  7.74327524e-17, -1.14558045e-16,\n",
       "        -1.06072263e-17,  5.89611516e-15, -1.08759428e-15, -1.26933142e-16]),\n",
       " array([0., 1., 1., 1., 1., 1., 1., 1.]))"
      ]
     },
     "execution_count": 226,
     "metadata": {},
     "output_type": "execute_result"
    }
   ],
   "source": [
    "Xtrain[:, 1:] = (Xtrain[:, 1:] - Xmeans) / Xstds\n",
    "np.mean(Xtrain, axis=0), np.std(Xtrain, axis=0)"
   ]
  },
  {
   "cell_type": "code",
   "execution_count": 227,
   "metadata": {},
   "outputs": [
    {
     "data": {
      "text/plain": [
       "(7,)"
      ]
     },
     "execution_count": 227,
     "metadata": {},
     "output_type": "execute_result"
    }
   ],
   "source": [
    "Xmeans.shape"
   ]
  },
  {
   "cell_type": "code",
   "execution_count": 228,
   "metadata": {},
   "outputs": [],
   "source": [
    "Xtest[:, 1:] = (Xtest[:, 1:] - Xmeans) / Xstds"
   ]
  },
  {
   "cell_type": "code",
   "execution_count": 229,
   "metadata": {
    "scrolled": false
   },
   "outputs": [
    {
     "name": "stdout",
     "output_type": "stream",
     "text": [
      "Epoch 1 RMSE 20.86\n",
      "Epoch 2 RMSE 15.22\n",
      "Epoch 3 RMSE 11.39\n",
      "Epoch 4 RMSE 8.68\n",
      "Epoch 5 RMSE 6.80\n",
      "Epoch 6 RMSE 5.54\n",
      "Epoch 7 RMSE 4.73\n",
      "Epoch 8 RMSE 4.23\n",
      "Epoch 9 RMSE 3.94\n",
      "Epoch 10 RMSE 3.77\n",
      "Epoch 11 RMSE 3.67\n",
      "Epoch 12 RMSE 3.61\n",
      "Epoch 13 RMSE 3.58\n",
      "Epoch 14 RMSE 3.56\n",
      "Epoch 15 RMSE 3.55\n",
      "Epoch 16 RMSE 3.54\n",
      "Epoch 17 RMSE 3.53\n",
      "Epoch 18 RMSE 3.52\n",
      "Epoch 19 RMSE 3.52\n",
      "Epoch 20 RMSE 3.51\n",
      "Epoch 21 RMSE 3.51\n",
      "Epoch 22 RMSE 3.51\n",
      "Epoch 23 RMSE 3.50\n",
      "Epoch 24 RMSE 3.50\n",
      "Epoch 25 RMSE 3.50\n",
      "Epoch 26 RMSE 3.49\n",
      "Epoch 27 RMSE 3.49\n",
      "Epoch 28 RMSE 3.49\n",
      "Epoch 29 RMSE 3.48\n",
      "Epoch 30 RMSE 3.48\n",
      "Epoch 31 RMSE 3.48\n",
      "Epoch 32 RMSE 3.48\n",
      "Epoch 33 RMSE 3.47\n",
      "Epoch 34 RMSE 3.47\n",
      "Epoch 35 RMSE 3.47\n",
      "Epoch 36 RMSE 3.47\n",
      "Epoch 37 RMSE 3.47\n",
      "Epoch 38 RMSE 3.46\n",
      "Epoch 39 RMSE 3.46\n",
      "Epoch 40 RMSE 3.46\n",
      "Epoch 41 RMSE 3.46\n",
      "Epoch 42 RMSE 3.46\n",
      "Epoch 43 RMSE 3.46\n",
      "Epoch 44 RMSE 3.45\n",
      "Epoch 45 RMSE 3.45\n",
      "Epoch 46 RMSE 3.45\n",
      "Epoch 47 RMSE 3.45\n",
      "Epoch 48 RMSE 3.45\n",
      "Epoch 49 RMSE 3.45\n",
      "Epoch 50 RMSE 3.45\n",
      "[[ 2.32768040e+01]\n",
      " [-3.47712422e-01]\n",
      " [ 2.38547553e-01]\n",
      " [-1.14817422e+00]\n",
      " [-4.00369282e+00]\n",
      " [-2.04504373e-02]\n",
      " [ 2.66932473e+00]\n",
      " [ 1.05982541e+00]]\n"
     ]
    }
   ],
   "source": [
    "learning_rate = 0.001\n",
    "n_epochs = 50\n",
    "\n",
    "n_samples, n_inputs = Xtrain.shape  # number of rows in data equals the number of samples\n",
    "\n",
    "w = np.zeros((n_inputs, 1))                # initialize the weights to zeros\n",
    "\n",
    "for epoch in range(n_epochs):             # train for this many epochs, or passes through the data set\n",
    "    sqerror_sum = 0\n",
    "\n",
    "    for n in range(n_samples):\n",
    "        y = Xtrain[n:n + 1, :] @ w      # predicted value, y, for sample n\n",
    "        error = Ttrain[n:n + 1, :] - y  \n",
    "        # update weights by fraction of negative derivative of square error with respect to weights\n",
    "        # print(y.shape, error.shape, (X1[n:n+1,:].T * error).shape)\n",
    "        w += learning_rate * Xtrain[n:n + 1, :].T * error\n",
    "        sqerror_sum += error ** 2\n",
    "\n",
    "    rmse = np.sqrt(sqerror_sum / n_samples)\n",
    "    rmse = rmse[0, 0]  # because rmse is 1x1 matrix\n",
    "    print(f'Epoch {epoch + 1} RMSE {rmse:.2f}')\n",
    "        \n",
    "print(w)"
   ]
  },
  {
   "cell_type": "code",
   "execution_count": 230,
   "metadata": {},
   "outputs": [
    {
     "data": {
      "text/plain": [
       "((78, 1), (78, 1))"
      ]
     },
     "execution_count": 230,
     "metadata": {},
     "output_type": "execute_result"
    }
   ],
   "source": [
    "predict = Xtest @ w\n",
    "predict.shape, Ttest.shape"
   ]
  },
  {
   "cell_type": "code",
   "execution_count": 231,
   "metadata": {},
   "outputs": [
    {
     "name": "stdout",
     "output_type": "stream",
     "text": [
      "  P     T  \n",
      "30.02 29.00\n",
      "12.29 13.00\n",
      "13.77 16.50\n",
      "26.09 28.00\n"
     ]
    }
   ],
   "source": [
    "print('{:^5} {:^5}'.format('P', 'T'))\n",
    "for (p, t) in zip(predict, Ttest[0:4, :]):\n",
    "    # print(p,t)\n",
    "    print('{:5.2f} {:5.2f}'.format(p[0], t[0]))"
   ]
  },
  {
   "cell_type": "markdown",
   "metadata": {},
   "source": [
    "Let's try all of the test data and plot the results."
   ]
  },
  {
   "cell_type": "code",
   "execution_count": 232,
   "metadata": {},
   "outputs": [
    {
     "data": {
      "text/plain": [
       "((78, 1), (78, 1))"
      ]
     },
     "execution_count": 232,
     "metadata": {},
     "output_type": "execute_result"
    }
   ],
   "source": [
    "predict = Xtest @ w\n",
    "predict.shape, Ttest.shape"
   ]
  },
  {
   "cell_type": "code",
   "execution_count": 233,
   "metadata": {},
   "outputs": [
    {
     "data": {
      "image/png": "[encoded data removed]",
      "text/plain": [
       "<Figure size 432x288 with 1 Axes>"
      ]
     },
     "metadata": {
      "needs_background": "light"
     },
     "output_type": "display_data"
    }
   ],
   "source": [
    "plt.plot(predict, Ttest, 'o')\n",
    "plt.xlabel('Predicted MPG')\n",
    "plt.ylabel('Actual MPG')\n",
    "# add a 45 degree line\n",
    "a = max(min(predict), min(Ttest))\n",
    "b = min(max(predict), max(Ttest))\n",
    "plt.plot([a, b], [a ,b], 'r', linewidth=3, alpha=0.7);"
   ]
  },
  {
   "cell_type": "markdown",
   "metadata": {},
   "source": [
    "That's better.  With standardized variables, results are less sensitive to different values of ```learning_rate```."
   ]
  },
  {
   "cell_type": "markdown",
   "metadata": {},
   "source": [
    "## Importance of Attributes (Input Variables)"
   ]
  },
  {
   "cell_type": "markdown",
   "metadata": {},
   "source": [
    "Here again are the weights we learned before for predicting *mpg*.\n",
    "Can we use these to decide which attibutes are most important for predicting *mpg*?  Can\n",
    "we remove some from the model?\n"
   ]
  },
  {
   "cell_type": "markdown",
   "metadata": {},
   "source": [
    "A weight\n",
    "magnitude is determined not only by the linear relationship between the corresponding input variable with\n",
    "the target, but also by the variable's range.  If we had not standardized the variables, then variables with very small range could result in large magnitude weights, while variables with a large range would result in small magnitude weights.  In that case the magnitudes of the weights cannot be used to judge relative importance of variables.  However, standardized variables does allow us to compare weight magnitudes to choose important variables.\n",
    "\n",
    "Let's see what the ranges of our standardized variables are."
   ]
  },
  {
   "cell_type": "code",
   "execution_count": 234,
   "metadata": {},
   "outputs": [
    {
     "name": "stdout",
     "output_type": "stream",
     "text": [
      "bias             1.0,     1.0\n",
      "cylinders       -1.5,     1.4\n",
      "displacement    -1.2,     2.4\n",
      "horsepower      -1.5,     3.2\n",
      "weight          -1.6,     2.5\n",
      "acceleration    -2.7,     3.3\n",
      "year            -1.6,     1.7\n",
      "origin          -0.7,     1.8\n"
     ]
    }
   ],
   "source": [
    "mins = np.min(Xtrain, axis=0)\n",
    "maxs = np.max(Xtrain, axis=0)\n",
    "for vi in range(Xtrain.shape[1]):\n",
    "    print(f\"{Xnames[vi]:12} {mins[vi]:7.1f}, {maxs[vi]:7.1f}\")"
   ]
  },
  {
   "cell_type": "code",
   "execution_count": 240,
   "metadata": {},
   "outputs": [
    {
     "data": {
      "text/plain": [
       "array([[ 2.32768040e+01],\n",
       "       [-3.47712422e-01],\n",
       "       [ 2.38547553e-01],\n",
       "       [-1.14817422e+00],\n",
       "       [-4.00369282e+00],\n",
       "       [-2.04504373e-02],\n",
       "       [ 2.66932473e+00],\n",
       "       [ 1.05982541e+00]])"
      ]
     },
     "execution_count": 240,
     "metadata": {},
     "output_type": "execute_result"
    }
   ],
   "source": [
    "w"
   ]
  },
  {
   "cell_type": "code",
   "execution_count": 241,
   "metadata": {},
   "outputs": [
    {
     "name": "stdout",
     "output_type": "stream",
     "text": [
      "  23.277  bias\n",
      "  -0.348  cylinders\n",
      "   0.239  displacement\n",
      "  -1.148  horsepower\n",
      "  -4.004  weight\n",
      "  -0.020  acceleration\n",
      "   2.669  year\n",
      "   1.060  origin\n"
     ]
    }
   ],
   "source": [
    "for wi, name in zip(w.flat, Xnames):\n",
    "    print('{:8.3f}  {:s}'.format(wi, name))"
   ]
  },
  {
   "cell_type": "markdown",
   "metadata": {},
   "source": [
    "Now what do you observe about the relative magnitudes?  If you had a ton of input variables, it would be easier to see if we sorted them by their magnitudes."
   ]
  },
  {
   "cell_type": "code",
   "execution_count": 242,
   "metadata": {},
   "outputs": [
    {
     "data": {
      "text/plain": [
       "array([[2.32768040e+01],\n",
       "       [3.47712422e-01],\n",
       "       [2.38547553e-01],\n",
       "       [1.14817422e+00],\n",
       "       [4.00369282e+00],\n",
       "       [2.04504373e-02],\n",
       "       [2.66932473e+00],\n",
       "       [1.05982541e+00]])"
      ]
     },
     "execution_count": 242,
     "metadata": {},
     "output_type": "execute_result"
    }
   ],
   "source": [
    "np.abs(w)"
   ]
  },
  {
   "cell_type": "code",
   "execution_count": 245,
   "metadata": {},
   "outputs": [
    {
     "data": {
      "text/plain": [
       "array([5, 2, 1, 7, 3, 6, 4, 0], dtype=int64)"
      ]
     },
     "execution_count": 245,
     "metadata": {},
     "output_type": "execute_result"
    }
   ],
   "source": [
    "np.argsort(np.abs(w.flat))"
   ]
  },
  {
   "cell_type": "code",
   "execution_count": 246,
   "metadata": {},
   "outputs": [
    {
     "data": {
      "text/plain": [
       "array([0, 4, 6, 3, 7, 1, 2, 5], dtype=int64)"
      ]
     },
     "execution_count": 246,
     "metadata": {},
     "output_type": "execute_result"
    }
   ],
   "source": [
    "np.argsort(np.abs(w.flat))[::-1]  # one way to reverse the order"
   ]
  },
  {
   "cell_type": "code",
   "execution_count": 248,
   "metadata": {},
   "outputs": [
    {
     "name": "stdout",
     "output_type": "stream",
     "text": [
      "  23.277  bias\n",
      "  -4.004  weight\n",
      "   2.669  year\n",
      "  -1.148  horsepower\n",
      "   1.060  origin\n",
      "  -0.348  cylinders\n",
      "   0.239  displacement\n",
      "  -0.020  acceleration\n"
     ]
    }
   ],
   "source": [
    "sortedOrder = np.argsort(np.abs(w.flat))[::-1]\n",
    "Xnames = np.array(Xnames)\n",
    "for wi, name in zip(w.flat[sortedOrder], Xnames[sortedOrder]):\n",
    "    print(f'{wi:8.3f}  {name:s}')"
   ]
  },
  {
   "cell_type": "markdown",
   "metadata": {},
   "source": [
    "Does this order correspond to what you would expect for predicting *mpg*?  Positive weights indicate that the corresponding variable is positively correlated to *mpg*, while negative ones indicate a negative correlation.\n",
    "\n",
    "Which variables might you try removing from the input variables to see if the results are better?"
   ]
  },
  {
   "cell_type": "markdown",
   "metadata": {},
   "source": [
    "## Multiple Target Components"
   ]
  },
  {
   "cell_type": "markdown",
   "metadata": {},
   "source": [
    "The beauty of matrix equations now shines.   Previously $T$ was an $N\n",
    "\\times 1$ matrix of target \n",
    "values, one per sample.  \n",
    "\n",
    "Just add additional columns of target values for each\n",
    "target component.  So $T$ becomes an $N \\times K$ matrix,\n",
    "if there are $K$ output components.  Each row is one\n",
    "$K$-dimensional sample.  \n",
    "\n",
    "Let's use this to predict miles per gallon **and** horsepower.\n",
    "\n",
    "First, let's assemble the data for predicting MPG and HP."
   ]
  },
  {
   "cell_type": "code",
   "execution_count": 249,
   "metadata": {},
   "outputs": [
    {
     "name": "stdout",
     "output_type": "stream",
     "text": [
      "(392, 6)\n",
      "['cylinders' 'displacement' 'weight' 'acceleration' 'year' 'origin']\n",
      "(392, 2)\n",
      "['mpg', 'horsepower']\n"
     ]
    }
   ],
   "source": [
    "X = data[:, [1, 2, 4, 5, 6, 7]]\n",
    "T = data[:, [0, 3]]\n",
    "\n",
    "Tnames = [names[0], names[3]]\n",
    "Xnames = np.array(names)[[1, 2, 4, 5, 6, 7]]\n",
    "\n",
    "print(X.shape)\n",
    "print(Xnames)\n",
    "print(T.shape)\n",
    "print(Tnames)"
   ]
  },
  {
   "cell_type": "code",
   "execution_count": 250,
   "metadata": {},
   "outputs": [
    {
     "data": {
      "text/plain": [
       "((314, 6), (314, 2), (78, 6), (78, 2))"
      ]
     },
     "execution_count": 250,
     "metadata": {},
     "output_type": "execute_result"
    }
   ],
   "source": [
    "Xtrain = X[trainIndices, :]\n",
    "Ttrain = T[trainIndices, :]\n",
    "Xtest = X[testIndices, :]\n",
    "Ttest = T[testIndices, :]\n",
    "Xtrain.shape, Ttrain.shape, Xtest.shape, Ttest.shape"
   ]
  },
  {
   "cell_type": "code",
   "execution_count": 251,
   "metadata": {},
   "outputs": [
    {
     "data": {
      "text/plain": [
       "array(['bias', 'cylinders', 'displacement', 'weight', 'acceleration',\n",
       "       'year', 'origin'], dtype='<U12')"
      ]
     },
     "execution_count": 251,
     "metadata": {},
     "output_type": "execute_result"
    }
   ],
   "source": [
    "Xmeans = Xtrain.mean(axis=0)\n",
    "Xstds = Xtrain.std(axis=0)\n",
    "Xtrain = (Xtrain - Xmeans) / Xstds\n",
    "Xtest = (Xtest - Xmeans) / Xstds\n",
    "\n",
    "Xtrain = np.insert(Xtrain, 0, 1, 1)\n",
    "Xtest = np.insert(Xtest, 0, 1, 1)\n",
    "\n",
    "Xnames = np.insert(Xnames, 0, 'bias', 0)\n",
    "Xnames"
   ]
  },
  {
   "cell_type": "code",
   "execution_count": 253,
   "metadata": {},
   "outputs": [
    {
     "data": {
      "text/plain": [
       "((314, 7), (314, 2))"
      ]
     },
     "execution_count": 253,
     "metadata": {},
     "output_type": "execute_result"
    }
   ],
   "source": [
    "Xtrain.shape, Ttrain.shape"
   ]
  },
  {
   "cell_type": "markdown",
   "metadata": {},
   "source": [
    "Now we can train our linear model to predict both *mpg* and *horsepower*."
   ]
  },
  {
   "cell_type": "code",
   "execution_count": 264,
   "metadata": {
    "scrolled": false
   },
   "outputs": [
    {
     "name": "stdout",
     "output_type": "stream",
     "text": [
      "Epoch 1 RMSE 24.13\n",
      "Epoch 2 RMSE 23.28\n",
      "Epoch 3 RMSE 22.47\n",
      "Epoch 4 RMSE 21.71\n",
      "Epoch 5 RMSE 20.99\n",
      "Epoch 6 RMSE 20.30\n",
      "Epoch 7 RMSE 19.65\n",
      "Epoch 8 RMSE 19.03\n",
      "Epoch 9 RMSE 18.43\n",
      "Epoch 10 RMSE 17.86\n",
      "Epoch 11 RMSE 17.31\n",
      "Epoch 12 RMSE 16.79\n",
      "Epoch 13 RMSE 16.28\n",
      "Epoch 14 RMSE 15.79\n",
      "Epoch 15 RMSE 15.32\n",
      "Epoch 16 RMSE 14.87\n",
      "Epoch 17 RMSE 14.43\n",
      "Epoch 18 RMSE 14.01\n",
      "Epoch 19 RMSE 13.61\n",
      "Epoch 20 RMSE 13.21\n",
      "Epoch 21 RMSE 12.84\n",
      "Epoch 22 RMSE 12.47\n",
      "Epoch 23 RMSE 12.12\n",
      "Epoch 24 RMSE 11.78\n",
      "Epoch 25 RMSE 11.45\n",
      "Epoch 26 RMSE 11.13\n",
      "Epoch 27 RMSE 10.82\n",
      "Epoch 28 RMSE 10.53\n",
      "Epoch 29 RMSE 10.24\n",
      "Epoch 30 RMSE 9.96\n",
      "Epoch 31 RMSE 9.70\n",
      "Epoch 32 RMSE 9.44\n",
      "Epoch 33 RMSE 9.19\n",
      "Epoch 34 RMSE 8.96\n",
      "Epoch 35 RMSE 8.72\n",
      "Epoch 36 RMSE 8.50\n",
      "Epoch 37 RMSE 8.29\n",
      "Epoch 38 RMSE 8.08\n",
      "Epoch 39 RMSE 7.88\n",
      "Epoch 40 RMSE 7.69\n",
      "Epoch 41 RMSE 7.51\n",
      "Epoch 42 RMSE 7.33\n",
      "Epoch 43 RMSE 7.16\n",
      "Epoch 44 RMSE 7.00\n",
      "Epoch 45 RMSE 6.84\n",
      "Epoch 46 RMSE 6.69\n",
      "Epoch 47 RMSE 6.54\n",
      "Epoch 48 RMSE 6.40\n",
      "Epoch 49 RMSE 6.27\n",
      "Epoch 50 RMSE 6.14\n",
      "[[ 18.4334677   83.76916261]\n",
      " [ -1.3521596    7.71599419]\n",
      " [ -1.47228887   9.75581354]\n",
      " [ -2.15714135  10.28415761]\n",
      " [  0.4527205  -10.23703705]\n",
      " [  2.17022103  -4.31617736]\n",
      " [  1.00731429  -0.38346168]]\n"
     ]
    }
   ],
   "source": [
    "learning_rate = 0.0001    # notice the much higher learning rate!\n",
    "n_epochs = 50\n",
    "\n",
    "n_samples, n_inputs = Xtrain.shape  # number of rows in data equals the number of samples\n",
    "\n",
    "w = np.zeros((n_inputs, 2))               # initialize the weights to zeros. NOTICE HOW HAS 2 COLUMNS\n",
    "\n",
    "for epoch in range(n_epochs):             # train for this many epochs, or passes through the data set\n",
    "    sqerror_sum = 0\n",
    "\n",
    "    for n in range(n_samples):\n",
    "        y = Xtrain[n:n + 1, :] @ w      # predicted value, y, for sample n\n",
    "        error = Ttrain[n:n + 1, :] - y  \n",
    "        # update weights by fraction of negative derivative of square error with respect to weights\n",
    "        # print(y.shape, error.shape, (X1[n:n+1,:].T * error).shape)\n",
    "        w += learning_rate * Xtrain[n:n + 1, :].T * error\n",
    "        sqerror_sum += error ** 2\n",
    "\n",
    "    rmse = np.sqrt(sqerror_sum / n_samples)\n",
    "    rmse = rmse[0, 0]  # because rmse is 1x1 matrix\n",
    "    print(f'Epoch {epoch + 1} RMSE {rmse:.2f}')\n",
    "        \n",
    "print(w)"
   ]
  },
  {
   "cell_type": "code",
   "execution_count": 265,
   "metadata": {},
   "outputs": [
    {
     "name": "stdout",
     "output_type": "stream",
     "text": [
      "\n",
      " Weights for mpg target\n",
      "\n",
      "  18.433  bias\n",
      "   2.170  year\n",
      "  -2.157  weight\n",
      "  -1.472  displacement\n",
      "  -1.352  cylinders\n",
      "   1.007  origin\n",
      "   0.453  acceleration\n",
      "\n",
      " Weights for horsepower target\n",
      "\n",
      "  83.769  bias\n",
      "  10.284  weight\n",
      " -10.237  acceleration\n",
      "   9.756  displacement\n",
      "   7.716  cylinders\n",
      "  -4.316  year\n",
      "  -0.383  origin\n"
     ]
    }
   ],
   "source": [
    "Xnames = np.array(Xnames)\n",
    "for targeti in range(2):\n",
    "    print('\\n Weights for {} target\\n'.format(Tnames[targeti]))\n",
    "    thisw = w[:, targeti]\n",
    "    sortedOrder = np.argsort(np.abs(thisw))[::-1]\n",
    "    for wi ,name in zip(thisw[sortedOrder], Xnames[sortedOrder]):\n",
    "        print(f'{wi:8.3f}  {name:s}')"
   ]
  },
  {
   "cell_type": "markdown",
   "metadata": {},
   "source": [
    "Now let's use our single model to predict both mpg and horsepower."
   ]
  },
  {
   "cell_type": "code",
   "execution_count": 266,
   "metadata": {},
   "outputs": [
    {
     "data": {
      "text/plain": [
       "(78, 2)"
      ]
     },
     "execution_count": 266,
     "metadata": {},
     "output_type": "execute_result"
    }
   ],
   "source": [
    "prediction = Xtest @ w\n",
    "prediction.shape"
   ]
  },
  {
   "cell_type": "code",
   "execution_count": 267,
   "metadata": {},
   "outputs": [
    {
     "data": {
      "image/png": "[encoded data removed]",
      "text/plain": [
       "<Figure size 720x720 with 2 Axes>"
      ]
     },
     "metadata": {
      "needs_background": "light"
     },
     "output_type": "display_data"
    }
   ],
   "source": [
    "plt.figure(figsize=(10,10))\n",
    "for p in range(2):\n",
    "    plt.subplot(2, 1, p + 1)\n",
    "    plt.plot(prediction[:, p], Ttest[:, p], 'o')\n",
    "    plt.xlabel(\"Predicted \" + Tnames[p])\n",
    "    plt.ylabel(\"Actual \" + Tnames[p])\n",
    "    a = max(min(prediction[:, p]), min(Ttest[:, p]))\n",
    "    b = min(max(prediction[:, p]), max(Ttest[:, p]))\n",
    "    plt.plot([a, b], [a, b], 'r', linewidth=3)"
   ]
  },
  {
   "cell_type": "markdown",
   "metadata": {},
   "source": [
    "How well did we do in terms of RMSE?"
   ]
  },
  {
   "cell_type": "code",
   "execution_count": 268,
   "metadata": {},
   "outputs": [
    {
     "data": {
      "text/plain": [
       "array([ 6.07746067, 25.87120362])"
      ]
     },
     "execution_count": 268,
     "metadata": {},
     "output_type": "execute_result"
    }
   ],
   "source": [
    "rmseTrain = np.sqrt(np.mean((Xtrain @ w - Ttrain)**2, axis=0))\n",
    "rmseTrain"
   ]
  },
  {
   "cell_type": "code",
   "execution_count": 269,
   "metadata": {},
   "outputs": [
    {
     "data": {
      "text/plain": [
       "array([ 5.74959221, 23.73844936])"
      ]
     },
     "execution_count": 269,
     "metadata": {},
     "output_type": "execute_result"
    }
   ],
   "source": [
    "rmseTest = np.sqrt(np.mean((Xtest @ w - Ttest)**2, axis=0))\n",
    "rmseTest"
   ]
  },
  {
   "cell_type": "code",
   "execution_count": 270,
   "metadata": {},
   "outputs": [
    {
     "name": "stdout",
     "output_type": "stream",
     "text": [
      "Training RMSE: MPG 6.08 HP 25.87\n",
      "Testing RMSE: MPG 5.75 HP 23.74\n"
     ]
    }
   ],
   "source": [
    "print('Training RMSE: MPG {:4.2f} HP {:4.2f}'.format(*rmseTrain))   #what is that * doing there??\n",
    "print('Testing RMSE: MPG {:4.2f} HP {:4.2f}'.format(*rmseTest))"
   ]
  },
  {
   "cell_type": "markdown",
   "metadata": {},
   "source": [
    "What is that * doing there?"
   ]
  },
  {
   "cell_type": "code",
   "execution_count": 274,
   "metadata": {},
   "outputs": [],
   "source": [
    "def foo(x,y,z):\n",
    "    print(\"x: \",x)\n",
    "    print(\"y: \",y)\n",
    "    print(\"z: \",z)"
   ]
  },
  {
   "cell_type": "code",
   "execution_count": 275,
   "metadata": {},
   "outputs": [
    {
     "ename": "TypeError",
     "evalue": "foo() missing 2 required positional arguments: 'y' and 'z'",
     "output_type": "error",
     "traceback": [
      "\u001b[1;31m---------------------------------------------------------------------------\u001b[0m",
      "\u001b[1;31mTypeError\u001b[0m                                 Traceback (most recent call last)",
      "\u001b[1;32m<ipython-input-275-2126f63c7cf6>\u001b[0m in \u001b[0;36m<module>\u001b[1;34m\u001b[0m\n\u001b[0;32m      1\u001b[0m \u001b[0mlst\u001b[0m \u001b[1;33m=\u001b[0m \u001b[1;33m[\u001b[0m\u001b[1;36m1\u001b[0m\u001b[1;33m,\u001b[0m\u001b[1;36m2\u001b[0m\u001b[1;33m,\u001b[0m\u001b[1;36m3\u001b[0m\u001b[1;33m]\u001b[0m\u001b[1;33m\u001b[0m\u001b[1;33m\u001b[0m\u001b[0m\n\u001b[1;32m----> 2\u001b[1;33m \u001b[0mfoo\u001b[0m\u001b[1;33m(\u001b[0m\u001b[0mlst\u001b[0m\u001b[1;33m)\u001b[0m\u001b[1;33m\u001b[0m\u001b[1;33m\u001b[0m\u001b[0m\n\u001b[0m",
      "\u001b[1;31mTypeError\u001b[0m: foo() missing 2 required positional arguments: 'y' and 'z'"
     ]
    }
   ],
   "source": [
    "lst = [1,2,3]\n",
    "foo(lst)"
   ]
  },
  {
   "cell_type": "code",
   "execution_count": 276,
   "metadata": {},
   "outputs": [
    {
     "name": "stdout",
     "output_type": "stream",
     "text": [
      "x:  1\n",
      "y:  2\n",
      "z:  3\n"
     ]
    }
   ],
   "source": [
    "foo(*lst)"
   ]
  },
  {
   "cell_type": "markdown",
   "metadata": {},
   "source": [
    "Anyway, looks like we have a bigger error for HP.  But maybe this is due to large range of HP."
   ]
  },
  {
   "cell_type": "code",
   "execution_count": 277,
   "metadata": {},
   "outputs": [
    {
     "data": {
      "text/plain": [
       "(array([11., 49.]), array([ 40.8, 215. ]))"
      ]
     },
     "execution_count": 277,
     "metadata": {},
     "output_type": "execute_result"
    }
   ],
   "source": [
    "Ttest.min(0), Ttest.max(0) # print min and max of each target in testing data"
   ]
  },
  {
   "cell_type": "code",
   "execution_count": 280,
   "metadata": {},
   "outputs": [
    {
     "name": "stdout",
     "output_type": "stream",
     "text": [
      "MPG goes from 11.0-40.8, HP goes from 49.0-215.0\n"
     ]
    }
   ],
   "source": [
    "print(\"MPG goes from %4s-%4s, HP goes from %4s-%4s\" % (Ttest.min(0)[0],Ttest.max(0)[0],Ttest.min(0)[1],Ttest.max(0)[1]))"
   ]
  },
  {
   "cell_type": "code",
   "execution_count": null,
   "metadata": {},
   "outputs": [],
   "source": []
  }
 ],
 "metadata": {
  "kernelspec": {
   "display_name": "Python 3",
   "language": "python",
   "name": "python3"
  },
  "language_info": {
   "codemirror_mode": {
    "name": "ipython",
    "version": 3
   },
   "file_extension": ".py",
   "mimetype": "text/x-python",
   "name": "python",
   "nbconvert_exporter": "python",
   "pygments_lexer": "ipython3",
   "version": "3.8.5"
  }
 },
 "nbformat": 4,
 "nbformat_minor": 2
}
